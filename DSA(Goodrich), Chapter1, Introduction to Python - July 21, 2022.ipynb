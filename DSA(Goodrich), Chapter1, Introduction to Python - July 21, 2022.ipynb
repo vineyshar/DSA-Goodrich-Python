{
 "cells": [
  {
   "cell_type": "markdown",
   "id": "d5545a08",
   "metadata": {},
   "source": [
    "# 1.1 Python Overview\n",
    "## Python is a high level language, developed in early 90s by Guido Van Rossum https://www.python.org/\n",
    "\n",
    "### Python 3.0 was released in 2008\n",
    "### It's an interpreted language. \n",
    "### Interpreter can be used interactively (like what we will be doing now) or can be used after writing our codes in a file with extension .py\n",
    "### We can run python from command line or use different IDE for python\n",
    "#### IDLE comes bundled with python downlaod; VS code, pycharm are other popular one\n",
    "#### The one you are seeing is Jupyter notebook (https://jupyter.org/)"
   ]
  },
  {
   "cell_type": "code",
   "execution_count": 4,
   "id": "bf40664f",
   "metadata": {},
   "outputs": [
    {
     "name": "stdout",
     "output_type": "stream",
     "text": [
      "Welcome to Python and DSA\n"
     ]
    }
   ],
   "source": [
    "print('Welcome to Python and DSA')"
   ]
  },
  {
   "cell_type": "markdown",
   "id": "e3217004",
   "metadata": {},
   "source": [
    "# Lets take a small tour of Python, various IDEs and Jupyter Notebook"
   ]
  },
  {
   "cell_type": "markdown",
   "id": "45c2e23d",
   "metadata": {},
   "source": [
    "# Expectation from participants - \n",
    "### Please download latest version of python with IDE of your choice. \n",
    "### A good option is anaconda- https://www.anaconda.com/products/distribution - comes with preinstalled DS/ML libraries and Jupyter notebook"
   ]
  },
  {
   "cell_type": "code",
   "execution_count": 6,
   "id": "8924c4c9",
   "metadata": {},
   "outputs": [
    {
     "name": "stdout",
     "output_type": "stream",
     "text": [
      "lions says: Humans are tasty\n",
      "Again\n",
      "cheetah says: Humans are tasty\n",
      "Again\n",
      "python says: Humans are tasty\n",
      "Again\n"
     ]
    }
   ],
   "source": [
    "# comment and white spaces,indentation effect and command continuing into next line \n",
    "\n",
    "for animal in ['lions', 'cheetah', 'py\\\n",
    "thon']:\n",
    "    print(animal, 'says:', 'Humans are tasty')\n",
    "    print('Again')"
   ]
  },
  {
   "cell_type": "markdown",
   "id": "2764cfe2",
   "metadata": {},
   "source": [
    "# 1.2 Objects in Python\n",
    "\n",
    "## Everything is an object in Python\n",
    "\n",
    "## Classes form the basis of all data types"
   ]
  },
  {
   "cell_type": "markdown",
   "id": "f27c051c",
   "metadata": {},
   "source": [
    "#1.2.1 Identifiers, Objects and assignment statements "
   ]
  },
  {
   "cell_type": "code",
   "execution_count": 7,
   "id": "9b0a2332",
   "metadata": {},
   "outputs": [],
   "source": [
    " weather = 'raining'"
   ]
  },
  {
   "cell_type": "code",
   "execution_count": 12,
   "id": "aa1cdc61",
   "metadata": {},
   "outputs": [],
   "source": [
    "weather = (2,3)"
   ]
  },
  {
   "cell_type": "code",
   "execution_count": 13,
   "id": "65072330",
   "metadata": {},
   "outputs": [
    {
     "data": {
      "text/plain": [
       "tuple"
      ]
     },
     "execution_count": 13,
     "metadata": {},
     "output_type": "execute_result"
    }
   ],
   "source": [
    "type(weather)"
   ]
  },
  {
   "cell_type": "code",
   "execution_count": 14,
   "id": "c39e413d",
   "metadata": {},
   "outputs": [],
   "source": [
    "weather = 10"
   ]
  },
  {
   "cell_type": "code",
   "execution_count": 15,
   "id": "d7af0339",
   "metadata": {},
   "outputs": [
    {
     "data": {
      "text/plain": [
       "int"
      ]
     },
     "execution_count": 15,
     "metadata": {},
     "output_type": "execute_result"
    }
   ],
   "source": [
    "type(weather)"
   ]
  },
  {
   "cell_type": "code",
   "execution_count": 17,
   "id": "d16c1bb8",
   "metadata": {},
   "outputs": [],
   "source": [
    "we_ther = 'cool'"
   ]
  },
  {
   "cell_type": "code",
   "execution_count": 18,
   "id": "742d0f5c",
   "metadata": {},
   "outputs": [],
   "source": [
    "_weather = 'cool'"
   ]
  },
  {
   "cell_type": "code",
   "execution_count": 19,
   "id": "e46ae426",
   "metadata": {},
   "outputs": [
    {
     "ename": "SyntaxError",
     "evalue": "invalid syntax (1903678053.py, line 1)",
     "output_type": "error",
     "traceback": [
      "\u001b[1;36m  Input \u001b[1;32mIn [19]\u001b[1;36m\u001b[0m\n\u001b[1;33m    10weather = 4\u001b[0m\n\u001b[1;37m      ^\u001b[0m\n\u001b[1;31mSyntaxError\u001b[0m\u001b[1;31m:\u001b[0m invalid syntax\n"
     ]
    }
   ],
   "source": [
    "10weather = 4"
   ]
  },
  {
   "cell_type": "code",
   "execution_count": 23,
   "id": "c365f604",
   "metadata": {},
   "outputs": [],
   "source": [
    "weather = 4000"
   ]
  },
  {
   "cell_type": "code",
   "execution_count": 24,
   "id": "c5f9c5df",
   "metadata": {},
   "outputs": [
    {
     "data": {
      "text/plain": [
       "2735145588528"
      ]
     },
     "execution_count": 24,
     "metadata": {},
     "output_type": "execute_result"
    }
   ],
   "source": [
    "id(4000)"
   ]
  },
  {
   "cell_type": "markdown",
   "id": "89443706",
   "metadata": {},
   "source": [
    "#Question - Small Integer Caching and Decimal Numbers are represented in Binary"
   ]
  },
  {
   "cell_type": "code",
   "execution_count": 26,
   "id": "475039fc",
   "metadata": {},
   "outputs": [
    {
     "data": {
      "text/plain": [
       "2735062477200"
      ]
     },
     "execution_count": 26,
     "metadata": {},
     "output_type": "execute_result"
    }
   ],
   "source": [
    "id(4)"
   ]
  },
  {
   "cell_type": "code",
   "execution_count": 27,
   "id": "91050cc8",
   "metadata": {},
   "outputs": [
    {
     "data": {
      "text/plain": [
       "2735062477200"
      ]
     },
     "execution_count": 27,
     "metadata": {},
     "output_type": "execute_result"
    }
   ],
   "source": [
    "weather = 4\n",
    "id(weather)"
   ]
  },
  {
   "cell_type": "code",
   "execution_count": 33,
   "id": "2d2d019e",
   "metadata": {},
   "outputs": [],
   "source": [
    "alias = weather = 4"
   ]
  },
  {
   "cell_type": "code",
   "execution_count": 35,
   "id": "d1bb0eae",
   "metadata": {},
   "outputs": [
    {
     "name": "stdout",
     "output_type": "stream",
     "text": [
      "2735062477200\n",
      "2735062477200\n"
     ]
    }
   ],
   "source": [
    "print(id(alias))\n",
    "print(id(weather))"
   ]
  },
  {
   "cell_type": "code",
   "execution_count": 29,
   "id": "945250c2",
   "metadata": {},
   "outputs": [
    {
     "data": {
      "text/plain": [
       "2735062477200"
      ]
     },
     "execution_count": 29,
     "metadata": {},
     "output_type": "execute_result"
    }
   ],
   "source": [
    "id(alias)"
   ]
  },
  {
   "cell_type": "code",
   "execution_count": 31,
   "id": "71a72e66",
   "metadata": {},
   "outputs": [
    {
     "data": {
      "text/plain": [
       "2735062477232"
      ]
     },
     "execution_count": 31,
     "metadata": {},
     "output_type": "execute_result"
    }
   ],
   "source": [
    "alias = 5\n",
    "id(alias)"
   ]
  },
  {
   "cell_type": "code",
   "execution_count": 32,
   "id": "d9975153",
   "metadata": {},
   "outputs": [
    {
     "data": {
      "text/plain": [
       "2735062477200"
      ]
     },
     "execution_count": 32,
     "metadata": {},
     "output_type": "execute_result"
    }
   ],
   "source": [
    "id(weather)"
   ]
  },
  {
   "cell_type": "code",
   "execution_count": 39,
   "id": "14e4f8cf",
   "metadata": {},
   "outputs": [
    {
     "name": "stdout",
     "output_type": "stream",
     "text": [
      "\n",
      "Here is a list of the Python keywords.  Enter any keyword to get more help.\n",
      "\n",
      "False               break               for                 not\n",
      "None                class               from                or\n",
      "True                continue            global              pass\n",
      "__peg_parser__      def                 if                  raise\n",
      "and                 del                 import              return\n",
      "as                  elif                in                  try\n",
      "assert              else                is                  while\n",
      "async               except              lambda              with\n",
      "await               finally             nonlocal            yield\n",
      "\n"
     ]
    }
   ],
   "source": [
    "help('keywords')"
   ]
  },
  {
   "cell_type": "code",
   "execution_count": null,
   "id": "03d3c230",
   "metadata": {},
   "outputs": [],
   "source": [
    "# Python is dynamically typed language"
   ]
  },
  {
   "cell_type": "markdown",
   "id": "f611cf59",
   "metadata": {},
   "source": [
    "#1.2.2 Creating and Using Objects"
   ]
  },
  {
   "cell_type": "code",
   "execution_count": 40,
   "id": "bf8a8ebe",
   "metadata": {},
   "outputs": [
    {
     "data": {
      "text/plain": [
       "int"
      ]
     },
     "execution_count": 40,
     "metadata": {},
     "output_type": "execute_result"
    }
   ],
   "source": [
    "mango = 70\n",
    "type(mango)"
   ]
  },
  {
   "cell_type": "code",
   "execution_count": 41,
   "id": "1dcfb9c8",
   "metadata": {},
   "outputs": [
    {
     "data": {
      "text/plain": [
       "float"
      ]
     },
     "execution_count": 41,
     "metadata": {},
     "output_type": "execute_result"
    }
   ],
   "source": [
    "mango = 70.0\n",
    "type(mango)"
   ]
  },
  {
   "cell_type": "code",
   "execution_count": 42,
   "id": "44cc6f31",
   "metadata": {},
   "outputs": [
    {
     "data": {
      "text/plain": [
       "str"
      ]
     },
     "execution_count": 42,
     "metadata": {},
     "output_type": "execute_result"
    }
   ],
   "source": [
    "mango = 'seventy'\n",
    "type(mango)"
   ]
  },
  {
   "cell_type": "code",
   "execution_count": 50,
   "id": "40136af5",
   "metadata": {},
   "outputs": [
    {
     "name": "stdout",
     "output_type": "stream",
     "text": [
      "0\n"
     ]
    },
    {
     "data": {
      "text/plain": [
       "int"
      ]
     },
     "execution_count": 50,
     "metadata": {},
     "output_type": "execute_result"
    }
   ],
   "source": [
    "mango = int()\n",
    "print(mango)\n",
    "type(mango)"
   ]
  },
  {
   "cell_type": "code",
   "execution_count": 51,
   "id": "1a745199",
   "metadata": {},
   "outputs": [
    {
     "data": {
      "text/plain": [
       "0"
      ]
     },
     "execution_count": 51,
     "metadata": {},
     "output_type": "execute_result"
    }
   ],
   "source": [
    "second_mango = 0\n",
    "second_mango"
   ]
  },
  {
   "cell_type": "code",
   "execution_count": 52,
   "id": "bd993c24",
   "metadata": {},
   "outputs": [
    {
     "data": {
      "text/plain": [
       "True"
      ]
     },
     "execution_count": 52,
     "metadata": {},
     "output_type": "execute_result"
    }
   ],
   "source": [
    "mango == second_mango"
   ]
  },
  {
   "cell_type": "code",
   "execution_count": 61,
   "id": "4d52b8c2",
   "metadata": {},
   "outputs": [
    {
     "name": "stdout",
     "output_type": "stream",
     "text": [
      "\n",
      "2735062664816\n",
      "\n",
      "2735062664816\n",
      "True\n"
     ]
    },
    {
     "data": {
      "text/plain": [
       "True"
      ]
     },
     "execution_count": 61,
     "metadata": {},
     "output_type": "execute_result"
    }
   ],
   "source": [
    "third_mango = str()\n",
    "\n",
    "print(third_mango)\n",
    "print(id(third_mango))\n",
    "\n",
    "fourth_mango = ''\n",
    "print(fourth_mango)\n",
    "print(id(fourth_mango))\n",
    "\n",
    "print(third_mango == fourth_mango)\n",
    "\n",
    "id(third_mango) == id(fourth_mango)\n"
   ]
  },
  {
   "cell_type": "code",
   "execution_count": 60,
   "id": "61dc0b76",
   "metadata": {},
   "outputs": [
    {
     "name": "stdout",
     "output_type": "stream",
     "text": [
      "2735174159984\n",
      "2735062664816\n"
     ]
    }
   ],
   "source": [
    "print(id('Langda'))\n",
    "print(id(''))"
   ]
  },
  {
   "cell_type": "code",
   "execution_count": 62,
   "id": "10518995",
   "metadata": {},
   "outputs": [
    {
     "data": {
      "text/plain": [
       "6"
      ]
     },
     "execution_count": 62,
     "metadata": {},
     "output_type": "execute_result"
    }
   ],
   "source": [
    "2*3"
   ]
  },
  {
   "cell_type": "code",
   "execution_count": 67,
   "id": "92a8aa74",
   "metadata": {},
   "outputs": [
    {
     "data": {
      "text/plain": [
       "4"
      ]
     },
     "execution_count": 67,
     "metadata": {},
     "output_type": "execute_result"
    }
   ],
   "source": [
    "int('two')"
   ]
  },
  {
   "cell_type": "code",
   "execution_count": 68,
   "id": "4aa0918f",
   "metadata": {},
   "outputs": [
    {
     "data": {
      "text/plain": [
       "4"
      ]
     },
     "execution_count": 68,
     "metadata": {},
     "output_type": "execute_result"
    }
   ],
   "source": [
    "int(4.5)"
   ]
  },
  {
   "cell_type": "code",
   "execution_count": 69,
   "id": "5f18af12",
   "metadata": {},
   "outputs": [
    {
     "data": {
      "text/plain": [
       "'2'"
      ]
     },
     "execution_count": 69,
     "metadata": {},
     "output_type": "execute_result"
    }
   ],
   "source": [
    "str(2)"
   ]
  },
  {
   "cell_type": "code",
   "execution_count": 70,
   "id": "be976c03",
   "metadata": {},
   "outputs": [
    {
     "data": {
      "text/plain": [
       "'2222'"
      ]
     },
     "execution_count": 70,
     "metadata": {},
     "output_type": "execute_result"
    }
   ],
   "source": [
    "str(2) * 4"
   ]
  },
  {
   "cell_type": "code",
   "execution_count": 71,
   "id": "136be73f",
   "metadata": {},
   "outputs": [
    {
     "data": {
      "text/plain": [
       "2222"
      ]
     },
     "execution_count": 71,
     "metadata": {},
     "output_type": "execute_result"
    }
   ],
   "source": [
    "int('2222')"
   ]
  },
  {
   "cell_type": "code",
   "execution_count": 72,
   "id": "78e1b18d",
   "metadata": {},
   "outputs": [
    {
     "data": {
      "text/plain": [
       "0.0"
      ]
     },
     "execution_count": 72,
     "metadata": {},
     "output_type": "execute_result"
    }
   ],
   "source": [
    "float()"
   ]
  },
  {
   "cell_type": "code",
   "execution_count": 75,
   "id": "63329aa1",
   "metadata": {},
   "outputs": [
    {
     "name": "stdout",
     "output_type": "stream",
     "text": [
      "Bits\n",
      "BITS\n"
     ]
    }
   ],
   "source": [
    "print('bits'.capitalize())\n",
    "print('bits'.upper())\n"
   ]
  },
  {
   "cell_type": "code",
   "execution_count": null,
   "id": "86336755",
   "metadata": {},
   "outputs": [],
   "source": [
    "#1.2.3 Python's built in classes"
   ]
  },
  {
   "cell_type": "code",
   "execution_count": 80,
   "id": "8d1cae33",
   "metadata": {},
   "outputs": [
    {
     "name": "stdout",
     "output_type": "stream",
     "text": [
      "2735062477200\n",
      "2735062477200\n",
      "2735062477232\n",
      "2735062477232\n"
     ]
    }
   ],
   "source": [
    "four = 4\n",
    "print(id(4))\n",
    "print(id(four))\n",
    "\n",
    "four = 5\n",
    "print(id(5))\n",
    "print(id(four))"
   ]
  },
  {
   "cell_type": "code",
   "execution_count": 81,
   "id": "0c5b3982",
   "metadata": {},
   "outputs": [
    {
     "name": "stdout",
     "output_type": "stream",
     "text": [
      "True\n"
     ]
    }
   ],
   "source": [
    "print(True)"
   ]
  },
  {
   "cell_type": "code",
   "execution_count": 86,
   "id": "dd12c171",
   "metadata": {},
   "outputs": [
    {
     "data": {
      "text/plain": [
       "(1, 0)"
      ]
     },
     "execution_count": 86,
     "metadata": {},
     "output_type": "execute_result"
    }
   ],
   "source": [
    "int(True), int(False)"
   ]
  },
  {
   "cell_type": "code",
   "execution_count": 88,
   "id": "de5c9dda",
   "metadata": {},
   "outputs": [
    {
     "data": {
      "text/plain": [
       "[1, 2, 9, 'langda', [2, 'bits']]"
      ]
     },
     "execution_count": 88,
     "metadata": {},
     "output_type": "execute_result"
    }
   ],
   "source": [
    "list = [1,2, 9, 'langda', [2, 'bits']] \n",
    "\n",
    "list"
   ]
  },
  {
   "cell_type": "code",
   "execution_count": 90,
   "id": "782fdc61",
   "metadata": {},
   "outputs": [
    {
     "data": {
      "text/plain": [
       "2"
      ]
     },
     "execution_count": 90,
     "metadata": {},
     "output_type": "execute_result"
    }
   ],
   "source": [
    "#list['start':'stop-1':'step']"
   ]
  },
  {
   "cell_type": "code",
   "execution_count": 92,
   "id": "7c6aa28c",
   "metadata": {},
   "outputs": [
    {
     "data": {
      "text/plain": [
       "[2, 9, 'langda']"
      ]
     },
     "execution_count": 92,
     "metadata": {},
     "output_type": "execute_result"
    }
   ],
   "source": [
    "list[1:4]"
   ]
  },
  {
   "cell_type": "code",
   "execution_count": 94,
   "id": "c0da2064",
   "metadata": {},
   "outputs": [
    {
     "data": {
      "text/plain": [
       "'ag'"
      ]
     },
     "execution_count": 94,
     "metadata": {},
     "output_type": "execute_result"
    }
   ],
   "source": [
    "'mango'[1:4:2]"
   ]
  },
  {
   "cell_type": "code",
   "execution_count": 103,
   "id": "7f758d80",
   "metadata": {},
   "outputs": [
    {
     "data": {
      "text/plain": [
       "list"
      ]
     },
     "execution_count": 103,
     "metadata": {},
     "output_type": "execute_result"
    }
   ],
   "source": [
    "mango_varieties = ['langda', 'dusheri']\n",
    "mango_varieties\n",
    "type(mango_varieties)"
   ]
  },
  {
   "cell_type": "code",
   "execution_count": 104,
   "metadata": {},
   "outputs": [],
   "source": [
    "mango_varieties.append('Neelam')"
   ]
  },
  {
   "cell_type": "code",
   "execution_count": 105,
   "metadata": {},
   "outputs": [
    {
     "data": {
      "text/plain": [
       "['langda', 'dusheri', 'Neelam']"
      ]
     },
     "execution_count": 105,
     "metadata": {},
     "output_type": "execute_result"
    }
   ],
   "source": [
    "mango_varieties"
   ]
  },
  {
   "cell_type": "code",
   "execution_count": 107,
   "id": "2ec4d3bb",
   "metadata": {},
   "outputs": [
    {
     "data": {
      "text/plain": [
       "tuple"
      ]
     },
     "execution_count": 107,
     "metadata": {},
     "output_type": "execute_result"
    }
   ],
   "source": [
    "mango_varieties = ('langda', 'dusheri')\n",
    "\n",
    "type(mango_varieties)"
   ]
  },
  {
   "cell_type": "code",
   "execution_count": 110,
   "id": "68e36694",
   "metadata": {},
   "outputs": [
    {
     "ename": "AttributeError",
     "evalue": "'tuple' object has no attribute 'append'",
     "output_type": "error",
     "traceback": [
      "\u001b[1;31m---------------------------------------------------------------------------\u001b[0m",
      "\u001b[1;31mAttributeError\u001b[0m                            Traceback (most recent call last)",
      "\u001b[1;32md:\\Learn\\git\\DSA-Goodrich-Python\\DSA(Goodrich), Chapter1, Introduction to Python - July 21, 2022.ipynb Cell 57\u001b[0m in \u001b[0;36m<cell line: 1>\u001b[1;34m()\u001b[0m\n\u001b[1;32m----> <a href='vscode-notebook-cell:/d%3A/Learn/git/DSA-Goodrich-Python/DSA%28Goodrich%29%2C%20Chapter1%2C%20Introduction%20to%20Python%20-%20July%2021%2C%202022.ipynb#ch0000067?line=0'>1</a>\u001b[0m mango_varieties\u001b[39m.\u001b[39;49mappend(\u001b[39m'\u001b[39m\u001b[39mNeelam\u001b[39m\u001b[39m'\u001b[39m)\n",
      "\u001b[1;31mAttributeError\u001b[0m: 'tuple' object has no attribute 'append'"
     ]
    }
   ],
   "source": [
    "mango_varieties.append('Neelam')"
   ]
  },
  {
   "cell_type": "markdown",
   "id": "a1c8134a",
   "metadata": {},
   "source": [
    "mango_varieties.append('Neelam')"
   ]
  },
  {
   "cell_type": "code",
   "execution_count": 112,
   "id": "b8f0de7d",
   "metadata": {},
   "outputs": [
    {
     "data": {
      "text/plain": [
       "16"
      ]
     },
     "execution_count": 112,
     "metadata": {},
     "output_type": "execute_result"
    }
   ],
   "source": [
    "t1 = (16)\n",
    "\n",
    "t1"
   ]
  },
  {
   "cell_type": "code",
   "execution_count": 115,
   "id": "c239df6e",
   "metadata": {},
   "outputs": [
    {
     "name": "stdout",
     "output_type": "stream",
     "text": [
      "(16,)\n"
     ]
    },
    {
     "data": {
      "text/plain": [
       "tuple"
      ]
     },
     "execution_count": 115,
     "metadata": {},
     "output_type": "execute_result"
    }
   ],
   "source": [
    "t1 = (16,)\n",
    "print(t1)\n",
    "type(t1)"
   ]
  },
  {
   "cell_type": "code",
   "execution_count": 116,
   "id": "10b52a0c",
   "metadata": {},
   "outputs": [
    {
     "data": {
      "text/plain": [
       "{1, 2, 'a'}"
      ]
     },
     "execution_count": 116,
     "metadata": {},
     "output_type": "execute_result"
    }
   ],
   "source": [
    "set1 = {1,2, 2, 'a', 'a'}\n",
    "\n",
    "set1"
   ]
  },
  {
   "cell_type": "code",
   "execution_count": 118,
   "id": "749790bc",
   "metadata": {},
   "outputs": [
    {
     "data": {
      "text/plain": [
       "{2, 3, 'a', 'b'}"
      ]
     },
     "execution_count": 118,
     "metadata": {},
     "output_type": "execute_result"
    }
   ],
   "source": [
    "set2 = {3,2, 2, 'b', 'a', 'a'}\n",
    "\n",
    "set2"
   ]
  },
  {
   "cell_type": "code",
   "execution_count": 121,
   "id": "c7f8ddbe",
   "metadata": {},
   "outputs": [
    {
     "data": {
      "text/plain": [
       "'langda'"
      ]
     },
     "execution_count": 121,
     "metadata": {},
     "output_type": "execute_result"
    }
   ],
   "source": [
    "mango_varieties[0]"
   ]
  },
  {
   "cell_type": "code",
   "execution_count": 123,
   "id": "72e2dca4",
   "metadata": {},
   "outputs": [
    {
     "ename": "TypeError",
     "evalue": "'set' object is not subscriptable",
     "output_type": "error",
     "traceback": [
      "\u001b[1;31m---------------------------------------------------------------------------\u001b[0m",
      "\u001b[1;31mTypeError\u001b[0m                                 Traceback (most recent call last)",
      "\u001b[1;32md:\\Learn\\git\\DSA-Goodrich-Python\\DSA(Goodrich), Chapter1, Introduction to Python - July 21, 2022.ipynb Cell 64\u001b[0m in \u001b[0;36m<cell line: 1>\u001b[1;34m()\u001b[0m\n\u001b[1;32m----> <a href='vscode-notebook-cell:/d%3A/Learn/git/DSA-Goodrich-Python/DSA%28Goodrich%29%2C%20Chapter1%2C%20Introduction%20to%20Python%20-%20July%2021%2C%202022.ipynb#ch0000073?line=0'>1</a>\u001b[0m set2[\u001b[39m1\u001b[39;49m]\n",
      "\u001b[1;31mTypeError\u001b[0m: 'set' object is not subscriptable"
     ]
    }
   ],
   "source": [
    "set2[1]"
   ]
  },
  {
   "cell_type": "code",
   "execution_count": null,
   "id": "099d41a8",
   "metadata": {},
   "outputs": [],
   "source": [
    "# dict = {key:value}"
   ]
  },
  {
   "cell_type": "code",
   "execution_count": 129,
   "id": "0fc4aa48",
   "metadata": {},
   "outputs": [],
   "source": [
    "dict = {'name': 'viney', 'age' : 1000, 'address' : 'mars'}"
   ]
  },
  {
   "cell_type": "code",
   "execution_count": 130,
   "id": "75dffdd6",
   "metadata": {},
   "outputs": [
    {
     "data": {
      "text/plain": [
       "'viney'"
      ]
     },
     "execution_count": 130,
     "metadata": {},
     "output_type": "execute_result"
    }
   ],
   "source": [
    "dict['name']"
   ]
  },
  {
   "cell_type": "code",
   "execution_count": 131,
   "id": "1d084a92",
   "metadata": {},
   "outputs": [
    {
     "ename": "TypeError",
     "evalue": "unhashable type: 'list'",
     "output_type": "error",
     "traceback": [
      "\u001b[1;31m---------------------------------------------------------------------------\u001b[0m",
      "\u001b[1;31mTypeError\u001b[0m                                 Traceback (most recent call last)",
      "\u001b[1;32md:\\Learn\\git\\DSA-Goodrich-Python\\DSA(Goodrich), Chapter1, Introduction to Python - July 21, 2022.ipynb Cell 68\u001b[0m in \u001b[0;36m<cell line: 1>\u001b[1;34m()\u001b[0m\n\u001b[1;32m----> <a href='vscode-notebook-cell:/d%3A/Learn/git/DSA-Goodrich-Python/DSA%28Goodrich%29%2C%20Chapter1%2C%20Introduction%20to%20Python%20-%20July%2021%2C%202022.ipynb#ch0000077?line=0'>1</a>\u001b[0m \u001b[39mdict\u001b[39m \u001b[39m=\u001b[39m {\u001b[39m'\u001b[39m\u001b[39mname\u001b[39m\u001b[39m'\u001b[39m: \u001b[39m'\u001b[39m\u001b[39mviney\u001b[39m\u001b[39m'\u001b[39m, [\u001b[39m2\u001b[39m,\u001b[39m3\u001b[39m,\u001b[39m4\u001b[39m]: \u001b[39m1000\u001b[39m, \u001b[39m'\u001b[39m\u001b[39maddress\u001b[39m\u001b[39m'\u001b[39m : \u001b[39m'\u001b[39m\u001b[39mmars\u001b[39m\u001b[39m'\u001b[39m}\n",
      "\u001b[1;31mTypeError\u001b[0m: unhashable type: 'list'"
     ]
    }
   ],
   "source": [
    "dict = {'name': 'viney', [2,3,4]: 1000, 'address' : 'mars'}"
   ]
  },
  {
   "cell_type": "code",
   "execution_count": null,
   "id": "c1c604a5",
   "metadata": {},
   "outputs": [],
   "source": [
    "#1.3 Expressions, Operators and Precedence"
   ]
  },
  {
   "cell_type": "code",
   "execution_count": 1,
   "id": "fd67e103",
   "metadata": {},
   "outputs": [
    {
     "data": {
      "text/plain": [
       "False"
      ]
     },
     "execution_count": 1,
     "metadata": {},
     "output_type": "execute_result"
    }
   ],
   "source": [
    "False and True"
   ]
  },
  {
   "cell_type": "code",
   "execution_count": 2,
   "id": "534a64f8",
   "metadata": {},
   "outputs": [
    {
     "data": {
      "text/plain": [
       "True"
      ]
     },
     "execution_count": 2,
     "metadata": {},
     "output_type": "execute_result"
    }
   ],
   "source": [
    "True or True"
   ]
  },
  {
   "cell_type": "code",
   "execution_count": null,
   "id": "76c6d644",
   "metadata": {},
   "outputs": [],
   "source": [
    "'''\n",
    "Or\n",
    "T | T  = T\n",
    "T | F  = T\n",
    "F | T  = T\n",
    "F | F  = F\n",
    "\n",
    "And\n",
    "T & T  = T\n",
    "T & F  = F\n",
    "F & T  = F\n",
    "F & F  = F\n",
    "\n",
    "\n",
    "'''"
   ]
  },
  {
   "cell_type": "code",
   "execution_count": 5,
   "id": "f3873f4d",
   "metadata": {},
   "outputs": [
    {
     "data": {
      "text/plain": [
       "True"
      ]
     },
     "execution_count": 5,
     "metadata": {},
     "output_type": "execute_result"
    }
   ],
   "source": [
    "True & True\n"
   ]
  },
  {
   "cell_type": "code",
   "execution_count": 7,
   "id": "67bde491",
   "metadata": {},
   "outputs": [
    {
     "data": {
      "text/plain": [
       "(1, 0)"
      ]
     },
     "execution_count": 7,
     "metadata": {},
     "output_type": "execute_result"
    }
   ],
   "source": [
    "int(True), int(False) "
   ]
  },
  {
   "cell_type": "code",
   "execution_count": 11,
   "id": "43b8472c",
   "metadata": {},
   "outputs": [],
   "source": [
    "a, b, c, d = 5,8, 10, 'bits'"
   ]
  },
  {
   "cell_type": "code",
   "execution_count": 10,
   "id": "5aac1ef8",
   "metadata": {},
   "outputs": [
    {
     "data": {
      "text/plain": [
       "(5, 8)"
      ]
     },
     "execution_count": 10,
     "metadata": {},
     "output_type": "execute_result"
    }
   ],
   "source": [
    "a, b"
   ]
  },
  {
   "cell_type": "code",
   "execution_count": 12,
   "id": "cd0c4751",
   "metadata": {},
   "outputs": [
    {
     "data": {
      "text/plain": [
       "'bits'"
      ]
     },
     "execution_count": 12,
     "metadata": {},
     "output_type": "execute_result"
    }
   ],
   "source": [
    "d"
   ]
  },
  {
   "cell_type": "code",
   "execution_count": 14,
   "id": "9106da27",
   "metadata": {},
   "outputs": [],
   "source": [
    "d1 = {True: 'Awesome', 1 : 'Great'}"
   ]
  },
  {
   "cell_type": "code",
   "execution_count": 15,
   "id": "380bc6bd",
   "metadata": {},
   "outputs": [
    {
     "data": {
      "text/plain": [
       "{True: 'Great'}"
      ]
     },
     "execution_count": 15,
     "metadata": {},
     "output_type": "execute_result"
    }
   ],
   "source": [
    "d1"
   ]
  },
  {
   "cell_type": "code",
   "execution_count": 16,
   "id": "d13b7848",
   "metadata": {},
   "outputs": [],
   "source": [
    "d2 = {1: 'Awesome',  True: 'Great'}"
   ]
  },
  {
   "cell_type": "code",
   "execution_count": 17,
   "id": "f4fa7d10",
   "metadata": {},
   "outputs": [
    {
     "data": {
      "text/plain": [
       "{1: 'Great'}"
      ]
     },
     "execution_count": 17,
     "metadata": {},
     "output_type": "execute_result"
    }
   ],
   "source": [
    "d2"
   ]
  },
  {
   "cell_type": "code",
   "execution_count": 19,
   "id": "f3e1f7a3",
   "metadata": {},
   "outputs": [
    {
     "data": {
      "text/plain": [
       "True"
      ]
     },
     "execution_count": 19,
     "metadata": {},
     "output_type": "execute_result"
    }
   ],
   "source": [
    "not False"
   ]
  },
  {
   "cell_type": "code",
   "execution_count": 18,
   "id": "1218ed38",
   "metadata": {},
   "outputs": [
    {
     "data": {
      "text/plain": [
       "False"
      ]
     },
     "execution_count": 18,
     "metadata": {},
     "output_type": "execute_result"
    }
   ],
   "source": [
    "not (False | True)"
   ]
  },
  {
   "cell_type": "code",
   "execution_count": 21,
   "id": "f75d314b",
   "metadata": {},
   "outputs": [
    {
     "ename": "SyntaxError",
     "evalue": "invalid syntax (736491839.py, line 2)",
     "output_type": "error",
     "traceback": [
      "\u001b[1;36m  Input \u001b[1;32mIn [21]\u001b[1;36m\u001b[0m\n\u001b[1;33m    ==, !=\u001b[0m\n\u001b[1;37m    ^\u001b[0m\n\u001b[1;31mSyntaxError\u001b[0m\u001b[1;31m:\u001b[0m invalid syntax\n"
     ]
    }
   ],
   "source": [
    "#Equality Operators\n",
    "'''\n",
    "==, \n",
    "!=\n",
    "'''"
   ]
  },
  {
   "cell_type": "code",
   "execution_count": 26,
   "id": "f426bf31",
   "metadata": {},
   "outputs": [
    {
     "data": {
      "text/plain": [
       "False"
      ]
     },
     "execution_count": 26,
     "metadata": {},
     "output_type": "execute_result"
    }
   ],
   "source": [
    "10**30 == 10**31\n",
    "\n"
   ]
  },
  {
   "cell_type": "code",
   "execution_count": 27,
   "id": "e8cb7a9e",
   "metadata": {},
   "outputs": [
    {
     "data": {
      "text/plain": [
       "True"
      ]
     },
     "execution_count": 27,
     "metadata": {},
     "output_type": "execute_result"
    }
   ],
   "source": [
    "'viney' != 'mango'"
   ]
  },
  {
   "cell_type": "code",
   "execution_count": 28,
   "id": "b9385828",
   "metadata": {},
   "outputs": [],
   "source": [
    "# Homework - Try these operators on other data types e.g. list, set, tuple "
   ]
  },
  {
   "cell_type": "code",
   "execution_count": 30,
   "id": "681bf7d2",
   "metadata": {},
   "outputs": [
    {
     "data": {
      "text/plain": [
       "False"
      ]
     },
     "execution_count": 30,
     "metadata": {},
     "output_type": "execute_result"
    }
   ],
   "source": [
    "# is and is not \n",
    "\n",
    "a  = 2\n",
    "b = 1\n",
    "a is b"
   ]
  },
  {
   "cell_type": "code",
   "execution_count": 31,
   "id": "d3125593",
   "metadata": {},
   "outputs": [
    {
     "name": "stderr",
     "output_type": "stream",
     "text": [
      "<>:1: SyntaxWarning: \"is\" with a literal. Did you mean \"==\"?\n",
      "<>:1: SyntaxWarning: \"is\" with a literal. Did you mean \"==\"?\n",
      "C:\\Users\\viney\\AppData\\Local\\Temp\\ipykernel_14120\\1180083856.py:1: SyntaxWarning: \"is\" with a literal. Did you mean \"==\"?\n",
      "  1 is 2\n"
     ]
    },
    {
     "data": {
      "text/plain": [
       "False"
      ]
     },
     "execution_count": 31,
     "metadata": {},
     "output_type": "execute_result"
    }
   ],
   "source": [
    "1 is 2"
   ]
  },
  {
   "cell_type": "code",
   "execution_count": null,
   "id": "addcdffe",
   "metadata": {},
   "outputs": [],
   "source": [
    "#creating variable with constructer\n",
    "a = int(1)\n",
    "\n",
    "#literal\n",
    "1"
   ]
  },
  {
   "cell_type": "code",
   "execution_count": null,
   "id": "33b2538d",
   "metadata": {},
   "outputs": [],
   "source": [
    "'''\n",
    "Comparison operators\n",
    "<, <=, >, >=\n",
    "'''"
   ]
  },
  {
   "cell_type": "code",
   "execution_count": 32,
   "id": "d1307948",
   "metadata": {},
   "outputs": [
    {
     "data": {
      "text/plain": [
       "True"
      ]
     },
     "execution_count": 32,
     "metadata": {},
     "output_type": "execute_result"
    }
   ],
   "source": [
    "4 < 5"
   ]
  },
  {
   "cell_type": "code",
   "execution_count": 33,
   "id": "eefee3cb",
   "metadata": {},
   "outputs": [
    {
     "ename": "TypeError",
     "evalue": "'>' not supported between instances of 'str' and 'int'",
     "output_type": "error",
     "traceback": [
      "\u001b[1;31m---------------------------------------------------------------------------\u001b[0m",
      "\u001b[1;31mTypeError\u001b[0m                                 Traceback (most recent call last)",
      "\u001b[1;32md:\\Learn\\git\\DSA-Goodrich-Python\\DSA(Goodrich), Chapter1, Introduction to Python - July 21, 2022.ipynb Cell 93\u001b[0m in \u001b[0;36m<cell line: 1>\u001b[1;34m()\u001b[0m\n\u001b[1;32m----> <a href='vscode-notebook-cell:/d%3A/Learn/git/DSA-Goodrich-Python/DSA%28Goodrich%29%2C%20Chapter1%2C%20Introduction%20to%20Python%20-%20July%2021%2C%202022.ipynb#ch0000092?line=0'>1</a>\u001b[0m \u001b[39m'\u001b[39;49m\u001b[39m5\u001b[39;49m\u001b[39m'\u001b[39;49m \u001b[39m>\u001b[39;49m \u001b[39m4\u001b[39;49m\n",
      "\u001b[1;31mTypeError\u001b[0m: '>' not supported between instances of 'str' and 'int'"
     ]
    }
   ],
   "source": [
    "'5' > 4"
   ]
  },
  {
   "cell_type": "code",
   "execution_count": 34,
   "id": "e07f8043",
   "metadata": {},
   "outputs": [
    {
     "data": {
      "text/plain": [
       "True"
      ]
     },
     "execution_count": 34,
     "metadata": {},
     "output_type": "execute_result"
    }
   ],
   "source": [
    "5 >= 5"
   ]
  },
  {
   "cell_type": "code",
   "execution_count": null,
   "id": "2486a2b9",
   "metadata": {},
   "outputs": [],
   "source": [
    "''' \n",
    "Arithmetic Operators\n",
    "\n",
    "+, -, *, /, //, %\n",
    "\n",
    "'''"
   ]
  },
  {
   "cell_type": "code",
   "execution_count": 36,
   "id": "734f462f",
   "metadata": {},
   "outputs": [
    {
     "data": {
      "text/plain": [
       "'a'"
      ]
     },
     "execution_count": 36,
     "metadata": {},
     "output_type": "execute_result"
    }
   ],
   "source": [
    "('a')"
   ]
  },
  {
   "cell_type": "code",
   "execution_count": 40,
   "id": "f30ea8cb",
   "metadata": {},
   "outputs": [
    {
     "data": {
      "text/plain": [
       "(('a',), (7,))"
      ]
     },
     "execution_count": 40,
     "metadata": {},
     "output_type": "execute_result"
    }
   ],
   "source": [
    "tuple('a')\n",
    "(7,)"
   ]
  },
  {
   "cell_type": "code",
   "execution_count": 41,
   "id": "3d631a2f",
   "metadata": {},
   "outputs": [],
   "source": [
    "a = (7,)"
   ]
  },
  {
   "cell_type": "code",
   "execution_count": 44,
   "id": "68f42ae4",
   "metadata": {},
   "outputs": [
    {
     "data": {
      "text/plain": [
       "['a', 'b', 1, 'a', 'b', 'python']"
      ]
     },
     "execution_count": 44,
     "metadata": {},
     "output_type": "execute_result"
    }
   ],
   "source": [
    "# List\n",
    "l1 = ['a', 'b', 1, 'a', 'b']\n",
    "\n",
    "l1.append('python')\n",
    "l1\n"
   ]
  },
  {
   "cell_type": "code",
   "execution_count": 46,
   "id": "1880e6ea",
   "metadata": {},
   "outputs": [
    {
     "ename": "AttributeError",
     "evalue": "'tuple' object has no attribute 'append'",
     "output_type": "error",
     "traceback": [
      "\u001b[1;31m---------------------------------------------------------------------------\u001b[0m",
      "\u001b[1;31mAttributeError\u001b[0m                            Traceback (most recent call last)",
      "\u001b[1;32md:\\Learn\\git\\DSA-Goodrich-Python\\DSA(Goodrich), Chapter1, Introduction to Python - July 21, 2022.ipynb Cell 100\u001b[0m in \u001b[0;36m<cell line: 4>\u001b[1;34m()\u001b[0m\n\u001b[0;32m      <a href='vscode-notebook-cell:/d%3A/Learn/git/DSA-Goodrich-Python/DSA%28Goodrich%29%2C%20Chapter1%2C%20Introduction%20to%20Python%20-%20July%2021%2C%202022.ipynb#ch0000099?line=0'>1</a>\u001b[0m \u001b[39m# Tuple\u001b[39;00m\n\u001b[0;32m      <a href='vscode-notebook-cell:/d%3A/Learn/git/DSA-Goodrich-Python/DSA%28Goodrich%29%2C%20Chapter1%2C%20Introduction%20to%20Python%20-%20July%2021%2C%202022.ipynb#ch0000099?line=1'>2</a>\u001b[0m t1 \u001b[39m=\u001b[39m (\u001b[39m'\u001b[39m\u001b[39ma\u001b[39m\u001b[39m'\u001b[39m, \u001b[39m'\u001b[39m\u001b[39mb\u001b[39m\u001b[39m'\u001b[39m, \u001b[39m1\u001b[39m, \u001b[39m'\u001b[39m\u001b[39ma\u001b[39m\u001b[39m'\u001b[39m, \u001b[39m'\u001b[39m\u001b[39mb\u001b[39m\u001b[39m'\u001b[39m)\n\u001b[1;32m----> <a href='vscode-notebook-cell:/d%3A/Learn/git/DSA-Goodrich-Python/DSA%28Goodrich%29%2C%20Chapter1%2C%20Introduction%20to%20Python%20-%20July%2021%2C%202022.ipynb#ch0000099?line=3'>4</a>\u001b[0m t1\u001b[39m.\u001b[39;49mappend(\u001b[39m'\u001b[39m\u001b[39mpython\u001b[39m\u001b[39m'\u001b[39m)\n\u001b[0;32m      <a href='vscode-notebook-cell:/d%3A/Learn/git/DSA-Goodrich-Python/DSA%28Goodrich%29%2C%20Chapter1%2C%20Introduction%20to%20Python%20-%20July%2021%2C%202022.ipynb#ch0000099?line=4'>5</a>\u001b[0m t1\n",
      "\u001b[1;31mAttributeError\u001b[0m: 'tuple' object has no attribute 'append'"
     ]
    }
   ],
   "source": [
    "# Tuple\n",
    "t1 = ('a', 'b', 1, 'a', 'b')\n",
    "\n",
    "t1.append('python')\n",
    "t1"
   ]
  },
  {
   "cell_type": "code",
   "execution_count": 49,
   "id": "bae8350c",
   "metadata": {},
   "outputs": [
    {
     "data": {
      "text/plain": [
       "('a', 'b', 1, 'a', 'b')"
      ]
     },
     "execution_count": 49,
     "metadata": {},
     "output_type": "execute_result"
    }
   ],
   "source": [
    "t2 = ('a', 'b', 1, 'c', 'd')\n"
   ]
  },
  {
   "cell_type": "code",
   "execution_count": 50,
   "id": "ef5b10a5",
   "metadata": {},
   "outputs": [
    {
     "data": {
      "text/plain": [
       "7"
      ]
     },
     "execution_count": 50,
     "metadata": {},
     "output_type": "execute_result"
    }
   ],
   "source": [
    "5 + 2"
   ]
  },
  {
   "cell_type": "code",
   "execution_count": 51,
   "id": "a0e129b2",
   "metadata": {},
   "outputs": [
    {
     "ename": "TypeError",
     "evalue": "unsupported operand type(s) for +: 'int' and 'str'",
     "output_type": "error",
     "traceback": [
      "\u001b[1;31m---------------------------------------------------------------------------\u001b[0m",
      "\u001b[1;31mTypeError\u001b[0m                                 Traceback (most recent call last)",
      "\u001b[1;32md:\\Learn\\git\\DSA-Goodrich-Python\\DSA(Goodrich), Chapter1, Introduction to Python - July 21, 2022.ipynb Cell 103\u001b[0m in \u001b[0;36m<cell line: 1>\u001b[1;34m()\u001b[0m\n\u001b[1;32m----> <a href='vscode-notebook-cell:/d%3A/Learn/git/DSA-Goodrich-Python/DSA%28Goodrich%29%2C%20Chapter1%2C%20Introduction%20to%20Python%20-%20July%2021%2C%202022.ipynb#ch0000102?line=0'>1</a>\u001b[0m \u001b[39m5\u001b[39;49m \u001b[39m+\u001b[39;49m \u001b[39m'\u001b[39;49m\u001b[39m2\u001b[39;49m\u001b[39m'\u001b[39;49m\n",
      "\u001b[1;31mTypeError\u001b[0m: unsupported operand type(s) for +: 'int' and 'str'"
     ]
    }
   ],
   "source": [
    "5 + '2'"
   ]
  },
  {
   "cell_type": "code",
   "execution_count": 52,
   "id": "ec42b00f",
   "metadata": {},
   "outputs": [
    {
     "ename": "SyntaxError",
     "evalue": "invalid syntax (4239449193.py, line 1)",
     "output_type": "error",
     "traceback": [
      "\u001b[1;36m  Input \u001b[1;32mIn [52]\u001b[1;36m\u001b[0m\n\u001b[1;33m    5 ++\u001b[0m\n\u001b[1;37m        ^\u001b[0m\n\u001b[1;31mSyntaxError\u001b[0m\u001b[1;31m:\u001b[0m invalid syntax\n"
     ]
    }
   ],
   "source": [
    " 5 ++"
   ]
  },
  {
   "cell_type": "code",
   "execution_count": 54,
   "id": "131dfc9f",
   "metadata": {},
   "outputs": [
    {
     "data": {
      "text/plain": [
       "'This is a great discussion'"
      ]
     },
     "execution_count": 54,
     "metadata": {},
     "output_type": "execute_result"
    }
   ],
   "source": [
    "'This' + ' is' + ' a' + ' great' + ' discussion'"
   ]
  },
  {
   "cell_type": "code",
   "execution_count": 58,
   "id": "d1a3b26c",
   "metadata": {},
   "outputs": [
    {
     "data": {
      "text/plain": [
       "['a', 'b', 1, 'a', 'b', 'python']"
      ]
     },
     "execution_count": 58,
     "metadata": {},
     "output_type": "execute_result"
    }
   ],
   "source": [
    "l1"
   ]
  },
  {
   "cell_type": "code",
   "execution_count": 57,
   "id": "caa15a62",
   "metadata": {},
   "outputs": [
    {
     "data": {
      "text/plain": [
       "['a', 'b', 1, 'a', 'b', 'python', 6]"
      ]
     },
     "execution_count": 57,
     "metadata": {},
     "output_type": "execute_result"
    }
   ],
   "source": [
    "l1 + [6]"
   ]
  },
  {
   "cell_type": "code",
   "execution_count": 59,
   "id": "168efa8c",
   "metadata": {},
   "outputs": [
    {
     "data": {
      "text/plain": [
       "2.0"
      ]
     },
     "execution_count": 59,
     "metadata": {},
     "output_type": "execute_result"
    }
   ],
   "source": [
    "6/3"
   ]
  },
  {
   "cell_type": "code",
   "execution_count": 60,
   "id": "33e25406",
   "metadata": {},
   "outputs": [
    {
     "data": {
      "text/plain": [
       "2"
      ]
     },
     "execution_count": 60,
     "metadata": {},
     "output_type": "execute_result"
    }
   ],
   "source": [
    "int(6/3)"
   ]
  },
  {
   "cell_type": "code",
   "execution_count": 64,
   "id": "ffb88fbc",
   "metadata": {},
   "outputs": [
    {
     "data": {
      "text/plain": [
       "2.066666666666667"
      ]
     },
     "execution_count": 64,
     "metadata": {},
     "output_type": "execute_result"
    }
   ],
   "source": [
    "# Division\n",
    "6.2/3.0\n"
   ]
  },
  {
   "cell_type": "code",
   "execution_count": 65,
   "id": "ac2e1af0",
   "metadata": {},
   "outputs": [
    {
     "data": {
      "text/plain": [
       "2"
      ]
     },
     "execution_count": 65,
     "metadata": {},
     "output_type": "execute_result"
    }
   ],
   "source": [
    "# Division integerised\n",
    "int(6.2/3.0)"
   ]
  },
  {
   "cell_type": "code",
   "execution_count": 66,
   "id": "36b045b0",
   "metadata": {},
   "outputs": [
    {
     "data": {
      "text/plain": [
       "True"
      ]
     },
     "execution_count": 66,
     "metadata": {},
     "output_type": "execute_result"
    }
   ],
   "source": [
    "# Floor Division or Integer Division\n",
    "7 // 2 ==  int(7/2)"
   ]
  },
  {
   "cell_type": "code",
   "execution_count": 67,
   "id": "88d9a923",
   "metadata": {},
   "outputs": [
    {
     "data": {
      "text/plain": [
       "2.0"
      ]
     },
     "execution_count": 67,
     "metadata": {},
     "output_type": "execute_result"
    }
   ],
   "source": [
    "6.2//3.0"
   ]
  },
  {
   "cell_type": "code",
   "execution_count": 69,
   "id": "ce65c057",
   "metadata": {},
   "outputs": [
    {
     "data": {
      "text/plain": [
       "True"
      ]
     },
     "execution_count": 69,
     "metadata": {},
     "output_type": "execute_result"
    }
   ],
   "source": [
    "6.2 // 2.0 ==  int(6.2/2)"
   ]
  },
  {
   "cell_type": "code",
   "execution_count": 70,
   "id": "6e769a37",
   "metadata": {},
   "outputs": [
    {
     "data": {
      "text/plain": [
       "False"
      ]
     },
     "execution_count": 70,
     "metadata": {},
     "output_type": "execute_result"
    }
   ],
   "source": [
    "type(6.2 // 2.0) ==  type(int(6.2/2))"
   ]
  },
  {
   "cell_type": "code",
   "execution_count": 71,
   "id": "a6009f1c",
   "metadata": {},
   "outputs": [
    {
     "data": {
      "text/plain": [
       "12"
      ]
     },
     "execution_count": 71,
     "metadata": {},
     "output_type": "execute_result"
    }
   ],
   "source": [
    "6 * 2"
   ]
  },
  {
   "cell_type": "code",
   "execution_count": 72,
   "id": "5af91c4f",
   "metadata": {},
   "outputs": [
    {
     "data": {
      "text/plain": [
       "'echo echo echo '"
      ]
     },
     "execution_count": 72,
     "metadata": {},
     "output_type": "execute_result"
    }
   ],
   "source": [
    "'echo ' * 3"
   ]
  },
  {
   "cell_type": "code",
   "execution_count": 73,
   "id": "c960d662",
   "metadata": {},
   "outputs": [
    {
     "data": {
      "text/plain": [
       "'6666'"
      ]
     },
     "execution_count": 73,
     "metadata": {},
     "output_type": "execute_result"
    }
   ],
   "source": [
    "'6' * 4"
   ]
  },
  {
   "cell_type": "code",
   "execution_count": 78,
   "id": "7ea6b1fc",
   "metadata": {},
   "outputs": [
    {
     "data": {
      "text/plain": [
       "' \\nModulo\\n\\n7 % 2\\n\\n7 - dividend\\n2 - divisor\\n3 - quotient\\n1 - remainder\\n\\ndividend = divisor * quotient + remainder\\n'"
      ]
     },
     "execution_count": 78,
     "metadata": {},
     "output_type": "execute_result"
    }
   ],
   "source": [
    "''' \n",
    "Modulo\n",
    "\n",
    "7 % 2\n",
    "\n",
    "7 - dividend\n",
    "2 - divisor\n",
    "3 - quotient\n",
    "1 - remainder\n",
    "\n",
    "dividend = divisor * quotient + remainder\n",
    "'''"
   ]
  },
  {
   "cell_type": "code",
   "execution_count": 74,
   "id": "b9a4ff75",
   "metadata": {},
   "outputs": [
    {
     "data": {
      "text/plain": [
       "1"
      ]
     },
     "execution_count": 74,
     "metadata": {},
     "output_type": "execute_result"
    }
   ],
   "source": [
    "7 % 2"
   ]
  },
  {
   "cell_type": "code",
   "execution_count": 77,
   "id": "c65334e6",
   "metadata": {},
   "outputs": [
    {
     "data": {
      "text/plain": [
       "(3, 1)"
      ]
     },
     "execution_count": 77,
     "metadata": {},
     "output_type": "execute_result"
    }
   ],
   "source": [
    "a, b = divmod(7,2)\n",
    "\n",
    "a, b"
   ]
  },
  {
   "cell_type": "code",
   "execution_count": 8,
   "id": "5ce71678",
   "metadata": {},
   "outputs": [
    {
     "data": {
      "text/plain": [
       "(-2.5, -2.5, -3, -3, 1, -1)"
      ]
     },
     "execution_count": 8,
     "metadata": {},
     "output_type": "execute_result"
    }
   ],
   "source": [
    "#Homework\n",
    "\n",
    "- 5 / 2, 5 / -2, - 5 // 2, 5 // - 2, - 5 % 2, 5 % -2\n",
    "\n"
   ]
  },
  {
   "cell_type": "code",
   "execution_count": 9,
   "id": "f1466677",
   "metadata": {},
   "outputs": [
    {
     "data": {
      "text/plain": [
       "-1"
      ]
     },
     "execution_count": 9,
     "metadata": {},
     "output_type": "execute_result"
    }
   ],
   "source": [
    "-5 % -2\n"
   ]
  },
  {
   "cell_type": "code",
   "execution_count": 11,
   "id": "647eb096",
   "metadata": {},
   "outputs": [
    {
     "data": {
      "text/plain": [
       "-1"
      ]
     },
     "execution_count": 11,
     "metadata": {},
     "output_type": "execute_result"
    }
   ],
   "source": [
    "5 % -2"
   ]
  },
  {
   "cell_type": "code",
   "execution_count": 10,
   "id": "9c953b31",
   "metadata": {},
   "outputs": [
    {
     "data": {
      "text/plain": [
       "(2, -1)"
      ]
     },
     "execution_count": 10,
     "metadata": {},
     "output_type": "execute_result"
    }
   ],
   "source": [
    "# divmod(-5,-2)"
   ]
  },
  {
   "cell_type": "code",
   "execution_count": 12,
   "id": "f19796f3",
   "metadata": {},
   "outputs": [
    {
     "data": {
      "text/plain": [
       "1"
      ]
     },
     "execution_count": 12,
     "metadata": {},
     "output_type": "execute_result"
    }
   ],
   "source": [
    "-5 % 2"
   ]
  },
  {
   "cell_type": "code",
   "execution_count": null,
   "id": "2501df58",
   "metadata": {},
   "outputs": [],
   "source": []
  },
  {
   "cell_type": "code",
   "execution_count": null,
   "id": "54f409b3",
   "metadata": {},
   "outputs": [],
   "source": [
    "'''\n",
    "Homework 1 - Modulo formula\n",
    "# a % b = a - (b*(a//b))\n",
    "\n",
    "Homework 2 - Bitwise operators #Integer\n",
    "\n",
    "How integers/floats/negative numbers get converted to bits\n",
    "\n",
    "Bitwise operators - ~, &, |, ^, <<, >>\n",
    "\n",
    "Homework 3 - try sequence operators with list and tuples : ==, !=, <, >, <=, >= \n",
    "''' "
   ]
  },
  {
   "cell_type": "code",
   "execution_count": null,
   "id": "942e7542",
   "metadata": {},
   "outputs": [],
   "source": [
    "# Bitwise operator\n",
    "10 | 4"
   ]
  },
  {
   "cell_type": "code",
   "execution_count": 15,
   "id": "7543c805",
   "metadata": {},
   "outputs": [],
   "source": [
    "a = 0b1010\n",
    "b = 0b0100"
   ]
  },
  {
   "cell_type": "code",
   "execution_count": 16,
   "id": "a3040785",
   "metadata": {},
   "outputs": [
    {
     "data": {
      "text/plain": [
       "(10, 4)"
      ]
     },
     "execution_count": 16,
     "metadata": {},
     "output_type": "execute_result"
    }
   ],
   "source": [
    "int(a), int(b)"
   ]
  },
  {
   "cell_type": "code",
   "execution_count": null,
   "id": "897ae60b",
   "metadata": {},
   "outputs": [],
   "source": [
    "#c = a | b = 0b1110"
   ]
  },
  {
   "cell_type": "code",
   "execution_count": null,
   "id": "1281d5ac",
   "metadata": {},
   "outputs": [],
   "source": [
    "#Sequence Operators\n",
    "\n",
    "# str, list, tuples"
   ]
  },
  {
   "cell_type": "code",
   "execution_count": 25,
   "id": "5aa71db4",
   "metadata": {},
   "outputs": [
    {
     "data": {
      "text/plain": [
       "('a',\n",
       " 'weso',\n",
       " 'ws',\n",
       " 'wsm',\n",
       " 'awesomeawesome',\n",
       " 'awesome3',\n",
       " 'awesome guys!',\n",
       " True,\n",
       " False,\n",
       " True)"
      ]
     },
     "execution_count": 25,
     "metadata": {},
     "output_type": "execute_result"
    }
   ],
   "source": [
    "x =  'awesome'\n",
    "#     0123456\n",
    "#  str[i] <- element at ith index\n",
    "# str[start:stop] <- [start, stop) or [start, stop-1]\n",
    "# str[start:stop:step] \n",
    "\n",
    "x[0], x[1:5], x[1:5:2], x[1:6:2], x * 2, x + '3', x + ' guys!', 'a' in x, 'b' in x, 'b' not in x\n"
   ]
  },
  {
   "cell_type": "code",
   "execution_count": 19,
   "id": "a41b138b",
   "metadata": {},
   "outputs": [
    {
     "ename": "TypeError",
     "evalue": "'str' object is not callable",
     "output_type": "error",
     "traceback": [
      "\u001b[1;31m---------------------------------------------------------------------------\u001b[0m",
      "\u001b[1;31mTypeError\u001b[0m                                 Traceback (most recent call last)",
      "\u001b[1;32md:\\Learn\\git\\DSA-Goodrich-Python\\DSA(Goodrich), Chapter1, Introduction to Python - July 21, 2022.ipynb Cell 135\u001b[0m in \u001b[0;36m<cell line: 1>\u001b[1;34m()\u001b[0m\n\u001b[1;32m----> <a href='vscode-notebook-cell:/d%3A/Learn/git/DSA-Goodrich-Python/DSA%28Goodrich%29%2C%20Chapter1%2C%20Introduction%20to%20Python%20-%20July%2021%2C%202022.ipynb#ch0000137?line=0'>1</a>\u001b[0m x(\u001b[39m0\u001b[39;49m)\n",
      "\u001b[1;31mTypeError\u001b[0m: 'str' object is not callable"
     ]
    }
   ],
   "source": [
    "x(0)"
   ]
  },
  {
   "cell_type": "code",
   "execution_count": 26,
   "id": "478635bc",
   "metadata": {},
   "outputs": [
    {
     "data": {
      "text/plain": [
       "True"
      ]
     },
     "execution_count": 26,
     "metadata": {},
     "output_type": "execute_result"
    }
   ],
   "source": [
    "#Lexicographical order\n",
    "a = 'Ruby'\n",
    "\n",
    "b = 'Revathi'\n",
    "\n",
    "a > b"
   ]
  },
  {
   "cell_type": "code",
   "execution_count": 27,
   "id": "108f98f2",
   "metadata": {},
   "outputs": [
    {
     "data": {
      "text/plain": [
       "(['R', 'u', 'b', 'y'], ['R', 'e', 'v', 'a', 't', 'h', 'i'])"
      ]
     },
     "execution_count": 27,
     "metadata": {},
     "output_type": "execute_result"
    }
   ],
   "source": [
    "x = list(a)\n",
    "y = list(b)\n",
    "\n",
    "x, y"
   ]
  },
  {
   "cell_type": "code",
   "execution_count": 29,
   "id": "8dddf12e",
   "metadata": {},
   "outputs": [
    {
     "data": {
      "text/plain": [
       "(False, True)"
      ]
     },
     "execution_count": 29,
     "metadata": {},
     "output_type": "execute_result"
    }
   ],
   "source": [
    "a = [5, 3, 9]\n",
    "b = [5, 2, 1, 10, 11]\n",
    "\n",
    "a < b, a > b\n"
   ]
  },
  {
   "cell_type": "code",
   "execution_count": 46,
   "id": "a5c249cc",
   "metadata": {},
   "outputs": [
    {
     "data": {
      "text/plain": [
       "False"
      ]
     },
     "execution_count": 46,
     "metadata": {},
     "output_type": "execute_result"
    }
   ],
   "source": [
    "s1 = {'its', 'great', 3, 4}\n",
    "s2 = {'its', 'great', 3, 4, 5}\n",
    "s3 = {'its', 'great', 3, 6}\n",
    "\n",
    "#s1 >= s2\n",
    "#s1, s2 \n",
    "s2 >= s3"
   ]
  },
  {
   "cell_type": "markdown",
   "id": "012bf750",
   "metadata": {},
   "source": [
    "Homework 1 - Modulo formula\n",
    "# a % b = a - (b*(a//b))\n",
    "\n",
    "Homework 2 - Bitwise operators #Integer\n",
    "\n",
    "How integers/floats/negative numbers get converted to bits\n",
    "\n",
    "Bitwise operators - ~, &, |, ^, <<, >>\n",
    "\n",
    "Homework 3 - try sequence operators with list and tuples : ==, !=, <, >, <=, >= "
   ]
  },
  {
   "cell_type": "code",
   "execution_count": 19,
   "id": "c5eeabd4",
   "metadata": {},
   "outputs": [
    {
     "data": {
      "text/plain": [
       "(-2.5, -2.5, 1, -1)"
      ]
     },
     "execution_count": 19,
     "metadata": {},
     "output_type": "execute_result"
    }
   ],
   "source": [
    "-5/2, 5/-2, -5 % 2, 5 % -2, -5 // 2, 5 // -2"
   ]
  },
  {
   "cell_type": "code",
   "execution_count": 20,
   "id": "8b8b223a",
   "metadata": {},
   "outputs": [
    {
     "data": {
      "text/plain": [
       "((-3, 1), (-3, -1))"
      ]
     },
     "execution_count": 20,
     "metadata": {},
     "output_type": "execute_result"
    }
   ],
   "source": [
    "divmod(-5, 2), divmod(5, -2)"
   ]
  },
  {
   "cell_type": "markdown",
   "id": "86bc8b1d",
   "metadata": {},
   "source": [
    "dividend = divisor * quotient + remainder"
   ]
  },
  {
   "cell_type": "markdown",
   "id": "d28468b1",
   "metadata": {},
   "source": [
    "sign of remainder will always be same sign as divisor"
   ]
  },
  {
   "cell_type": "markdown",
   "id": "c91b3df6",
   "metadata": {},
   "source": [
    "For bits representation IEEE-754\n",
    "\n",
    "5 = 0b101\n",
    "\n",
    "0.5"
   ]
  },
  {
   "cell_type": "code",
   "execution_count": 21,
   "id": "b4d60a1d",
   "metadata": {},
   "outputs": [
    {
     "data": {
      "text/plain": [
       "True"
      ]
     },
     "execution_count": 21,
     "metadata": {},
     "output_type": "execute_result"
    }
   ],
   "source": [
    "0.5 + 0.5 == 1"
   ]
  },
  {
   "cell_type": "code",
   "execution_count": 24,
   "id": "a7c1bc74",
   "metadata": {},
   "outputs": [
    {
     "data": {
      "text/plain": [
       "5"
      ]
     },
     "execution_count": 24,
     "metadata": {},
     "output_type": "execute_result"
    }
   ],
   "source": [
    "# 101 binary\n",
    "1*(2**2) + 0*(2**1) + 1*(2**0)"
   ]
  },
  {
   "cell_type": "markdown",
   "id": "39bd9b45",
   "metadata": {},
   "source": [
    "0.5 = 1 * (1/(2**1))\n",
    "\n",
    "In Binary 0.5 is \n",
    "\n",
    "5.5 \n",
    "\n",
    "101 1\n",
    "\n",
    "1*(2**0)\n",
    "1*(2**-1)\n",
    "\n",
    "\n",
    "0.375 in binary\n",
    "\n",
    "1/2  =         0*(2**-1)\n",
    "1/4  = 0.25  = 1*(2**-2)\n",
    "1/8  = 0.125 = 1*(2**-3)\n",
    "\n",
    ".0\n"
   ]
  },
  {
   "cell_type": "code",
   "execution_count": 26,
   "id": "c97028e4",
   "metadata": {},
   "outputs": [
    {
     "data": {
      "text/plain": [
       "(0.0, 0.25, 0.125)"
      ]
     },
     "execution_count": 26,
     "metadata": {},
     "output_type": "execute_result"
    }
   ],
   "source": [
    "0*(2**-1), 1*(2**-2), 1*(2**-3)\n"
   ]
  },
  {
   "cell_type": "code",
   "execution_count": 25,
   "id": "a1199e63",
   "metadata": {},
   "outputs": [
    {
     "data": {
      "text/plain": [
       "0.5"
      ]
     },
     "execution_count": 25,
     "metadata": {},
     "output_type": "execute_result"
    }
   ],
   "source": [
    "1 * (1/(2**1))"
   ]
  },
  {
   "cell_type": "code",
   "execution_count": 27,
   "id": "e99d1639",
   "metadata": {},
   "outputs": [
    {
     "data": {
      "text/plain": [
       "False"
      ]
     },
     "execution_count": 27,
     "metadata": {},
     "output_type": "execute_result"
    }
   ],
   "source": [
    "0.1 + 0.1 + 0.1 == 0.3"
   ]
  },
  {
   "cell_type": "markdown",
   "id": "91c8df5d",
   "metadata": {},
   "source": [
    "Binary form of 0.1\n",
    "0*(2**-1) + 0*(2**-2) + 0*(2**-3) + 1*(2**-4) + 0*(2**-5)...\n",
    "\n",
    ".00011"
   ]
  },
  {
   "cell_type": "code",
   "execution_count": 28,
   "id": "66323b83",
   "metadata": {},
   "outputs": [
    {
     "data": {
      "text/plain": [
       "True"
      ]
     },
     "execution_count": 28,
     "metadata": {},
     "output_type": "execute_result"
    }
   ],
   "source": [
    "0.5 + 0.5 + 0.5 == 1.5"
   ]
  },
  {
   "cell_type": "markdown",
   "id": "fa1b067f",
   "metadata": {},
   "source": [
    "Next Homework (8 August 2022)-> \n",
    "\n",
    "1) Bitwise operators - ~, &, |, ^, <<, >>\n",
    "\n",
    "2) Try sequence operators with list and tuples : ==, !=, <, >, <=, >= "
   ]
  },
  {
   "cell_type": "markdown",
   "id": "917a414b",
   "metadata": {},
   "source": [
    "Operators for sets and dictionaries"
   ]
  },
  {
   "cell_type": "code",
   "execution_count": 33,
   "id": "094de16b",
   "metadata": {},
   "outputs": [],
   "source": [
    "# containment check\n",
    "\n",
    "s1 = {1, 'a', 2, 'mango', 'mango',}"
   ]
  },
  {
   "cell_type": "code",
   "execution_count": 34,
   "id": "5ca59153",
   "metadata": {},
   "outputs": [
    {
     "data": {
      "text/plain": [
       "{1, 2, 'a', 'mango'}"
      ]
     },
     "execution_count": 34,
     "metadata": {},
     "output_type": "execute_result"
    }
   ],
   "source": [
    "s1"
   ]
  },
  {
   "cell_type": "code",
   "execution_count": 32,
   "id": "51d29bf3",
   "metadata": {},
   "outputs": [
    {
     "data": {
      "text/plain": [
       "[2, 1, 1, 4, 8, 2]"
      ]
     },
     "execution_count": 32,
     "metadata": {},
     "output_type": "execute_result"
    }
   ],
   "source": [
    "l1 = [2,1,1,4,8,2]\n",
    "\n",
    "l1"
   ]
  },
  {
   "cell_type": "code",
   "execution_count": 35,
   "id": "65c06e77",
   "metadata": {},
   "outputs": [
    {
     "data": {
      "text/plain": [
       "(True, True, False)"
      ]
     },
     "execution_count": 35,
     "metadata": {},
     "output_type": "execute_result"
    }
   ],
   "source": [
    "1 in s1, 'mango' in s1, 'cat' in s1"
   ]
  },
  {
   "cell_type": "code",
   "execution_count": 36,
   "id": "5ad7d82e",
   "metadata": {},
   "outputs": [
    {
     "data": {
      "text/plain": [
       "{1, 2, 'a', 'mango'}"
      ]
     },
     "execution_count": 36,
     "metadata": {},
     "output_type": "execute_result"
    }
   ],
   "source": [
    "s1"
   ]
  },
  {
   "cell_type": "code",
   "execution_count": 37,
   "id": "87c5d0bb",
   "metadata": {},
   "outputs": [
    {
     "data": {
      "text/plain": [
       "(False, False, False)"
      ]
     },
     "execution_count": 37,
     "metadata": {},
     "output_type": "execute_result"
    }
   ],
   "source": [
    "1 not in s1, 'mango' not in s1, 2 not in s1"
   ]
  },
  {
   "cell_type": "code",
   "execution_count": 40,
   "id": "7549bb98",
   "metadata": {},
   "outputs": [
    {
     "data": {
      "text/plain": [
       "{1, 2, 'a', 'mango'}"
      ]
     },
     "execution_count": 40,
     "metadata": {},
     "output_type": "execute_result"
    }
   ],
   "source": [
    "s2 = {1,'a', 'mango',2}\n",
    "\n",
    "s2"
   ]
  },
  {
   "cell_type": "code",
   "execution_count": 39,
   "id": "2d4a624a",
   "metadata": {},
   "outputs": [
    {
     "data": {
      "text/plain": [
       "{1, 2, 'a', 'mango'}"
      ]
     },
     "execution_count": 39,
     "metadata": {},
     "output_type": "execute_result"
    }
   ],
   "source": [
    "s1"
   ]
  },
  {
   "cell_type": "code",
   "execution_count": 41,
   "id": "348ab6d6",
   "metadata": {},
   "outputs": [
    {
     "data": {
      "text/plain": [
       "True"
      ]
     },
     "execution_count": 41,
     "metadata": {},
     "output_type": "execute_result"
    }
   ],
   "source": [
    "s1 == s2"
   ]
  },
  {
   "cell_type": "code",
   "execution_count": 42,
   "id": "b9674fdd",
   "metadata": {},
   "outputs": [
    {
     "data": {
      "text/plain": [
       "False"
      ]
     },
     "execution_count": 42,
     "metadata": {},
     "output_type": "execute_result"
    }
   ],
   "source": [
    "s1 != s2 "
   ]
  },
  {
   "cell_type": "code",
   "execution_count": 44,
   "id": "30cc2a9d",
   "metadata": {},
   "outputs": [
    {
     "data": {
      "text/plain": [
       "({2, 'mango'}, {1, 2, 'a', 'mango'})"
      ]
     },
     "execution_count": 44,
     "metadata": {},
     "output_type": "execute_result"
    }
   ],
   "source": [
    "s3 = {2, 'mango'}\n",
    "\n",
    "s3, s1"
   ]
  },
  {
   "cell_type": "code",
   "execution_count": 47,
   "id": "7bd1eb2a",
   "metadata": {},
   "outputs": [],
   "source": [
    "s4 = {2, 'mango', 'apple'}"
   ]
  },
  {
   "cell_type": "code",
   "execution_count": 48,
   "id": "fd4f4436",
   "metadata": {},
   "outputs": [
    {
     "data": {
      "text/plain": [
       "(True, False)"
      ]
     },
     "execution_count": 48,
     "metadata": {},
     "output_type": "execute_result"
    }
   ],
   "source": [
    "s3 <= s1, s4 <= s1"
   ]
  },
  {
   "cell_type": "code",
   "execution_count": 50,
   "id": "1604717b",
   "metadata": {},
   "outputs": [
    {
     "data": {
      "text/plain": [
       "True"
      ]
     },
     "execution_count": 50,
     "metadata": {},
     "output_type": "execute_result"
    }
   ],
   "source": [
    "#Proper subset\n",
    "s3 < s1 "
   ]
  },
  {
   "cell_type": "code",
   "execution_count": 53,
   "id": "adc569b3",
   "metadata": {},
   "outputs": [
    {
     "data": {
      "text/plain": [
       "({1, 2, 'a', 'mango'},\n",
       " {2, 'apple', 'mango'},\n",
       " {1, 2, 'a', 'apple', 'mango'},\n",
       " {2, 'mango'})"
      ]
     },
     "execution_count": 53,
     "metadata": {},
     "output_type": "execute_result"
    }
   ],
   "source": [
    "# Union and intersection\n",
    "s1, s4, s4 | s1, s4 & s1,"
   ]
  },
  {
   "cell_type": "code",
   "execution_count": 54,
   "id": "5960c847",
   "metadata": {},
   "outputs": [
    {
     "data": {
      "text/plain": [
       "({1, 'a'}, {1, 'a', 'apple'}, {'apple'}, {1, 'a', 'apple'})"
      ]
     },
     "execution_count": 54,
     "metadata": {},
     "output_type": "execute_result"
    }
   ],
   "source": [
    "# Difference and Symmetric Difference\n",
    "\n",
    "s1 - s4, s1 ^ s4, s4 - s1, s4 ^ s1"
   ]
  },
  {
   "cell_type": "code",
   "execution_count": 56,
   "id": "ec71f8f5",
   "metadata": {},
   "outputs": [
    {
     "ename": "TypeError",
     "evalue": "'set' object is not subscriptable",
     "output_type": "error",
     "traceback": [
      "\u001b[1;31m---------------------------------------------------------------------------\u001b[0m",
      "\u001b[1;31mTypeError\u001b[0m                                 Traceback (most recent call last)",
      "\u001b[1;32md:\\Learn\\git\\DSA-Goodrich-Python\\DSA(Goodrich), Chapter1, Introduction to Python - July 21, 2022.ipynb Cell 173\u001b[0m in \u001b[0;36m<cell line: 1>\u001b[1;34m()\u001b[0m\n\u001b[1;32m----> <a href='vscode-notebook-cell:/d%3A/Learn/git/DSA-Goodrich-Python/DSA%28Goodrich%29%2C%20Chapter1%2C%20Introduction%20to%20Python%20-%20July%2021%2C%202022.ipynb#Y345sZmlsZQ%3D%3D?line=0'>1</a>\u001b[0m s1[\u001b[39m0\u001b[39;49m]\n",
      "\u001b[1;31mTypeError\u001b[0m: 'set' object is not subscriptable"
     ]
    }
   ],
   "source": [
    "# Set doesn't maintain index\n",
    "s1[0]"
   ]
  },
  {
   "cell_type": "code",
   "execution_count": null,
   "id": "25c1c8be",
   "metadata": {},
   "outputs": [],
   "source": []
  },
  {
   "cell_type": "code",
   "execution_count": 61,
   "id": "478397a1",
   "metadata": {},
   "outputs": [],
   "source": [
    "dict1 = { 'a': 2, 3: 'b'}\n",
    "dict2 = { 3: 'b', 'a': 2 }\n",
    "dict3 = { 3: 'b', 'a': 2, 'song':'Hotel California' }"
   ]
  },
  {
   "cell_type": "code",
   "execution_count": 62,
   "id": "53c89624",
   "metadata": {},
   "outputs": [
    {
     "data": {
      "text/plain": [
       "('b', True)"
      ]
     },
     "execution_count": 62,
     "metadata": {},
     "output_type": "execute_result"
    }
   ],
   "source": [
    "dict1[3], dict1 == dict2 "
   ]
  },
  {
   "cell_type": "code",
   "execution_count": 64,
   "id": "d45dfe7a",
   "metadata": {},
   "outputs": [],
   "source": [
    "del dict1[3]"
   ]
  },
  {
   "cell_type": "code",
   "execution_count": 66,
   "id": "dc7841a6",
   "metadata": {},
   "outputs": [
    {
     "data": {
      "text/plain": [
       "False"
      ]
     },
     "execution_count": 66,
     "metadata": {},
     "output_type": "execute_result"
    }
   ],
   "source": [
    "3 in dict1"
   ]
  },
  {
   "cell_type": "code",
   "execution_count": 67,
   "id": "f718983d",
   "metadata": {},
   "outputs": [
    {
     "data": {
      "text/plain": [
       "True"
      ]
     },
     "execution_count": 67,
     "metadata": {},
     "output_type": "execute_result"
    }
   ],
   "source": [
    "10 not in dict1"
   ]
  },
  {
   "cell_type": "code",
   "execution_count": 70,
   "id": "d09d4fd4",
   "metadata": {},
   "outputs": [
    {
     "data": {
      "text/plain": [
       "({'a': 2}, {3: 'b', 'a': 2}, True)"
      ]
     },
     "execution_count": 70,
     "metadata": {},
     "output_type": "execute_result"
    }
   ],
   "source": [
    "dict1, dict2, dict1 != dict2"
   ]
  },
  {
   "cell_type": "code",
   "execution_count": 80,
   "id": "e485023a",
   "metadata": {},
   "outputs": [
    {
     "data": {
      "text/plain": [
       "{'a': 2, 2: 'a', 'mango': 5}"
      ]
     },
     "execution_count": 80,
     "metadata": {},
     "output_type": "execute_result"
    }
   ],
   "source": [
    "dict1[2] ='a'\n",
    "dict1['mango'] = 5\n",
    "\n",
    "dict1"
   ]
  },
  {
   "cell_type": "code",
   "execution_count": 84,
   "id": "cf4696de",
   "metadata": {},
   "outputs": [],
   "source": [
    "#Extended Assignment operator\n",
    "\n",
    "alpha = [1,2,3]\n",
    "beta = alpha"
   ]
  },
  {
   "cell_type": "code",
   "execution_count": 86,
   "id": "e4c746ea",
   "metadata": {},
   "outputs": [
    {
     "data": {
      "text/plain": [
       "True"
      ]
     },
     "execution_count": 86,
     "metadata": {},
     "output_type": "execute_result"
    }
   ],
   "source": [
    "id(beta),id(alpha), id(beta) == id(alpha) "
   ]
  },
  {
   "cell_type": "code",
   "execution_count": 87,
   "id": "a328e47d",
   "metadata": {},
   "outputs": [],
   "source": [
    "id_beta1 = id(beta)"
   ]
  },
  {
   "cell_type": "code",
   "execution_count": 88,
   "id": "5d8dc4b3",
   "metadata": {},
   "outputs": [],
   "source": [
    "beta += [4,5]\n",
    "id_beta2 = id(beta)"
   ]
  },
  {
   "cell_type": "code",
   "execution_count": 90,
   "id": "9428430b",
   "metadata": {},
   "outputs": [
    {
     "data": {
      "text/plain": [
       "True"
      ]
     },
     "execution_count": 90,
     "metadata": {},
     "output_type": "execute_result"
    }
   ],
   "source": [
    "id_beta1 == id_beta2"
   ]
  },
  {
   "cell_type": "code",
   "execution_count": 94,
   "id": "5820223c",
   "metadata": {},
   "outputs": [
    {
     "data": {
      "text/plain": [
       "([1, 2, 3, 4, 5, 6, 7, 6, 7, 6, 7, 6, 7],\n",
       " [1, 2, 3, 4, 5],\n",
       " 2315052591104,\n",
       " 2315016700736)"
      ]
     },
     "execution_count": 94,
     "metadata": {},
     "output_type": "execute_result"
    }
   ],
   "source": [
    "# += and alias break\n",
    "beta = beta + [6,7]\n",
    "\n",
    "id_beta3 = id(beta)\n",
    "\n",
    "beta, alpha, id_beta1, id_beta3"
   ]
  },
  {
   "cell_type": "markdown",
   "id": "02071f2d",
   "metadata": {},
   "source": [
    "Next Homework (8 August 2022)-> \n",
    "\n",
    "1) Bitwise operators - ~, &, |, ^, <<, >>\n",
    "\n",
    "2) Try sequence operators with list and tuples : ==, !=, <, >, <=, >= \n",
    "\n",
    "3) Compound Expression and Operator precedence"
   ]
  },
  {
   "cell_type": "markdown",
   "id": "e719a4c9",
   "metadata": {},
   "source": [
    "Control Flow\n",
    "\n",
    "a) Conditionals - If, else, elif\n",
    "b) Loops - While, for, index based"
   ]
  },
  {
   "cell_type": "markdown",
   "id": "7b7ec0e3",
   "metadata": {},
   "source": [
    "----|\n",
    "    |--->"
   ]
  },
  {
   "cell_type": "code",
   "execution_count": 1,
   "id": "e041d35e",
   "metadata": {},
   "outputs": [
    {
     "name": "stdout",
     "output_type": "stream",
     "text": [
      "Awesome\n"
     ]
    }
   ],
   "source": [
    "a = 10\n",
    "\n",
    "if a == 10: \n",
    "    print('Awesome')\n",
    "    "
   ]
  },
  {
   "cell_type": "code",
   "execution_count": null,
   "id": "48e079e2",
   "metadata": {},
   "outputs": [],
   "source": [
    "if a < 10:\n",
    "    print('Great')\n",
    "\n",
    "if a < 10:\n",
    "    print('Good')\n",
    "\n",
    "if a == 10:\n",
    "    print('Awesome')\n",
    "elif a < 10:\n",
    "    print('Great')\n",
    "else:\n",
    "    print('Good')\n"
   ]
  },
  {
   "cell_type": "markdown",
   "id": "28a73e90",
   "metadata": {},
   "source": [
    "Loops"
   ]
  },
  {
   "cell_type": "code",
   "execution_count": 3,
   "id": "a7d101ed",
   "metadata": {},
   "outputs": [
    {
     "name": "stdout",
     "output_type": "stream",
     "text": [
      "django\n",
      "2\n",
      "mango\n",
      "1\n"
     ]
    },
    {
     "data": {
      "text/plain": [
       "[]"
      ]
     },
     "execution_count": 3,
     "metadata": {},
     "output_type": "execute_result"
    }
   ],
   "source": [
    "#While Loop\n",
    "\n",
    "a = [1,'mango', 2, 'django']\n",
    "\n",
    "while a:\n",
    "    print(a.pop())\n",
    "\n",
    "a\n"
   ]
  },
  {
   "cell_type": "code",
   "execution_count": 6,
   "id": "5c364e3a",
   "metadata": {},
   "outputs": [
    {
     "name": "stdout",
     "output_type": "stream",
     "text": [
      "2***mangomango***4***djangodjango***"
     ]
    }
   ],
   "source": [
    "#For Loop\n",
    "\n",
    "a = [1,'mango', 2, 'django']\n",
    "\n",
    "for x in a:\n",
    "    print(x*2, end='***')\n"
   ]
  },
  {
   "cell_type": "markdown",
   "id": "668e2aca",
   "metadata": {},
   "source": [
    "Index based for loop"
   ]
  },
  {
   "cell_type": "code",
   "execution_count": 3,
   "id": "a2c40bc4",
   "metadata": {},
   "outputs": [
    {
     "name": "stdout",
     "output_type": "stream",
     "text": [
      "0\n",
      "1\n",
      "2\n"
     ]
    }
   ],
   "source": [
    "for i in range(3):\n",
    "    print(i)"
   ]
  },
  {
   "cell_type": "code",
   "execution_count": 6,
   "id": "9366a9f5",
   "metadata": {},
   "outputs": [],
   "source": [
    "members = int(input())\n",
    "\n",
    "name = []\n",
    "for i in range(members):\n",
    "\n",
    "    name.append(input())\n"
   ]
  },
  {
   "cell_type": "code",
   "execution_count": 7,
   "id": "5567028a",
   "metadata": {},
   "outputs": [
    {
     "name": "stdout",
     "output_type": "stream",
     "text": [
      "['Nitesh', 'Ruby', 'Surekha']\n"
     ]
    }
   ],
   "source": [
    "print(name)"
   ]
  },
  {
   "cell_type": "markdown",
   "id": "7940108f",
   "metadata": {},
   "source": [
    "Break and Continue Statements"
   ]
  },
  {
   "cell_type": "code",
   "execution_count": 8,
   "id": "814f60e7",
   "metadata": {},
   "outputs": [
    {
     "name": "stdout",
     "output_type": "stream",
     "text": [
      "Great\n"
     ]
    }
   ],
   "source": [
    "for j in range(3):\n",
    "    print('Great')\n",
    "    break"
   ]
  },
  {
   "cell_type": "code",
   "execution_count": 9,
   "id": "8aac3cce",
   "metadata": {},
   "outputs": [
    {
     "name": "stdout",
     "output_type": "stream",
     "text": [
      "Great\n",
      "Great\n"
     ]
    }
   ],
   "source": [
    "for i in range(2):\n",
    "    for j in range(3):\n",
    "        print('Great')\n",
    "        break"
   ]
  },
  {
   "cell_type": "code",
   "execution_count": 13,
   "id": "1ad78479",
   "metadata": {},
   "outputs": [
    {
     "name": "stdout",
     "output_type": "stream",
     "text": [
      "5\n",
      "4\n",
      "3\n"
     ]
    }
   ],
   "source": [
    "a = [1,2,3,4,5]\n",
    "\n",
    "while len(a) > 0:\n",
    "    x = a.pop()\n",
    "    print(x)\n",
    "    if x == 3:\n",
    "        break"
   ]
  },
  {
   "cell_type": "markdown",
   "id": "0c0e64ee",
   "metadata": {},
   "source": [
    "Continue Statement"
   ]
  },
  {
   "cell_type": "code",
   "execution_count": 15,
   "id": "4191a9d1",
   "metadata": {},
   "outputs": [
    {
     "name": "stdout",
     "output_type": "stream",
     "text": [
      "pune\n",
      "mumbai\n"
     ]
    }
   ],
   "source": [
    "lst1 = ['pune', 'nagpur', 'mumbai']\n",
    "\n",
    "for city in lst1:\n",
    "    if city == 'nagpur':\n",
    "        continue\n",
    "    print(city)"
   ]
  },
  {
   "cell_type": "markdown",
   "id": "dfe1e5b1",
   "metadata": {},
   "source": [
    "1.5 Functions\n",
    "\n",
    "Stateless(not \"method\") "
   ]
  },
  {
   "cell_type": "code",
   "execution_count": 9,
   "id": "8e404081",
   "metadata": {},
   "outputs": [
    {
     "data": {
      "text/plain": [
       "[1, 5, 3, 7, 9]"
      ]
     },
     "execution_count": 9,
     "metadata": {},
     "output_type": "execute_result"
    }
   ],
   "source": [
    "a = [1,5,3,7]\n",
    "\n",
    "a.append(9)\n",
    "\n",
    "a"
   ]
  },
  {
   "cell_type": "code",
   "execution_count": 11,
   "id": "9bb62dce",
   "metadata": {},
   "outputs": [],
   "source": [
    "def count(data, target):\n",
    "    n = 0\n",
    "    for item in data:\n",
    "        if item == target:\n",
    "            n += 1\n",
    "    return n"
   ]
  },
  {
   "cell_type": "code",
   "execution_count": 15,
   "id": "0f937a30",
   "metadata": {},
   "outputs": [],
   "source": [
    "n = 6\n",
    "a = [1,2,3,2,2]\n",
    "\n",
    "#count(a, 2), count([1,2,3,2,2], 2)"
   ]
  },
  {
   "cell_type": "code",
   "execution_count": 17,
   "id": "db10e0cf",
   "metadata": {},
   "outputs": [],
   "source": [
    "def contains(data, target):\n",
    "    for item in data:\n",
    "        if item == target:\n",
    "            return True\n",
    "    return False"
   ]
  },
  {
   "cell_type": "code",
   "execution_count": 19,
   "id": "7455d298",
   "metadata": {},
   "outputs": [
    {
     "data": {
      "text/plain": [
       "(True, False)"
      ]
     },
     "execution_count": 19,
     "metadata": {},
     "output_type": "execute_result"
    }
   ],
   "source": [
    "contains(a, 2), contains(a, 10)"
   ]
  },
  {
   "cell_type": "code",
   "execution_count": 22,
   "id": "a8d8f87b",
   "metadata": {},
   "outputs": [
    {
     "data": {
      "text/plain": [
       "(True, False)"
      ]
     },
     "execution_count": 22,
     "metadata": {},
     "output_type": "execute_result"
    }
   ],
   "source": [
    "x = contains(a, 2) \n",
    "y = contains(a, 10)\n",
    "\n",
    "x, y"
   ]
  },
  {
   "cell_type": "code",
   "execution_count": 30,
   "id": "019af46e",
   "metadata": {},
   "outputs": [],
   "source": [
    "def jlt(b):\n",
    "    print(b)"
   ]
  },
  {
   "cell_type": "code",
   "execution_count": 24,
   "id": "49fbb113",
   "metadata": {},
   "outputs": [
    {
     "name": "stdout",
     "output_type": "stream",
     "text": [
      "ok\n",
      "None\n"
     ]
    }
   ],
   "source": [
    "z = jlt('ok')\n",
    "print(z)"
   ]
  },
  {
   "cell_type": "code",
   "execution_count": 35,
   "id": "bf419ddd",
   "metadata": {},
   "outputs": [],
   "source": [
    "def jlt2(b):\n",
    "    return"
   ]
  },
  {
   "cell_type": "code",
   "execution_count": 36,
   "id": "efe7bb91",
   "metadata": {},
   "outputs": [],
   "source": [
    "jlt2('ok')"
   ]
  },
  {
   "cell_type": "code",
   "execution_count": 37,
   "id": "c6aa2b5f",
   "metadata": {},
   "outputs": [],
   "source": [
    "def jlt3(b):\n",
    "    return None"
   ]
  },
  {
   "cell_type": "code",
   "execution_count": 40,
   "id": "367eb560",
   "metadata": {},
   "outputs": [
    {
     "name": "stdout",
     "output_type": "stream",
     "text": [
      "None\n"
     ]
    },
    {
     "data": {
      "text/plain": [
       "(None, None)"
      ]
     },
     "execution_count": 40,
     "metadata": {},
     "output_type": "execute_result"
    }
   ],
   "source": [
    "jlt3('ok'), print(jlt3('ok'))"
   ]
  },
  {
   "cell_type": "code",
   "execution_count": 41,
   "id": "7b771ba5",
   "metadata": {},
   "outputs": [],
   "source": [
    "def jlt4():\n",
    "    return None"
   ]
  },
  {
   "cell_type": "code",
   "execution_count": 44,
   "id": "66fba45d",
   "metadata": {},
   "outputs": [
    {
     "data": {
      "text/plain": [
       "(<function __main__.jlt4()>, None)"
      ]
     },
     "execution_count": 44,
     "metadata": {},
     "output_type": "execute_result"
    }
   ],
   "source": [
    "jlt4, jlt4()"
   ]
  },
  {
   "cell_type": "code",
   "execution_count": 45,
   "id": "2744f2ed",
   "metadata": {},
   "outputs": [
    {
     "ename": "TypeError",
     "evalue": "contains() missing 2 required positional arguments: 'data' and 'target'",
     "output_type": "error",
     "traceback": [
      "\u001b[1;31m---------------------------------------------------------------------------\u001b[0m",
      "\u001b[1;31mTypeError\u001b[0m                                 Traceback (most recent call last)",
      "\u001b[1;32md:\\Learn\\git\\DSA-Goodrich-Python\\DSA(Goodrich), Chapter1, Introduction to Python - July 21, 2022.ipynb Cell 220\u001b[0m in \u001b[0;36m<cell line: 1>\u001b[1;34m()\u001b[0m\n\u001b[1;32m----> <a href='vscode-notebook-cell:/d%3A/Learn/git/DSA-Goodrich-Python/DSA%28Goodrich%29%2C%20Chapter1%2C%20Introduction%20to%20Python%20-%20July%2021%2C%202022.ipynb#Y433sZmlsZQ%3D%3D?line=0'>1</a>\u001b[0m contains()\n",
      "\u001b[1;31mTypeError\u001b[0m: contains() missing 2 required positional arguments: 'data' and 'target'"
     ]
    }
   ],
   "source": [
    "contains()"
   ]
  },
  {
   "cell_type": "code",
   "execution_count": 47,
   "id": "a55950f1",
   "metadata": {},
   "outputs": [],
   "source": [
    "def contains2(data = [1,2,3], target = 3):\n",
    "    for item in data:\n",
    "        if item == target:\n",
    "            return True\n",
    "    return False"
   ]
  },
  {
   "cell_type": "code",
   "execution_count": 48,
   "id": "bf6bf00a",
   "metadata": {},
   "outputs": [
    {
     "data": {
      "text/plain": [
       "(True, False)"
      ]
     },
     "execution_count": 48,
     "metadata": {},
     "output_type": "execute_result"
    }
   ],
   "source": [
    "contains2(), contains2(target=4) "
   ]
  },
  {
   "cell_type": "code",
   "execution_count": 49,
   "id": "a0c4619e",
   "metadata": {},
   "outputs": [
    {
     "ename": "SyntaxError",
     "evalue": "non-default argument follows default argument (478219723.py, line 1)",
     "output_type": "error",
     "traceback": [
      "\u001b[1;36m  Input \u001b[1;32mIn [49]\u001b[1;36m\u001b[0m\n\u001b[1;33m    def contains3(target = 3, data):\u001b[0m\n\u001b[1;37m                                  ^\u001b[0m\n\u001b[1;31mSyntaxError\u001b[0m\u001b[1;31m:\u001b[0m non-default argument follows default argument\n"
     ]
    }
   ],
   "source": [
    "def contains3(target = 3, data):\n",
    "    for item in data:\n",
    "        if item == target:\n",
    "            return True\n",
    "    return False"
   ]
  },
  {
   "cell_type": "markdown",
   "id": "6dcd87c0",
   "metadata": {},
   "source": [
    "Home work 1 : Explore range() function, and explains it in context of non-default and default parameters\n",
    "\n",
    "Home work 2 : Study and share commonly used built in functions in python\n",
    "\n",
    "Remaining topic: keyword arguments"
   ]
  },
  {
   "cell_type": "code",
   "execution_count": 5,
   "id": "47b683d5",
   "metadata": {},
   "outputs": [],
   "source": [
    "#polymorphism\n",
    "\n",
    "def foo(a, b = 1, c = 2):\n",
    "    return a+b+c\n"
   ]
  },
  {
   "cell_type": "code",
   "execution_count": 8,
   "id": "00b7c8c7",
   "metadata": {},
   "outputs": [
    {
     "data": {
      "text/plain": [
       "(5, 7, 9)"
      ]
     },
     "execution_count": 8,
     "metadata": {},
     "output_type": "execute_result"
    }
   ],
   "source": [
    "foo(2), foo(2,3), foo(2,3,4)"
   ]
  },
  {
   "cell_type": "code",
   "execution_count": 7,
   "id": "5fc48ae0",
   "metadata": {},
   "outputs": [
    {
     "ename": "TypeError",
     "evalue": "unsupported operand type(s) for +: 'int' and 'str'",
     "output_type": "error",
     "traceback": [
      "\u001b[1;31m---------------------------------------------------------------------------\u001b[0m",
      "\u001b[1;31mTypeError\u001b[0m                                 Traceback (most recent call last)",
      "\u001b[1;32md:\\Learn\\git\\DSA-Goodrich-Python\\DSA(Goodrich), Chapter1, Introduction to Python - July 21, 2022.ipynb Cell 226\u001b[0m in \u001b[0;36m<cell line: 1>\u001b[1;34m()\u001b[0m\n\u001b[1;32m----> <a href='vscode-notebook-cell:/d%3A/Learn/git/DSA-Goodrich-Python/DSA%28Goodrich%29%2C%20Chapter1%2C%20Introduction%20to%20Python%20-%20July%2021%2C%202022.ipynb#Y441sZmlsZQ%3D%3D?line=0'>1</a>\u001b[0m foo(\u001b[39m2\u001b[39m), foo(\u001b[39m2\u001b[39m,\u001b[39m3\u001b[39m), foo(\u001b[39m2\u001b[39m,\u001b[39m3\u001b[39m,\u001b[39m4\u001b[39m), foo(\u001b[39m2\u001b[39;49m,\u001b[39m'\u001b[39;49m\u001b[39mj\u001b[39;49m\u001b[39m'\u001b[39;49m)\n",
      "\u001b[1;32md:\\Learn\\git\\DSA-Goodrich-Python\\DSA(Goodrich), Chapter1, Introduction to Python - July 21, 2022.ipynb Cell 226\u001b[0m in \u001b[0;36mfoo\u001b[1;34m(a, b, c)\u001b[0m\n\u001b[0;32m      <a href='vscode-notebook-cell:/d%3A/Learn/git/DSA-Goodrich-Python/DSA%28Goodrich%29%2C%20Chapter1%2C%20Introduction%20to%20Python%20-%20July%2021%2C%202022.ipynb#Y441sZmlsZQ%3D%3D?line=2'>3</a>\u001b[0m \u001b[39mdef\u001b[39;00m \u001b[39mfoo\u001b[39m(a, b \u001b[39m=\u001b[39m \u001b[39m1\u001b[39m, c \u001b[39m=\u001b[39m \u001b[39m2\u001b[39m):\n\u001b[1;32m----> <a href='vscode-notebook-cell:/d%3A/Learn/git/DSA-Goodrich-Python/DSA%28Goodrich%29%2C%20Chapter1%2C%20Introduction%20to%20Python%20-%20July%2021%2C%202022.ipynb#Y441sZmlsZQ%3D%3D?line=3'>4</a>\u001b[0m     \u001b[39mreturn\u001b[39;00m a\u001b[39m+\u001b[39;49mb\u001b[39m+\u001b[39mc\n",
      "\u001b[1;31mTypeError\u001b[0m: unsupported operand type(s) for +: 'int' and 'str'"
     ]
    }
   ],
   "source": [
    "foo(2), foo(2,3), foo(2,3,4), foo('m','j')"
   ]
  },
  {
   "cell_type": "markdown",
   "id": "ceaed04b",
   "metadata": {},
   "source": [
    "Re-homework1: \n",
    "range has 3 parameters \n",
    "start=0, stop, step=1\n",
    "\n",
    "Re Home work 2: Study and share commonly used built in functions in python\n"
   ]
  },
  {
   "cell_type": "code",
   "execution_count": 10,
   "id": "036fc8fa",
   "metadata": {},
   "outputs": [
    {
     "data": {
      "text/plain": [
       "(5, -10)"
      ]
     },
     "execution_count": 10,
     "metadata": {},
     "output_type": "execute_result"
    }
   ],
   "source": [
    "#Keyword Parameters\n",
    "\n",
    "max(5, -10), max(5, -10, key = abs)"
   ]
  },
  {
   "cell_type": "markdown",
   "id": "e23ecf23",
   "metadata": {},
   "source": [
    "1.6 Simple Input and output\n",
    "\n",
    "print(a,b,c)\n",
    "#a b c"
   ]
  },
  {
   "cell_type": "code",
   "execution_count": 11,
   "id": "12e4bd7f",
   "metadata": {},
   "outputs": [
    {
     "name": "stdout",
     "output_type": "stream",
     "text": [
      "hello all 100\n"
     ]
    }
   ],
   "source": [
    "print('hello', 'all', 100)"
   ]
  },
  {
   "cell_type": "code",
   "execution_count": 13,
   "id": "65f250bd",
   "metadata": {},
   "outputs": [
    {
     "name": "stdout",
     "output_type": "stream",
     "text": [
      "100\n",
      "100\n"
     ]
    },
    {
     "data": {
      "text/plain": [
       "(None, None)"
      ]
     },
     "execution_count": 13,
     "metadata": {},
     "output_type": "execute_result"
    }
   ],
   "source": [
    "print(100), print('100')"
   ]
  },
  {
   "cell_type": "code",
   "execution_count": 14,
   "id": "c97883c8",
   "metadata": {},
   "outputs": [],
   "source": [
    "year = input('How old are you:')"
   ]
  },
  {
   "cell_type": "code",
   "execution_count": 15,
   "id": "40c7d123",
   "metadata": {},
   "outputs": [
    {
     "data": {
      "text/plain": [
       "'1000'"
      ]
     },
     "execution_count": 15,
     "metadata": {},
     "output_type": "execute_result"
    }
   ],
   "source": [
    "year"
   ]
  },
  {
   "cell_type": "code",
   "execution_count": 16,
   "id": "8ba68451",
   "metadata": {},
   "outputs": [
    {
     "ename": "TypeError",
     "evalue": "can only concatenate str (not \"int\") to str",
     "output_type": "error",
     "traceback": [
      "\u001b[1;31m---------------------------------------------------------------------------\u001b[0m",
      "\u001b[1;31mTypeError\u001b[0m                                 Traceback (most recent call last)",
      "\u001b[1;32md:\\Learn\\git\\DSA-Goodrich-Python\\DSA(Goodrich), Chapter1, Introduction to Python - July 21, 2022.ipynb Cell 235\u001b[0m in \u001b[0;36m<cell line: 1>\u001b[1;34m()\u001b[0m\n\u001b[1;32m----> <a href='vscode-notebook-cell:/d%3A/Learn/git/DSA-Goodrich-Python/DSA%28Goodrich%29%2C%20Chapter1%2C%20Introduction%20to%20Python%20-%20July%2021%2C%202022.ipynb#Y453sZmlsZQ%3D%3D?line=0'>1</a>\u001b[0m graduation \u001b[39m=\u001b[39m year \u001b[39m+\u001b[39;49m \u001b[39m22\u001b[39;49m\n",
      "\u001b[1;31mTypeError\u001b[0m: can only concatenate str (not \"int\") to str"
     ]
    }
   ],
   "source": [
    "graduation = year + 22"
   ]
  },
  {
   "cell_type": "code",
   "execution_count": 18,
   "id": "1aa989c2",
   "metadata": {},
   "outputs": [],
   "source": [
    "year = int(input('How old are you:'))"
   ]
  },
  {
   "cell_type": "code",
   "execution_count": 20,
   "id": "8c32b6f2",
   "metadata": {},
   "outputs": [
    {
     "data": {
      "text/plain": [
       "int"
      ]
     },
     "execution_count": 20,
     "metadata": {},
     "output_type": "execute_result"
    }
   ],
   "source": [
    "type(year)"
   ]
  },
  {
   "cell_type": "code",
   "execution_count": 24,
   "id": "7fd3551b",
   "metadata": {},
   "outputs": [],
   "source": [
    "greeting = input('Say Something:')"
   ]
  },
  {
   "cell_type": "code",
   "execution_count": 25,
   "id": "2cebe864",
   "metadata": {},
   "outputs": [
    {
     "data": {
      "text/plain": [
       "'Hello everyone'"
      ]
     },
     "execution_count": 25,
     "metadata": {},
     "output_type": "execute_result"
    }
   ],
   "source": [
    "greeting"
   ]
  },
  {
   "cell_type": "code",
   "execution_count": 26,
   "id": "555fe2eb",
   "metadata": {},
   "outputs": [],
   "source": [
    "greet = greeting.split()"
   ]
  },
  {
   "cell_type": "code",
   "execution_count": 27,
   "id": "d40b0bea",
   "metadata": {},
   "outputs": [
    {
     "data": {
      "text/plain": [
       "['Hello', 'everyone']"
      ]
     },
     "execution_count": 27,
     "metadata": {},
     "output_type": "execute_result"
    }
   ],
   "source": [
    "greet"
   ]
  },
  {
   "cell_type": "markdown",
   "id": "64b69c45",
   "metadata": {},
   "source": [
    "1.6.2 Files"
   ]
  },
  {
   "cell_type": "code",
   "execution_count": 29,
   "id": "b365d052",
   "metadata": {},
   "outputs": [
    {
     "data": {
      "text/plain": [
       "'This is for fun'"
      ]
     },
     "execution_count": 29,
     "metadata": {},
     "output_type": "execute_result"
    }
   ],
   "source": [
    "fp = open('jlt.txt')\n",
    "\n",
    "fp.read()"
   ]
  },
  {
   "cell_type": "markdown",
   "id": "678fcd94",
   "metadata": {},
   "source": [
    "Re-homework 1: \n",
    "range has 3 parameters \n",
    "start=0, stop, step=1\n",
    "\n",
    "Re Home work 2: Study and share commonly used built in functions in python\n",
    "\n",
    "Home work 3: Calling syntaxes for Interacting with text file through proxy"
   ]
  },
  {
   "cell_type": "code",
   "execution_count": 10,
   "id": "cd6d9e5c",
   "metadata": {},
   "outputs": [
    {
     "data": {
      "text/plain": [
       "range"
      ]
     },
     "execution_count": 10,
     "metadata": {},
     "output_type": "execute_result"
    }
   ],
   "source": [
    "type(range(2))"
   ]
  },
  {
   "cell_type": "code",
   "execution_count": 5,
   "id": "24ef8f27",
   "metadata": {},
   "outputs": [],
   "source": [
    "def jlt(a):\n",
    "    return 2*a"
   ]
  },
  {
   "cell_type": "code",
   "execution_count": 7,
   "id": "7ef4c73e",
   "metadata": {},
   "outputs": [
    {
     "data": {
      "text/plain": [
       "int"
      ]
     },
     "execution_count": 7,
     "metadata": {},
     "output_type": "execute_result"
    }
   ],
   "source": [
    "type(jlt(2))"
   ]
  },
  {
   "cell_type": "code",
   "execution_count": null,
   "id": "03bba9ee",
   "metadata": {},
   "outputs": [],
   "source": [
    "def range(start, stop = None, step = 1):\n",
    "    if stop is None:\n",
    "        stop = start\n",
    "        start = 0\n",
    "        "
   ]
  },
  {
   "cell_type": "code",
   "execution_count": 20,
   "id": "0102e6ec",
   "metadata": {},
   "outputs": [
    {
     "name": "stdout",
     "output_type": "stream",
     "text": [
      "3\n",
      "5\n",
      "7\n",
      "9\n"
     ]
    }
   ],
   "source": [
    "for x in range(3,10,2):\n",
    "    print(x)"
   ]
  },
  {
   "cell_type": "code",
   "execution_count": 21,
   "id": "165b6bc9",
   "metadata": {},
   "outputs": [
    {
     "ename": "TypeError",
     "evalue": "range() takes no keyword arguments",
     "output_type": "error",
     "traceback": [
      "\u001b[1;31m---------------------------------------------------------------------------\u001b[0m",
      "\u001b[1;31mTypeError\u001b[0m                                 Traceback (most recent call last)",
      "\u001b[1;32md:\\Learn\\git\\DSA-Goodrich-Python\\DSA(Goodrich), Chapter1, Introduction to Python - July 21, 2022.ipynb Cell 250\u001b[0m in \u001b[0;36m<cell line: 1>\u001b[1;34m()\u001b[0m\n\u001b[1;32m----> <a href='vscode-notebook-cell:/d%3A/Learn/git/DSA-Goodrich-Python/DSA%28Goodrich%29%2C%20Chapter1%2C%20Introduction%20to%20Python%20-%20July%2021%2C%202022.ipynb#Y504sZmlsZQ%3D%3D?line=0'>1</a>\u001b[0m \u001b[39mfor\u001b[39;00m x \u001b[39min\u001b[39;00m \u001b[39mrange\u001b[39;49m(\u001b[39m3\u001b[39;49m,\u001b[39m10\u001b[39;49m,step \u001b[39m=\u001b[39;49m \u001b[39m2\u001b[39;49m):\n\u001b[0;32m      <a href='vscode-notebook-cell:/d%3A/Learn/git/DSA-Goodrich-Python/DSA%28Goodrich%29%2C%20Chapter1%2C%20Introduction%20to%20Python%20-%20July%2021%2C%202022.ipynb#Y504sZmlsZQ%3D%3D?line=1'>2</a>\u001b[0m     \u001b[39mprint\u001b[39m(x)\n",
      "\u001b[1;31mTypeError\u001b[0m: range() takes no keyword arguments"
     ]
    }
   ],
   "source": [
    "for x in range(3,10,step = 2):\n",
    "    print(x)"
   ]
  },
  {
   "cell_type": "markdown",
   "id": "14b9a9b1",
   "metadata": {},
   "source": [
    "1.7 Exception Handling\n",
    "\n",
    "Raise, Catch, Handle\n",
    "\n",
    "IndexError, TypeError, KeyError, NameError, ValueError, SystemError, AssertionError, ZeroDivisionError "
   ]
  },
  {
   "cell_type": "code",
   "execution_count": 37,
   "id": "0b2ac468",
   "metadata": {},
   "outputs": [
    {
     "ename": "ZeroDivisionError",
     "evalue": "division by zero",
     "output_type": "error",
     "traceback": [
      "\u001b[1;31m---------------------------------------------------------------------------\u001b[0m",
      "\u001b[1;31mZeroDivisionError\u001b[0m                         Traceback (most recent call last)",
      "\u001b[1;32md:\\Learn\\git\\DSA-Goodrich-Python\\DSA(Goodrich), Chapter1, Introduction to Python - July 21, 2022.ipynb Cell 252\u001b[0m in \u001b[0;36m<cell line: 1>\u001b[1;34m()\u001b[0m\n\u001b[1;32m----> <a href='vscode-notebook-cell:/d%3A/Learn/git/DSA-Goodrich-Python/DSA%28Goodrich%29%2C%20Chapter1%2C%20Introduction%20to%20Python%20-%20July%2021%2C%202022.ipynb#Y530sZmlsZQ%3D%3D?line=0'>1</a>\u001b[0m \u001b[39m1\u001b[39;49m\u001b[39m/\u001b[39;49m\u001b[39m0\u001b[39;49m\n",
      "\u001b[1;31mZeroDivisionError\u001b[0m: division by zero"
     ]
    }
   ],
   "source": [
    "1/0"
   ]
  },
  {
   "cell_type": "code",
   "execution_count": 35,
   "id": "ede3d21a",
   "metadata": {},
   "outputs": [
    {
     "ename": "AssertionError",
     "evalue": "",
     "output_type": "error",
     "traceback": [
      "\u001b[1;31m---------------------------------------------------------------------------\u001b[0m",
      "\u001b[1;31mAssertionError\u001b[0m                            Traceback (most recent call last)",
      "\u001b[1;32md:\\Learn\\git\\DSA-Goodrich-Python\\DSA(Goodrich), Chapter1, Introduction to Python - July 21, 2022.ipynb Cell 252\u001b[0m in \u001b[0;36m<cell line: 1>\u001b[1;34m()\u001b[0m\n\u001b[1;32m----> <a href='vscode-notebook-cell:/d%3A/Learn/git/DSA-Goodrich-Python/DSA%28Goodrich%29%2C%20Chapter1%2C%20Introduction%20to%20Python%20-%20July%2021%2C%202022.ipynb#Y525sZmlsZQ%3D%3D?line=0'>1</a>\u001b[0m \u001b[39massert\u001b[39;00m x \u001b[39m==\u001b[39m \u001b[39m8\u001b[39m\n",
      "\u001b[1;31mAssertionError\u001b[0m: "
     ]
    }
   ],
   "source": [
    "assert x == 8"
   ]
  },
  {
   "cell_type": "code",
   "execution_count": 36,
   "id": "9e457563",
   "metadata": {},
   "outputs": [],
   "source": [
    "assert x == 9"
   ]
  },
  {
   "cell_type": "code",
   "execution_count": 28,
   "id": "bf0abbf1",
   "metadata": {},
   "outputs": [
    {
     "ename": "ValueError",
     "evalue": "invalid literal for int() with base 10: '3.14'",
     "output_type": "error",
     "traceback": [
      "\u001b[1;31m---------------------------------------------------------------------------\u001b[0m",
      "\u001b[1;31mValueError\u001b[0m                                Traceback (most recent call last)",
      "\u001b[1;32md:\\Learn\\git\\DSA-Goodrich-Python\\DSA(Goodrich), Chapter1, Introduction to Python - July 21, 2022.ipynb Cell 252\u001b[0m in \u001b[0;36m<cell line: 1>\u001b[1;34m()\u001b[0m\n\u001b[1;32m----> <a href='vscode-notebook-cell:/d%3A/Learn/git/DSA-Goodrich-Python/DSA%28Goodrich%29%2C%20Chapter1%2C%20Introduction%20to%20Python%20-%20July%2021%2C%202022.ipynb#Y515sZmlsZQ%3D%3D?line=0'>1</a>\u001b[0m \u001b[39mint\u001b[39;49m(\u001b[39m'\u001b[39;49m\u001b[39m3.14\u001b[39;49m\u001b[39m'\u001b[39;49m)\n",
      "\u001b[1;31mValueError\u001b[0m: invalid literal for int() with base 10: '3.14'"
     ]
    }
   ],
   "source": [
    "int('3.14')"
   ]
  },
  {
   "cell_type": "code",
   "execution_count": 32,
   "id": "9bbcd610",
   "metadata": {},
   "outputs": [
    {
     "data": {
      "text/plain": [
       "0.6000000000000001"
      ]
     },
     "execution_count": 32,
     "metadata": {},
     "output_type": "execute_result"
    }
   ],
   "source": [
    "0.1 + 0.2 + 0.3"
   ]
  },
  {
   "cell_type": "code",
   "execution_count": 33,
   "id": "73bb493d",
   "metadata": {},
   "outputs": [
    {
     "data": {
      "text/plain": [
       "True"
      ]
     },
     "execution_count": 33,
     "metadata": {},
     "output_type": "execute_result"
    }
   ],
   "source": [
    "(0.1 + 0.2 + 0.3) == 0.6000000000000001"
   ]
  },
  {
   "cell_type": "code",
   "execution_count": 31,
   "id": "d536f5e6",
   "metadata": {},
   "outputs": [
    {
     "data": {
      "text/plain": [
       "False"
      ]
     },
     "execution_count": 31,
     "metadata": {},
     "output_type": "execute_result"
    }
   ],
   "source": [
    "(0.1 + 0.2 + 0.3) == 0.6"
   ]
  },
  {
   "cell_type": "code",
   "execution_count": 29,
   "id": "57955b2f",
   "metadata": {},
   "outputs": [
    {
     "data": {
      "text/plain": [
       "314"
      ]
     },
     "execution_count": 29,
     "metadata": {},
     "output_type": "execute_result"
    }
   ],
   "source": [
    "int('314')"
   ]
  },
  {
   "cell_type": "code",
   "execution_count": 27,
   "id": "070a09b5",
   "metadata": {},
   "outputs": [
    {
     "ename": "NameError",
     "evalue": "name 'xyz' is not defined",
     "output_type": "error",
     "traceback": [
      "\u001b[1;31m---------------------------------------------------------------------------\u001b[0m",
      "\u001b[1;31mNameError\u001b[0m                                 Traceback (most recent call last)",
      "\u001b[1;32md:\\Learn\\git\\DSA-Goodrich-Python\\DSA(Goodrich), Chapter1, Introduction to Python - July 21, 2022.ipynb Cell 252\u001b[0m in \u001b[0;36m<cell line: 1>\u001b[1;34m()\u001b[0m\n\u001b[1;32m----> <a href='vscode-notebook-cell:/d%3A/Learn/git/DSA-Goodrich-Python/DSA%28Goodrich%29%2C%20Chapter1%2C%20Introduction%20to%20Python%20-%20July%2021%2C%202022.ipynb#Y514sZmlsZQ%3D%3D?line=0'>1</a>\u001b[0m \u001b[39mprint\u001b[39m(xyz)\n",
      "\u001b[1;31mNameError\u001b[0m: name 'xyz' is not defined"
     ]
    }
   ],
   "source": [
    "print(xyz)"
   ]
  },
  {
   "cell_type": "code",
   "execution_count": 25,
   "id": "0fe1d84b",
   "metadata": {},
   "outputs": [
    {
     "ename": "NameError",
     "evalue": "name 'Print' is not defined",
     "output_type": "error",
     "traceback": [
      "\u001b[1;31m---------------------------------------------------------------------------\u001b[0m",
      "\u001b[1;31mNameError\u001b[0m                                 Traceback (most recent call last)",
      "\u001b[1;32md:\\Learn\\git\\DSA-Goodrich-Python\\DSA(Goodrich), Chapter1, Introduction to Python - July 21, 2022.ipynb Cell 252\u001b[0m in \u001b[0;36m<cell line: 1>\u001b[1;34m()\u001b[0m\n\u001b[1;32m----> <a href='vscode-notebook-cell:/d%3A/Learn/git/DSA-Goodrich-Python/DSA%28Goodrich%29%2C%20Chapter1%2C%20Introduction%20to%20Python%20-%20July%2021%2C%202022.ipynb#Y513sZmlsZQ%3D%3D?line=0'>1</a>\u001b[0m Print(\u001b[39m'\u001b[39m\u001b[39mhello\u001b[39m\u001b[39m'\u001b[39m)\n",
      "\u001b[1;31mNameError\u001b[0m: name 'Print' is not defined"
     ]
    }
   ],
   "source": [
    "Print('hello')"
   ]
  },
  {
   "cell_type": "code",
   "execution_count": 22,
   "id": "36803ed6",
   "metadata": {},
   "outputs": [],
   "source": [
    "a = [1,4,'a']"
   ]
  },
  {
   "cell_type": "code",
   "execution_count": 23,
   "id": "3e2a6ed6",
   "metadata": {},
   "outputs": [
    {
     "data": {
      "text/plain": [
       "4"
      ]
     },
     "execution_count": 23,
     "metadata": {},
     "output_type": "execute_result"
    }
   ],
   "source": [
    "a[1]"
   ]
  },
  {
   "cell_type": "code",
   "execution_count": 24,
   "id": "4d6c4a6e",
   "metadata": {},
   "outputs": [
    {
     "ename": "IndexError",
     "evalue": "list index out of range",
     "output_type": "error",
     "traceback": [
      "\u001b[1;31m---------------------------------------------------------------------------\u001b[0m",
      "\u001b[1;31mIndexError\u001b[0m                                Traceback (most recent call last)",
      "\u001b[1;32md:\\Learn\\git\\DSA-Goodrich-Python\\DSA(Goodrich), Chapter1, Introduction to Python - July 21, 2022.ipynb Cell 254\u001b[0m in \u001b[0;36m<cell line: 1>\u001b[1;34m()\u001b[0m\n\u001b[1;32m----> <a href='vscode-notebook-cell:/d%3A/Learn/git/DSA-Goodrich-Python/DSA%28Goodrich%29%2C%20Chapter1%2C%20Introduction%20to%20Python%20-%20July%2021%2C%202022.ipynb#Y512sZmlsZQ%3D%3D?line=0'>1</a>\u001b[0m a[\u001b[39m3\u001b[39;49m]\n",
      "\u001b[1;31mIndexError\u001b[0m: list index out of range"
     ]
    }
   ],
   "source": [
    "a[3]"
   ]
  },
  {
   "cell_type": "markdown",
   "id": "55575c21",
   "metadata": {},
   "source": [
    "Homework: Find out how integers, floats(fractions) get represented in binary\n",
    "\n",
    "5: b101 = 1*2^2 + 0*2^1 + 1*2^0"
   ]
  },
  {
   "cell_type": "code",
   "execution_count": 1,
   "id": "00442641",
   "metadata": {},
   "outputs": [
    {
     "ename": "ValueError",
     "evalue": "invalid literal for int() with base 10: '2.3'",
     "output_type": "error",
     "traceback": [
      "\u001b[1;31m---------------------------------------------------------------------------\u001b[0m",
      "\u001b[1;31mValueError\u001b[0m                                Traceback (most recent call last)",
      "\u001b[1;32md:\\Learn\\git\\DSA-Goodrich-Python\\DSA(Goodrich), Chapter1, Introduction to Python - July 21, 2022.ipynb Cell 266\u001b[0m in \u001b[0;36m<cell line: 1>\u001b[1;34m()\u001b[0m\n\u001b[1;32m----> <a href='vscode-notebook-cell:/d%3A/Learn/git/DSA-Goodrich-Python/DSA%28Goodrich%29%2C%20Chapter1%2C%20Introduction%20to%20Python%20-%20July%2021%2C%202022.ipynb#Y526sZmlsZQ%3D%3D?line=0'>1</a>\u001b[0m \u001b[39mint\u001b[39;49m(\u001b[39m'\u001b[39;49m\u001b[39m2.3\u001b[39;49m\u001b[39m'\u001b[39;49m)\n",
      "\u001b[1;31mValueError\u001b[0m: invalid literal for int() with base 10: '2.3'"
     ]
    }
   ],
   "source": [
    "int('2.3')"
   ]
  },
  {
   "cell_type": "code",
   "execution_count": 2,
   "id": "a43a510d",
   "metadata": {},
   "outputs": [
    {
     "data": {
      "text/plain": [
       "2"
      ]
     },
     "execution_count": 2,
     "metadata": {},
     "output_type": "execute_result"
    }
   ],
   "source": [
    "int(2.3)"
   ]
  },
  {
   "cell_type": "code",
   "execution_count": 3,
   "id": "e682dc60",
   "metadata": {},
   "outputs": [
    {
     "data": {
      "text/plain": [
       "2"
      ]
     },
     "execution_count": 3,
     "metadata": {},
     "output_type": "execute_result"
    }
   ],
   "source": [
    "int('2')"
   ]
  },
  {
   "cell_type": "code",
   "execution_count": null,
   "id": "28c7aa74",
   "metadata": {},
   "outputs": [],
   "source": [
    "(0.1 + 0.2) == 0.3"
   ]
  },
  {
   "cell_type": "markdown",
   "id": "24d96eef",
   "metadata": {},
   "source": [
    "1.7.1 Raising an exception "
   ]
  },
  {
   "cell_type": "code",
   "execution_count": 5,
   "id": "bb90e820",
   "metadata": {},
   "outputs": [],
   "source": [
    "def jlt(x):\n",
    "    if isinstance(x, str):\n",
    "        raise TypeError('x should be numeric')\n",
    "    else:\n",
    "        return x"
   ]
  },
  {
   "cell_type": "code",
   "execution_count": 6,
   "id": "15b0116d",
   "metadata": {},
   "outputs": [
    {
     "data": {
      "text/plain": [
       "2"
      ]
     },
     "execution_count": 6,
     "metadata": {},
     "output_type": "execute_result"
    }
   ],
   "source": [
    "jlt(2)"
   ]
  },
  {
   "cell_type": "code",
   "execution_count": 7,
   "id": "e0ba500f",
   "metadata": {},
   "outputs": [
    {
     "ename": "TypeError",
     "evalue": "x should be numeric",
     "output_type": "error",
     "traceback": [
      "\u001b[1;31m---------------------------------------------------------------------------\u001b[0m",
      "\u001b[1;31mTypeError\u001b[0m                                 Traceback (most recent call last)",
      "\u001b[1;32md:\\Learn\\git\\DSA-Goodrich-Python\\DSA(Goodrich), Chapter1, Introduction to Python - July 21, 2022.ipynb Cell 273\u001b[0m in \u001b[0;36m<cell line: 1>\u001b[1;34m()\u001b[0m\n\u001b[1;32m----> <a href='vscode-notebook-cell:/d%3A/Learn/git/DSA-Goodrich-Python/DSA%28Goodrich%29%2C%20Chapter1%2C%20Introduction%20to%20Python%20-%20July%2021%2C%202022.ipynb#Y536sZmlsZQ%3D%3D?line=0'>1</a>\u001b[0m jlt(\u001b[39m'\u001b[39;49m\u001b[39m2\u001b[39;49m\u001b[39m'\u001b[39;49m)\n",
      "\u001b[1;32md:\\Learn\\git\\DSA-Goodrich-Python\\DSA(Goodrich), Chapter1, Introduction to Python - July 21, 2022.ipynb Cell 273\u001b[0m in \u001b[0;36mjlt\u001b[1;34m(x)\u001b[0m\n\u001b[0;32m      <a href='vscode-notebook-cell:/d%3A/Learn/git/DSA-Goodrich-Python/DSA%28Goodrich%29%2C%20Chapter1%2C%20Introduction%20to%20Python%20-%20July%2021%2C%202022.ipynb#Y536sZmlsZQ%3D%3D?line=0'>1</a>\u001b[0m \u001b[39mdef\u001b[39;00m \u001b[39mjlt\u001b[39m(x):\n\u001b[0;32m      <a href='vscode-notebook-cell:/d%3A/Learn/git/DSA-Goodrich-Python/DSA%28Goodrich%29%2C%20Chapter1%2C%20Introduction%20to%20Python%20-%20July%2021%2C%202022.ipynb#Y536sZmlsZQ%3D%3D?line=1'>2</a>\u001b[0m     \u001b[39mif\u001b[39;00m \u001b[39misinstance\u001b[39m(x, \u001b[39mstr\u001b[39m):\n\u001b[1;32m----> <a href='vscode-notebook-cell:/d%3A/Learn/git/DSA-Goodrich-Python/DSA%28Goodrich%29%2C%20Chapter1%2C%20Introduction%20to%20Python%20-%20July%2021%2C%202022.ipynb#Y536sZmlsZQ%3D%3D?line=2'>3</a>\u001b[0m         \u001b[39mraise\u001b[39;00m \u001b[39mTypeError\u001b[39;00m(\u001b[39m'\u001b[39m\u001b[39mx should be numeric\u001b[39m\u001b[39m'\u001b[39m)\n\u001b[0;32m      <a href='vscode-notebook-cell:/d%3A/Learn/git/DSA-Goodrich-Python/DSA%28Goodrich%29%2C%20Chapter1%2C%20Introduction%20to%20Python%20-%20July%2021%2C%202022.ipynb#Y536sZmlsZQ%3D%3D?line=3'>4</a>\u001b[0m     \u001b[39melse\u001b[39;00m:\n\u001b[0;32m      <a href='vscode-notebook-cell:/d%3A/Learn/git/DSA-Goodrich-Python/DSA%28Goodrich%29%2C%20Chapter1%2C%20Introduction%20to%20Python%20-%20July%2021%2C%202022.ipynb#Y536sZmlsZQ%3D%3D?line=4'>5</a>\u001b[0m         \u001b[39mreturn\u001b[39;00m x\n",
      "\u001b[1;31mTypeError\u001b[0m: x should be numeric"
     ]
    }
   ],
   "source": [
    "jlt('2')"
   ]
  },
  {
   "cell_type": "markdown",
   "id": "2cd16b3d",
   "metadata": {},
   "source": [
    "1.7.2 Catching an exception - try/except block\n",
    "\n"
   ]
  },
  {
   "cell_type": "code",
   "execution_count": 33,
   "id": "bfa37880",
   "metadata": {},
   "outputs": [],
   "source": [
    "def jlt1():\n",
    "    try:\n",
    "        age = int(input('your age: '))\n",
    "        print(age)\n",
    "\n",
    "    except  ValueError:\n",
    "        print('age should be numeric')\n",
    "\n",
    "    half_age = age/2\n",
    "    print(half_age)"
   ]
  },
  {
   "cell_type": "code",
   "execution_count": 34,
   "id": "59b50e93",
   "metadata": {},
   "outputs": [
    {
     "name": "stdout",
     "output_type": "stream",
     "text": [
      "90\n",
      "45.0\n"
     ]
    }
   ],
   "source": [
    "jlt1()"
   ]
  },
  {
   "cell_type": "code",
   "execution_count": 39,
   "id": "87a00105",
   "metadata": {},
   "outputs": [
    {
     "name": "stdout",
     "output_type": "stream",
     "text": [
      "u r not born yet!\n",
      "u r not born yet!\n",
      "a number please!\n"
     ]
    }
   ],
   "source": [
    "age = -1\n",
    "\n",
    "while age <= 0:\n",
    "    try:\n",
    "        age = int(input('wats ur age:'))\n",
    "        if age <= 0:\n",
    "            print('u r not born yet!')\n",
    "    except ValueError:\n",
    "        print('a number please!')"
   ]
  },
  {
   "cell_type": "code",
   "execution_count": 40,
   "id": "3a4e1631",
   "metadata": {},
   "outputs": [
    {
     "data": {
      "text/plain": [
       "7"
      ]
     },
     "execution_count": 40,
     "metadata": {},
     "output_type": "execute_result"
    }
   ],
   "source": [
    "age"
   ]
  },
  {
   "cell_type": "code",
   "execution_count": 42,
   "id": "920cdd23",
   "metadata": {},
   "outputs": [
    {
     "name": "stdout",
     "output_type": "stream",
     "text": [
      "a number please!\n"
     ]
    },
    {
     "ename": "ValueError",
     "evalue": "invalid literal for int() with base 10: 'bond'",
     "output_type": "error",
     "traceback": [
      "\u001b[1;31m---------------------------------------------------------------------------\u001b[0m",
      "\u001b[1;31mValueError\u001b[0m                                Traceback (most recent call last)",
      "\u001b[1;32md:\\Learn\\git\\DSA-Goodrich-Python\\DSA(Goodrich), Chapter1, Introduction to Python - July 21, 2022.ipynb Cell 279\u001b[0m in \u001b[0;36m<cell line: 3>\u001b[1;34m()\u001b[0m\n\u001b[0;32m      <a href='vscode-notebook-cell:/d%3A/Learn/git/DSA-Goodrich-Python/DSA%28Goodrich%29%2C%20Chapter1%2C%20Introduction%20to%20Python%20-%20July%2021%2C%202022.ipynb#Y546sZmlsZQ%3D%3D?line=2'>3</a>\u001b[0m \u001b[39mwhile\u001b[39;00m age \u001b[39m<\u001b[39m\u001b[39m=\u001b[39m \u001b[39m0\u001b[39m:\n\u001b[0;32m      <a href='vscode-notebook-cell:/d%3A/Learn/git/DSA-Goodrich-Python/DSA%28Goodrich%29%2C%20Chapter1%2C%20Introduction%20to%20Python%20-%20July%2021%2C%202022.ipynb#Y546sZmlsZQ%3D%3D?line=3'>4</a>\u001b[0m     \u001b[39mtry\u001b[39;00m:\n\u001b[1;32m----> <a href='vscode-notebook-cell:/d%3A/Learn/git/DSA-Goodrich-Python/DSA%28Goodrich%29%2C%20Chapter1%2C%20Introduction%20to%20Python%20-%20July%2021%2C%202022.ipynb#Y546sZmlsZQ%3D%3D?line=4'>5</a>\u001b[0m         age \u001b[39m=\u001b[39m \u001b[39mint\u001b[39;49m(\u001b[39minput\u001b[39;49m(\u001b[39m'\u001b[39;49m\u001b[39mwats ur age:\u001b[39;49m\u001b[39m'\u001b[39;49m))\n\u001b[0;32m      <a href='vscode-notebook-cell:/d%3A/Learn/git/DSA-Goodrich-Python/DSA%28Goodrich%29%2C%20Chapter1%2C%20Introduction%20to%20Python%20-%20July%2021%2C%202022.ipynb#Y546sZmlsZQ%3D%3D?line=5'>6</a>\u001b[0m         \u001b[39mif\u001b[39;00m age \u001b[39m<\u001b[39m\u001b[39m=\u001b[39m \u001b[39m0\u001b[39m:\n\u001b[0;32m      <a href='vscode-notebook-cell:/d%3A/Learn/git/DSA-Goodrich-Python/DSA%28Goodrich%29%2C%20Chapter1%2C%20Introduction%20to%20Python%20-%20July%2021%2C%202022.ipynb#Y546sZmlsZQ%3D%3D?line=6'>7</a>\u001b[0m             \u001b[39mprint\u001b[39m(\u001b[39m'\u001b[39m\u001b[39mu r not born yet!\u001b[39m\u001b[39m'\u001b[39m)\n",
      "\u001b[1;31mValueError\u001b[0m: invalid literal for int() with base 10: 'bond'"
     ]
    }
   ],
   "source": [
    "age = -1\n",
    "\n",
    "while age <= 0:\n",
    "    try:\n",
    "        age = int(input('wats ur age:'))\n",
    "        if age <= 0:\n",
    "            print('u r not born yet!')\n",
    "    except ValueError:\n",
    "        print('a number please!')\n",
    "        raise\n"
   ]
  },
  {
   "cell_type": "markdown",
   "id": "5e6f4530",
   "metadata": {},
   "source": [
    "Homework: write a code so that a user can only try wrong password three times \n",
    "          (try/except/finally)"
   ]
  },
  {
   "cell_type": "code",
   "execution_count": 48,
   "id": "504a9046",
   "metadata": {},
   "outputs": [
    {
     "name": "stdout",
     "output_type": "stream",
     "text": [
      "a number please!\n",
      "a number please!\n",
      "a number please!\n",
      "19\n",
      "You cannot get rid of me\n"
     ]
    }
   ],
   "source": [
    "age = -1\n",
    "\n",
    "while age <= 0:\n",
    "    try:\n",
    "        age = int(input('wats ur age:'))\n",
    "        print(age)\n",
    "        if age <= 0:\n",
    "            print('u r not born yet!')\n",
    "    \n",
    "    except ValueError:\n",
    "        print('a number please!')\n",
    "\n",
    "    finally:\n",
    "        print('You cannot get rid of me')\n",
    "    "
   ]
  },
  {
   "cell_type": "code",
   "execution_count": 2,
   "id": "8e120426",
   "metadata": {},
   "outputs": [
    {
     "name": "stdout",
     "output_type": "stream",
     "text": [
      "1000\n"
     ]
    }
   ],
   "source": [
    "age = -1\n",
    "\n",
    "while age <= 0:\n",
    "    try:\n",
    "        age = int(input('wats ur age:'))\n",
    "        print(age)\n",
    "        if age <= 0:\n",
    "            print('u r not born yet!')\n",
    "    \n",
    "    except ValueError:\n",
    "        pass\n"
   ]
  },
  {
   "cell_type": "markdown",
   "id": "6448fe80",
   "metadata": {},
   "source": [
    "1.8 Iterators and Generators\n",
    "\n",
    "Iterable types - list, tuple, set, str"
   ]
  },
  {
   "cell_type": "code",
   "execution_count": 4,
   "id": "7f4cd153",
   "metadata": {},
   "outputs": [
    {
     "name": "stdout",
     "output_type": "stream",
     "text": [
      "1\n",
      "a\n",
      "2\n",
      "b\n"
     ]
    }
   ],
   "source": [
    "x = [1, 'a', 2, 'b']\n",
    "\n",
    "for k in x:\n",
    "    print(k)"
   ]
  },
  {
   "cell_type": "markdown",
   "id": "07281935",
   "metadata": {},
   "source": [
    "Iterator - next(iterator); iter(iterable)"
   ]
  },
  {
   "cell_type": "code",
   "execution_count": 14,
   "id": "fd734dc7",
   "metadata": {},
   "outputs": [],
   "source": [
    "iterator1 = iter(x)"
   ]
  },
  {
   "cell_type": "code",
   "execution_count": 15,
   "id": "b0d77e05",
   "metadata": {},
   "outputs": [
    {
     "data": {
      "text/plain": [
       "1"
      ]
     },
     "execution_count": 15,
     "metadata": {},
     "output_type": "execute_result"
    }
   ],
   "source": [
    "next(iterator1)"
   ]
  },
  {
   "cell_type": "code",
   "execution_count": 16,
   "id": "994c152c",
   "metadata": {},
   "outputs": [
    {
     "data": {
      "text/plain": [
       "['a', 2, 'b']"
      ]
     },
     "execution_count": 16,
     "metadata": {},
     "output_type": "execute_result"
    }
   ],
   "source": [
    "list(iterator1)"
   ]
  },
  {
   "cell_type": "markdown",
   "id": "1e303a79",
   "metadata": {},
   "source": [
    "Iterator confirms to Lazy Evaluation"
   ]
  },
  {
   "cell_type": "code",
   "execution_count": 19,
   "id": "eb882f2e",
   "metadata": {},
   "outputs": [
    {
     "data": {
      "text/plain": [
       "range(0, 1000000)"
      ]
     },
     "execution_count": 19,
     "metadata": {},
     "output_type": "execute_result"
    }
   ],
   "source": [
    "range(1000000)"
   ]
  },
  {
   "cell_type": "code",
   "execution_count": 27,
   "id": "d35950b4",
   "metadata": {},
   "outputs": [
    {
     "data": {
      "text/plain": [
       "0"
      ]
     },
     "execution_count": 27,
     "metadata": {},
     "output_type": "execute_result"
    }
   ],
   "source": [
    "#Home work - Explore range function more\n",
    "next(iter(range(1000000)))\n"
   ]
  },
  {
   "cell_type": "code",
   "execution_count": 28,
   "id": "dde4ef79",
   "metadata": {},
   "outputs": [
    {
     "ename": "TypeError",
     "evalue": "'range' object is not an iterator",
     "output_type": "error",
     "traceback": [
      "\u001b[1;31m---------------------------------------------------------------------------\u001b[0m",
      "\u001b[1;31mTypeError\u001b[0m                                 Traceback (most recent call last)",
      "\u001b[1;32md:\\Learn\\git\\DSA-Goodrich-Python\\DSA(Goodrich), Chapter1, Introduction to Python - July 21, 2022.ipynb Cell 292\u001b[0m in \u001b[0;36m<cell line: 1>\u001b[1;34m()\u001b[0m\n\u001b[1;32m----> <a href='vscode-notebook-cell:/d%3A/Learn/git/DSA-Goodrich-Python/DSA%28Goodrich%29%2C%20Chapter1%2C%20Introduction%20to%20Python%20-%20July%2021%2C%202022.ipynb#Y566sZmlsZQ%3D%3D?line=0'>1</a>\u001b[0m \u001b[39mnext\u001b[39;49m(\u001b[39mrange\u001b[39;49m(\u001b[39m1000000\u001b[39;49m))\n",
      "\u001b[1;31mTypeError\u001b[0m: 'range' object is not an iterator"
     ]
    }
   ],
   "source": [
    "next(range(1000000))"
   ]
  },
  {
   "cell_type": "code",
   "execution_count": 18,
   "id": "850254e5",
   "metadata": {},
   "outputs": [
    {
     "name": "stdout",
     "output_type": "stream",
     "text": [
      "0\n",
      "1\n",
      "2\n",
      "3\n",
      "4\n",
      "5\n",
      "6\n",
      "7\n",
      "8\n",
      "9\n"
     ]
    }
   ],
   "source": [
    "for m in range(10):\n",
    "    print(m)"
   ]
  },
  {
   "cell_type": "markdown",
   "id": "aef481a8",
   "metadata": {},
   "source": [
    "Generators - technique to create iterator"
   ]
  },
  {
   "cell_type": "code",
   "execution_count": null,
   "id": "41f9cb21",
   "metadata": {},
   "outputs": [],
   "source": [
    "def factors(n):\n",
    "    results =[]\n",
    "    for k in range(1, n+1):\n",
    "        if n % k == 0:\n",
    "            results.append(k)\n",
    "\n",
    "    return results"
   ]
  },
  {
   "cell_type": "code",
   "execution_count": 30,
   "id": "4b551e5e",
   "metadata": {},
   "outputs": [],
   "source": [
    "def factors_iter(n):\n",
    "    for k in range(1, n+1):\n",
    "        if n % k == 0:\n",
    "           yield k"
   ]
  },
  {
   "cell_type": "code",
   "execution_count": 31,
   "id": "b1447332",
   "metadata": {},
   "outputs": [],
   "source": [
    "iter_1 = factors_iter(10)"
   ]
  },
  {
   "cell_type": "code",
   "execution_count": 36,
   "id": "03beb7aa",
   "metadata": {},
   "outputs": [
    {
     "ename": "StopIteration",
     "evalue": "",
     "output_type": "error",
     "traceback": [
      "\u001b[1;31m---------------------------------------------------------------------------\u001b[0m",
      "\u001b[1;31mStopIteration\u001b[0m                             Traceback (most recent call last)",
      "\u001b[1;32md:\\Learn\\git\\DSA-Goodrich-Python\\DSA(Goodrich), Chapter1, Introduction to Python - July 21, 2022.ipynb Cell 298\u001b[0m in \u001b[0;36m<cell line: 1>\u001b[1;34m()\u001b[0m\n\u001b[1;32m----> <a href='vscode-notebook-cell:/d%3A/Learn/git/DSA-Goodrich-Python/DSA%28Goodrich%29%2C%20Chapter1%2C%20Introduction%20to%20Python%20-%20July%2021%2C%202022.ipynb#Y603sZmlsZQ%3D%3D?line=0'>1</a>\u001b[0m \u001b[39mnext\u001b[39;49m(iter_1)\n",
      "\u001b[1;31mStopIteration\u001b[0m: "
     ]
    }
   ],
   "source": [
    "next(iter_1)"
   ]
  },
  {
   "cell_type": "code",
   "execution_count": 37,
   "id": "ef42de04",
   "metadata": {},
   "outputs": [],
   "source": [
    "def factors_mult(n):\n",
    "    k = 1\n",
    "    while k * k < n:   # k < sqrt(n)\n",
    "        if n % k == 0:\n",
    "            yield k\n",
    "            yield n // k\n",
    "        k += 1\n",
    "\n",
    "    if  k * k == n: # perfect square\n",
    "        yield k"
   ]
  },
  {
   "cell_type": "code",
   "execution_count": 38,
   "id": "a606733f",
   "metadata": {},
   "outputs": [],
   "source": [
    "opti_iter = factors_mult(100)"
   ]
  },
  {
   "cell_type": "code",
   "execution_count": 48,
   "id": "44279415",
   "metadata": {},
   "outputs": [
    {
     "ename": "StopIteration",
     "evalue": "",
     "output_type": "error",
     "traceback": [
      "\u001b[1;31m---------------------------------------------------------------------------\u001b[0m",
      "\u001b[1;31mStopIteration\u001b[0m                             Traceback (most recent call last)",
      "\u001b[1;32md:\\Learn\\git\\DSA-Goodrich-Python\\DSA(Goodrich), Chapter1, Introduction to Python - July 21, 2022.ipynb Cell 301\u001b[0m in \u001b[0;36m<cell line: 1>\u001b[1;34m()\u001b[0m\n\u001b[1;32m----> <a href='vscode-notebook-cell:/d%3A/Learn/git/DSA-Goodrich-Python/DSA%28Goodrich%29%2C%20Chapter1%2C%20Introduction%20to%20Python%20-%20July%2021%2C%202022.ipynb#Y606sZmlsZQ%3D%3D?line=0'>1</a>\u001b[0m \u001b[39mnext\u001b[39;49m(opti_iter)\n",
      "\u001b[1;31mStopIteration\u001b[0m: "
     ]
    }
   ],
   "source": [
    "next(opti_iter)"
   ]
  },
  {
   "cell_type": "markdown",
   "id": "6c8d9d11",
   "metadata": {},
   "source": [
    "Home work:\n",
    "Create iterator for fibonacci series - \n",
    "0,1,1,2,3,5,8,13,..."
   ]
  },
  {
   "cell_type": "markdown",
   "id": "d8272ccd",
   "metadata": {},
   "source": [
    "Discussing homework for Oct 1, 2022 - \n",
    "\n",
    "We will start with discussing Home work:\n",
    "1) Explore range function (especially in context of iterator like features). \n",
    "2) Create generator for fibonacci series (0,1,1,2,3,5,8,13,...)"
   ]
  },
  {
   "cell_type": "code",
   "execution_count": 1,
   "id": "1f865acb",
   "metadata": {},
   "outputs": [
    {
     "ename": "TypeError",
     "evalue": "'range' object is not an iterator",
     "output_type": "error",
     "traceback": [
      "\u001b[1;31m---------------------------------------------------------------------------\u001b[0m",
      "\u001b[1;31mTypeError\u001b[0m                                 Traceback (most recent call last)",
      "\u001b[1;32md:\\Learn\\git\\DSA-Goodrich-Python\\DSA(Goodrich), Chapter1, Introduction to Python - July 21, 2022.ipynb Cell 304\u001b[0m in \u001b[0;36m<cell line: 3>\u001b[1;34m()\u001b[0m\n\u001b[0;32m      <a href='vscode-notebook-cell:/d%3A/Learn/git/DSA-Goodrich-Python/DSA%28Goodrich%29%2C%20Chapter1%2C%20Introduction%20to%20Python%20-%20July%2021%2C%202022.ipynb#Y612sZmlsZQ%3D%3D?line=0'>1</a>\u001b[0m r \u001b[39m=\u001b[39m \u001b[39mrange\u001b[39m(\u001b[39m3\u001b[39m)\n\u001b[1;32m----> <a href='vscode-notebook-cell:/d%3A/Learn/git/DSA-Goodrich-Python/DSA%28Goodrich%29%2C%20Chapter1%2C%20Introduction%20to%20Python%20-%20July%2021%2C%202022.ipynb#Y612sZmlsZQ%3D%3D?line=2'>3</a>\u001b[0m \u001b[39mnext\u001b[39;49m(r)\n",
      "\u001b[1;31mTypeError\u001b[0m: 'range' object is not an iterator"
     ]
    }
   ],
   "source": [
    "r = range(3)\n",
    "\n",
    "next(r)"
   ]
  },
  {
   "cell_type": "code",
   "execution_count": 2,
   "id": "ad1995e0",
   "metadata": {},
   "outputs": [],
   "source": [
    "#  The following generator produces infinite fibonacci series\n",
    "\n",
    "def fib():\n",
    "    a = 0\n",
    "    b = 1\n",
    "\n",
    "    while True:\n",
    "        yield a\n",
    "        future = a + b\n",
    "        a = b\n",
    "        b = future"
   ]
  },
  {
   "cell_type": "markdown",
   "id": "733030b4",
   "metadata": {},
   "source": [
    "# Fib run\n",
    "a = 0, b = 1, \n",
    "0, future = 1, a = 1, b = 1\n",
    "1, f = 2, a = 1, b = 2\n",
    "1, f = 3, a = 2, b = 3\n",
    "2, f = 5, a = 3, b = 5\n",
    "3, f = 8, a = 5, b = 8\n",
    "5, f = 13, a = 8, b = 13"
   ]
  },
  {
   "cell_type": "code",
   "execution_count": 8,
   "id": "7499ca5d",
   "metadata": {},
   "outputs": [],
   "source": [
    "fib1 = fib()"
   ]
  },
  {
   "cell_type": "code",
   "execution_count": 18,
   "id": "3f18b608",
   "metadata": {},
   "outputs": [
    {
     "data": {
      "text/plain": [
       "34"
      ]
     },
     "execution_count": 18,
     "metadata": {},
     "output_type": "execute_result"
    }
   ],
   "source": [
    "next(fib1)"
   ]
  },
  {
   "cell_type": "markdown",
   "id": "3f2ac203",
   "metadata": {},
   "source": [
    "1.9 Additional Python Conveniences\n",
    "\n",
    "1.9.1 Conditional expressions"
   ]
  },
  {
   "cell_type": "code",
   "execution_count": 21,
   "id": "ea345eae",
   "metadata": {},
   "outputs": [],
   "source": [
    "a = 0"
   ]
  },
  {
   "cell_type": "code",
   "execution_count": 22,
   "id": "6027a254",
   "metadata": {},
   "outputs": [
    {
     "name": "stdout",
     "output_type": "stream",
     "text": [
      "Work\n"
     ]
    }
   ],
   "source": [
    "print('Bits') if a ==1 else print('Work')"
   ]
  },
  {
   "cell_type": "markdown",
   "id": "6b312828",
   "metadata": {},
   "source": [
    "1.9.2 Comprehension Syntax - \n",
    "\n",
    "list, set, generator, dictionary "
   ]
  },
  {
   "cell_type": "code",
   "execution_count": 25,
   "id": "7b031b7e",
   "metadata": {},
   "outputs": [
    {
     "data": {
      "text/plain": [
       "[0, 5, 10, 15, 20, 25, 30, 35, 40, 45]"
      ]
     },
     "execution_count": 25,
     "metadata": {},
     "output_type": "execute_result"
    }
   ],
   "source": [
    "# List comprehension\n",
    "[y for y in range(0,50,5)]"
   ]
  },
  {
   "cell_type": "code",
   "execution_count": 26,
   "id": "3ebd2f35",
   "metadata": {},
   "outputs": [
    {
     "data": {
      "text/plain": [
       "[0, 5, 10, 15, 20, 25, 30, 35, 40, 45]"
      ]
     },
     "execution_count": 26,
     "metadata": {},
     "output_type": "execute_result"
    }
   ],
   "source": [
    "#Alternative\n",
    "x = []\n",
    "for y in range(0,50,5):\n",
    "    x.append(y)\n",
    "x"
   ]
  },
  {
   "cell_type": "code",
   "execution_count": 28,
   "id": "e2ad63b9",
   "metadata": {},
   "outputs": [
    {
     "data": {
      "text/plain": [
       "[0, 15, 30, 45, 60, 75, 90]"
      ]
     },
     "execution_count": 28,
     "metadata": {},
     "output_type": "execute_result"
    }
   ],
   "source": [
    "# List comprehension if optional\n",
    "[y for y in range(0,100, 5) if y % 3 == 0]"
   ]
  },
  {
   "cell_type": "code",
   "execution_count": 29,
   "id": "76c16539",
   "metadata": {},
   "outputs": [
    {
     "data": {
      "text/plain": [
       "[0, 30, 60, 90]"
      ]
     },
     "execution_count": 29,
     "metadata": {},
     "output_type": "execute_result"
    }
   ],
   "source": [
    "# Nested if\n",
    "[y for y in range(0,100,5) if y % 3 == 0 if y % 2 == 0]"
   ]
  },
  {
   "cell_type": "code",
   "execution_count": 35,
   "id": "146cbd9f",
   "metadata": {},
   "outputs": [],
   "source": [
    "#Generator comprehension\n",
    "n = 3\n",
    "\n",
    "total = sum(k*k for k in range(1, n+1))"
   ]
  },
  {
   "cell_type": "code",
   "execution_count": 36,
   "id": "5c4065d0",
   "metadata": {},
   "outputs": [
    {
     "data": {
      "text/plain": [
       "14"
      ]
     },
     "execution_count": 36,
     "metadata": {},
     "output_type": "execute_result"
    }
   ],
   "source": [
    "total"
   ]
  },
  {
   "cell_type": "markdown",
   "id": "6c7ff553",
   "metadata": {},
   "source": [
    "HW 1 = Set and Dictionary comprehension"
   ]
  },
  {
   "cell_type": "markdown",
   "id": "a866404b",
   "metadata": {},
   "source": [
    "1.9.3 \n",
    "Packing and Unpacking of Sequences\n"
   ]
  },
  {
   "cell_type": "code",
   "execution_count": 40,
   "id": "f3c884e9",
   "metadata": {},
   "outputs": [
    {
     "data": {
      "text/plain": [
       "(1, 2)"
      ]
     },
     "execution_count": 40,
     "metadata": {},
     "output_type": "execute_result"
    }
   ],
   "source": [
    "x, y = 1, 2\n",
    "\n",
    "x, y "
   ]
  },
  {
   "cell_type": "code",
   "execution_count": 41,
   "id": "b45d9d50",
   "metadata": {},
   "outputs": [
    {
     "ename": "ValueError",
     "evalue": "too many values to unpack (expected 2)",
     "output_type": "error",
     "traceback": [
      "\u001b[1;31m---------------------------------------------------------------------------\u001b[0m",
      "\u001b[1;31mValueError\u001b[0m                                Traceback (most recent call last)",
      "\u001b[1;32md:\\Learn\\git\\DSA-Goodrich-Python\\DSA(Goodrich), Chapter1, Introduction to Python - July 21, 2022.ipynb Cell 322\u001b[0m in \u001b[0;36m<cell line: 1>\u001b[1;34m()\u001b[0m\n\u001b[1;32m----> <a href='vscode-notebook-cell:/d%3A/Learn/git/DSA-Goodrich-Python/DSA%28Goodrich%29%2C%20Chapter1%2C%20Introduction%20to%20Python%20-%20July%2021%2C%202022.ipynb#Y640sZmlsZQ%3D%3D?line=0'>1</a>\u001b[0m x, y \u001b[39m=\u001b[39m \u001b[39m1\u001b[39m, \u001b[39m2\u001b[39m, \u001b[39m3\u001b[39m\n\u001b[0;32m      <a href='vscode-notebook-cell:/d%3A/Learn/git/DSA-Goodrich-Python/DSA%28Goodrich%29%2C%20Chapter1%2C%20Introduction%20to%20Python%20-%20July%2021%2C%202022.ipynb#Y640sZmlsZQ%3D%3D?line=2'>3</a>\u001b[0m x, y\n",
      "\u001b[1;31mValueError\u001b[0m: too many values to unpack (expected 2)"
     ]
    }
   ],
   "source": [
    "x, y = 1, 2, 3\n",
    "\n",
    "x, y "
   ]
  },
  {
   "cell_type": "code",
   "execution_count": 42,
   "id": "ebf0af64",
   "metadata": {},
   "outputs": [],
   "source": [
    "a, b, c, d = range(7, 11)"
   ]
  },
  {
   "cell_type": "code",
   "execution_count": 43,
   "id": "ca5c5600",
   "metadata": {},
   "outputs": [
    {
     "data": {
      "text/plain": [
       "(7, 8, 9, 10)"
      ]
     },
     "execution_count": 43,
     "metadata": {},
     "output_type": "execute_result"
    }
   ],
   "source": [
    "a, b, c, d"
   ]
  },
  {
   "cell_type": "code",
   "execution_count": 44,
   "id": "13cc4192",
   "metadata": {},
   "outputs": [
    {
     "data": {
      "text/plain": [
       "(3, 2)"
      ]
     },
     "execution_count": 44,
     "metadata": {},
     "output_type": "execute_result"
    }
   ],
   "source": [
    "q, r = divmod(11,3)\n",
    "\n",
    "q, r"
   ]
  },
  {
   "cell_type": "code",
   "execution_count": 48,
   "id": "40cfce0e",
   "metadata": {},
   "outputs": [],
   "source": [
    "def fib():\n",
    "    a = 0\n",
    "    b = 1\n",
    "\n",
    "    while True:\n",
    "        yield a\n",
    "        a, b = b, a+b"
   ]
  },
  {
   "cell_type": "code",
   "execution_count": 49,
   "id": "d1b7ba7b",
   "metadata": {},
   "outputs": [],
   "source": [
    "fib2 = fib()"
   ]
  },
  {
   "cell_type": "code",
   "execution_count": 60,
   "id": "852a1871",
   "metadata": {},
   "outputs": [
    {
     "data": {
      "text/plain": [
       "34"
      ]
     },
     "execution_count": 60,
     "metadata": {},
     "output_type": "execute_result"
    }
   ],
   "source": [
    "next(fib2)"
   ]
  }
 ],
 "metadata": {
  "kernelspec": {
   "display_name": "Python 3.9.6 64-bit",
   "language": "python",
   "name": "python3"
  },
  "language_info": {
   "codemirror_mode": {
    "name": "ipython",
    "version": 3
   },
   "file_extension": ".py",
   "mimetype": "text/x-python",
   "name": "python",
   "nbconvert_exporter": "python",
   "pygments_lexer": "ipython3",
   "version": "3.9.6"
  },
  "vscode": {
   "interpreter": {
    "hash": "07150880df404c78dbae34d33fca60cbec6116fc6507843fab71061c76076a75"
   }
  }
 },
 "nbformat": 4,
 "nbformat_minor": 5
}
