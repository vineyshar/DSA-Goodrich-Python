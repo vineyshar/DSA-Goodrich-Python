{
 "cells": [
  {
   "cell_type": "markdown",
   "id": "d5545a08",
   "metadata": {},
   "source": [
    "# 1.1 Python Overview\n",
    "## Python is a high level language, developed in early 90s by Guido Van Rossum https://www.python.org/\n",
    "\n",
    "### Python 3.0 was released in 2008\n",
    "### It's an interpreted language. \n",
    "### Interpreter can be used interactively (like what we will be doing now) or can be used after writing our codes in a file with extension .py\n",
    "### We can run python from command line or use different IDE for python\n",
    "#### IDLE comes bundled with python downlaod; VS code, pycharm are other popular one\n",
    "#### The one you are seeing is Jupyter notebook (https://jupyter.org/)"
   ]
  },
  {
   "cell_type": "code",
   "execution_count": 4,
   "id": "bf40664f",
   "metadata": {},
   "outputs": [
    {
     "name": "stdout",
     "output_type": "stream",
     "text": [
      "Welcome to Python and DSA\n"
     ]
    }
   ],
   "source": [
    "print('Welcome to Python and DSA')"
   ]
  },
  {
   "cell_type": "markdown",
   "id": "e3217004",
   "metadata": {},
   "source": [
    "# Lets take a small tour of Python, various IDEs and Jupyter Notebook"
   ]
  },
  {
   "cell_type": "markdown",
   "id": "45c2e23d",
   "metadata": {},
   "source": [
    "# Expectation from participants - \n",
    "### Please download latest version of python with IDE of your choice. \n",
    "### A good option is anaconda- https://www.anaconda.com/products/distribution - comes with preinstalled DS/ML libraries and Jupyter notebook"
   ]
  },
  {
   "cell_type": "code",
   "execution_count": 11,
   "id": "8924c4c9",
   "metadata": {},
   "outputs": [
    {
     "name": "stdout",
     "output_type": "stream",
     "text": [
      "lions says: Humans are tasty\n",
      "Again\n",
      "cheetah says: Humans are tasty\n",
      "Again\n",
      "python says: Humans are tasty\n",
      "Again\n"
     ]
    }
   ],
   "source": [
    "# comment and white spaces,indentation effect and command continuing into next line \n",
    "\n",
    "for animal in ['lions', 'cheetah', 'python']:\n",
    "    print(animal, 'says:', 'Humans are tasty')\n",
    "    print('Again')"
   ]
  },
  {
   "cell_type": "markdown",
   "id": "2764cfe2",
   "metadata": {},
   "source": [
    "# 1.2 Objects in Python\n",
    "\n",
    "## Everything is an object in Python\n",
    "\n",
    "## Classes form the basis of all data types"
   ]
  }
 ],
 "metadata": {
  "kernelspec": {
   "display_name": "Python 3 (ipykernel)",
   "language": "python",
   "name": "python3"
  },
  "language_info": {
   "codemirror_mode": {
    "name": "ipython",
    "version": 3
   },
   "file_extension": ".py",
   "mimetype": "text/x-python",
   "name": "python",
   "nbconvert_exporter": "python",
   "pygments_lexer": "ipython3",
   "version": "3.9.6"
  }
 },
 "nbformat": 4,
 "nbformat_minor": 5
}
