{
 "cells": [
  {
   "cell_type": "markdown",
   "id": "d5545a08",
   "metadata": {},
   "source": [
    "# 1.1 Python Overview\n",
    "## Python is a high level language, developed in early 90s by Guido Van Rossum https://www.python.org/\n",
    "\n",
    "### Python 3.0 was released in 2008\n",
    "### It's an interpreted language. \n",
    "### Interpreter can be used interactively (like what we will be doing now) or can be used after writing our codes in a file with extension .py\n",
    "### We can run python from command line or use different IDE for python\n",
    "#### IDLE comes bundled with python downlaod; VS code, pycharm are other popular one\n",
    "#### The one you are seeing is Jupyter notebook (https://jupyter.org/)"
   ]
  },
  {
   "cell_type": "code",
   "execution_count": 4,
   "id": "bf40664f",
   "metadata": {},
   "outputs": [
    {
     "name": "stdout",
     "output_type": "stream",
     "text": [
      "Welcome to Python and DSA\n"
     ]
    }
   ],
   "source": [
    "print('Welcome to Python and DSA')"
   ]
  },
  {
   "cell_type": "markdown",
   "id": "e3217004",
   "metadata": {},
   "source": [
    "# Lets take a small tour of Python, various IDEs and Jupyter Notebook"
   ]
  },
  {
   "cell_type": "markdown",
   "id": "45c2e23d",
   "metadata": {},
   "source": [
    "# Expectation from participants - \n",
    "### Please download latest version of python with IDE of your choice. \n",
    "### A good option is anaconda- https://www.anaconda.com/products/distribution - comes with preinstalled DS/ML libraries and Jupyter notebook"
   ]
  },
  {
   "cell_type": "code",
   "execution_count": 6,
   "id": "8924c4c9",
   "metadata": {},
   "outputs": [
    {
     "name": "stdout",
     "output_type": "stream",
     "text": [
      "lions says: Humans are tasty\n",
      "Again\n",
      "cheetah says: Humans are tasty\n",
      "Again\n",
      "python says: Humans are tasty\n",
      "Again\n"
     ]
    }
   ],
   "source": [
    "# comment and white spaces,indentation effect and command continuing into next line \n",
    "\n",
    "for animal in ['lions', 'cheetah', 'py\\\n",
    "thon']:\n",
    "    print(animal, 'says:', 'Humans are tasty')\n",
    "    print('Again')"
   ]
  },
  {
   "cell_type": "markdown",
   "id": "2764cfe2",
   "metadata": {},
   "source": [
    "# 1.2 Objects in Python\n",
    "\n",
    "## Everything is an object in Python\n",
    "\n",
    "## Classes form the basis of all data types"
   ]
  },
  {
   "cell_type": "markdown",
   "id": "f27c051c",
   "metadata": {},
   "source": [
    "#1.2.1 Identifiers, Objects and assignment statements "
   ]
  },
  {
   "cell_type": "code",
   "execution_count": 7,
   "id": "9b0a2332",
   "metadata": {},
   "outputs": [],
   "source": [
    " weather = 'raining'"
   ]
  },
  {
   "cell_type": "code",
   "execution_count": 12,
   "id": "aa1cdc61",
   "metadata": {},
   "outputs": [],
   "source": [
    "weather = (2,3)"
   ]
  },
  {
   "cell_type": "code",
   "execution_count": 13,
   "id": "65072330",
   "metadata": {},
   "outputs": [
    {
     "data": {
      "text/plain": [
       "tuple"
      ]
     },
     "execution_count": 13,
     "metadata": {},
     "output_type": "execute_result"
    }
   ],
   "source": [
    "type(weather)"
   ]
  },
  {
   "cell_type": "code",
   "execution_count": 14,
   "id": "c39e413d",
   "metadata": {},
   "outputs": [],
   "source": [
    "weather = 10"
   ]
  },
  {
   "cell_type": "code",
   "execution_count": 15,
   "id": "d7af0339",
   "metadata": {},
   "outputs": [
    {
     "data": {
      "text/plain": [
       "int"
      ]
     },
     "execution_count": 15,
     "metadata": {},
     "output_type": "execute_result"
    }
   ],
   "source": [
    "type(weather)"
   ]
  },
  {
   "cell_type": "code",
   "execution_count": 17,
   "id": "d16c1bb8",
   "metadata": {},
   "outputs": [],
   "source": [
    "we_ther = 'cool'"
   ]
  },
  {
   "cell_type": "code",
   "execution_count": 18,
   "id": "742d0f5c",
   "metadata": {},
   "outputs": [],
   "source": [
    "_weather = 'cool'"
   ]
  },
  {
   "cell_type": "code",
   "execution_count": 19,
   "id": "e46ae426",
   "metadata": {},
   "outputs": [
    {
     "ename": "SyntaxError",
     "evalue": "invalid syntax (1903678053.py, line 1)",
     "output_type": "error",
     "traceback": [
      "\u001b[1;36m  Input \u001b[1;32mIn [19]\u001b[1;36m\u001b[0m\n\u001b[1;33m    10weather = 4\u001b[0m\n\u001b[1;37m      ^\u001b[0m\n\u001b[1;31mSyntaxError\u001b[0m\u001b[1;31m:\u001b[0m invalid syntax\n"
     ]
    }
   ],
   "source": [
    "10weather = 4"
   ]
  },
  {
   "cell_type": "code",
   "execution_count": 23,
   "id": "c365f604",
   "metadata": {},
   "outputs": [],
   "source": [
    "weather = 4000"
   ]
  },
  {
   "cell_type": "code",
   "execution_count": 24,
   "id": "c5f9c5df",
   "metadata": {},
   "outputs": [
    {
     "data": {
      "text/plain": [
       "2735145588528"
      ]
     },
     "execution_count": 24,
     "metadata": {},
     "output_type": "execute_result"
    }
   ],
   "source": [
    "id(4000)"
   ]
  },
  {
   "cell_type": "markdown",
   "id": "89443706",
   "metadata": {},
   "source": [
    "#Question - Small Integer Caching and Decimal Numbers are represented in Binary"
   ]
  },
  {
   "cell_type": "code",
   "execution_count": 26,
   "id": "475039fc",
   "metadata": {},
   "outputs": [
    {
     "data": {
      "text/plain": [
       "2735062477200"
      ]
     },
     "execution_count": 26,
     "metadata": {},
     "output_type": "execute_result"
    }
   ],
   "source": [
    "id(4)"
   ]
  },
  {
   "cell_type": "code",
   "execution_count": 27,
   "id": "91050cc8",
   "metadata": {},
   "outputs": [
    {
     "data": {
      "text/plain": [
       "2735062477200"
      ]
     },
     "execution_count": 27,
     "metadata": {},
     "output_type": "execute_result"
    }
   ],
   "source": [
    "weather = 4\n",
    "id(weather)"
   ]
  },
  {
   "cell_type": "code",
   "execution_count": 33,
   "id": "2d2d019e",
   "metadata": {},
   "outputs": [],
   "source": [
    "alias = weather = 4"
   ]
  },
  {
   "cell_type": "code",
   "execution_count": 35,
   "id": "d1bb0eae",
   "metadata": {},
   "outputs": [
    {
     "name": "stdout",
     "output_type": "stream",
     "text": [
      "2735062477200\n",
      "2735062477200\n"
     ]
    }
   ],
   "source": [
    "print(id(alias))\n",
    "print(id(weather))"
   ]
  },
  {
   "cell_type": "code",
   "execution_count": 29,
   "id": "945250c2",
   "metadata": {},
   "outputs": [
    {
     "data": {
      "text/plain": [
       "2735062477200"
      ]
     },
     "execution_count": 29,
     "metadata": {},
     "output_type": "execute_result"
    }
   ],
   "source": [
    "id(alias)"
   ]
  },
  {
   "cell_type": "code",
   "execution_count": 31,
   "id": "71a72e66",
   "metadata": {},
   "outputs": [
    {
     "data": {
      "text/plain": [
       "2735062477232"
      ]
     },
     "execution_count": 31,
     "metadata": {},
     "output_type": "execute_result"
    }
   ],
   "source": [
    "alias = 5\n",
    "id(alias)"
   ]
  },
  {
   "cell_type": "code",
   "execution_count": 32,
   "id": "d9975153",
   "metadata": {},
   "outputs": [
    {
     "data": {
      "text/plain": [
       "2735062477200"
      ]
     },
     "execution_count": 32,
     "metadata": {},
     "output_type": "execute_result"
    }
   ],
   "source": [
    "id(weather)"
   ]
  },
  {
   "cell_type": "code",
   "execution_count": 39,
   "id": "14e4f8cf",
   "metadata": {},
   "outputs": [
    {
     "name": "stdout",
     "output_type": "stream",
     "text": [
      "\n",
      "Here is a list of the Python keywords.  Enter any keyword to get more help.\n",
      "\n",
      "False               break               for                 not\n",
      "None                class               from                or\n",
      "True                continue            global              pass\n",
      "__peg_parser__      def                 if                  raise\n",
      "and                 del                 import              return\n",
      "as                  elif                in                  try\n",
      "assert              else                is                  while\n",
      "async               except              lambda              with\n",
      "await               finally             nonlocal            yield\n",
      "\n"
     ]
    }
   ],
   "source": [
    "help('keywords')"
   ]
  },
  {
   "cell_type": "code",
   "execution_count": null,
   "id": "03d3c230",
   "metadata": {},
   "outputs": [],
   "source": [
    "# Python is dynamically typed language"
   ]
  },
  {
   "cell_type": "markdown",
   "id": "f611cf59",
   "metadata": {},
   "source": [
    "#1.2.2 Creating and Using Objects"
   ]
  },
  {
   "cell_type": "code",
   "execution_count": 40,
   "id": "bf8a8ebe",
   "metadata": {},
   "outputs": [
    {
     "data": {
      "text/plain": [
       "int"
      ]
     },
     "execution_count": 40,
     "metadata": {},
     "output_type": "execute_result"
    }
   ],
   "source": [
    "mango = 70\n",
    "type(mango)"
   ]
  },
  {
   "cell_type": "code",
   "execution_count": 41,
   "id": "1dcfb9c8",
   "metadata": {},
   "outputs": [
    {
     "data": {
      "text/plain": [
       "float"
      ]
     },
     "execution_count": 41,
     "metadata": {},
     "output_type": "execute_result"
    }
   ],
   "source": [
    "mango = 70.0\n",
    "type(mango)"
   ]
  },
  {
   "cell_type": "code",
   "execution_count": 42,
   "id": "44cc6f31",
   "metadata": {},
   "outputs": [
    {
     "data": {
      "text/plain": [
       "str"
      ]
     },
     "execution_count": 42,
     "metadata": {},
     "output_type": "execute_result"
    }
   ],
   "source": [
    "mango = 'seventy'\n",
    "type(mango)"
   ]
  },
  {
   "cell_type": "code",
   "execution_count": 50,
   "id": "40136af5",
   "metadata": {},
   "outputs": [
    {
     "name": "stdout",
     "output_type": "stream",
     "text": [
      "0\n"
     ]
    },
    {
     "data": {
      "text/plain": [
       "int"
      ]
     },
     "execution_count": 50,
     "metadata": {},
     "output_type": "execute_result"
    }
   ],
   "source": [
    "mango = int()\n",
    "print(mango)\n",
    "type(mango)"
   ]
  },
  {
   "cell_type": "code",
   "execution_count": 51,
   "id": "1a745199",
   "metadata": {},
   "outputs": [
    {
     "data": {
      "text/plain": [
       "0"
      ]
     },
     "execution_count": 51,
     "metadata": {},
     "output_type": "execute_result"
    }
   ],
   "source": [
    "second_mango = 0\n",
    "second_mango"
   ]
  },
  {
   "cell_type": "code",
   "execution_count": 52,
   "id": "bd993c24",
   "metadata": {},
   "outputs": [
    {
     "data": {
      "text/plain": [
       "True"
      ]
     },
     "execution_count": 52,
     "metadata": {},
     "output_type": "execute_result"
    }
   ],
   "source": [
    "mango == second_mango"
   ]
  },
  {
   "cell_type": "code",
   "execution_count": 61,
   "id": "4d52b8c2",
   "metadata": {},
   "outputs": [
    {
     "name": "stdout",
     "output_type": "stream",
     "text": [
      "\n",
      "2735062664816\n",
      "\n",
      "2735062664816\n",
      "True\n"
     ]
    },
    {
     "data": {
      "text/plain": [
       "True"
      ]
     },
     "execution_count": 61,
     "metadata": {},
     "output_type": "execute_result"
    }
   ],
   "source": [
    "third_mango = str()\n",
    "\n",
    "print(third_mango)\n",
    "print(id(third_mango))\n",
    "\n",
    "fourth_mango = ''\n",
    "print(fourth_mango)\n",
    "print(id(fourth_mango))\n",
    "\n",
    "print(third_mango == fourth_mango)\n",
    "\n",
    "id(third_mango) == id(fourth_mango)\n"
   ]
  },
  {
   "cell_type": "code",
   "execution_count": 60,
   "id": "61dc0b76",
   "metadata": {},
   "outputs": [
    {
     "name": "stdout",
     "output_type": "stream",
     "text": [
      "2735174159984\n",
      "2735062664816\n"
     ]
    }
   ],
   "source": [
    "print(id('Langda'))\n",
    "print(id(''))"
   ]
  },
  {
   "cell_type": "code",
   "execution_count": 62,
   "id": "10518995",
   "metadata": {},
   "outputs": [
    {
     "data": {
      "text/plain": [
       "6"
      ]
     },
     "execution_count": 62,
     "metadata": {},
     "output_type": "execute_result"
    }
   ],
   "source": [
    "2*3"
   ]
  },
  {
   "cell_type": "code",
   "execution_count": 67,
   "id": "92a8aa74",
   "metadata": {},
   "outputs": [
    {
     "data": {
      "text/plain": [
       "4"
      ]
     },
     "execution_count": 67,
     "metadata": {},
     "output_type": "execute_result"
    }
   ],
   "source": [
    "int('two')"
   ]
  },
  {
   "cell_type": "code",
   "execution_count": 68,
   "id": "4aa0918f",
   "metadata": {},
   "outputs": [
    {
     "data": {
      "text/plain": [
       "4"
      ]
     },
     "execution_count": 68,
     "metadata": {},
     "output_type": "execute_result"
    }
   ],
   "source": [
    "int(4.5)"
   ]
  },
  {
   "cell_type": "code",
   "execution_count": 69,
   "id": "5f18af12",
   "metadata": {},
   "outputs": [
    {
     "data": {
      "text/plain": [
       "'2'"
      ]
     },
     "execution_count": 69,
     "metadata": {},
     "output_type": "execute_result"
    }
   ],
   "source": [
    "str(2)"
   ]
  },
  {
   "cell_type": "code",
   "execution_count": 70,
   "id": "be976c03",
   "metadata": {},
   "outputs": [
    {
     "data": {
      "text/plain": [
       "'2222'"
      ]
     },
     "execution_count": 70,
     "metadata": {},
     "output_type": "execute_result"
    }
   ],
   "source": [
    "str(2) * 4"
   ]
  },
  {
   "cell_type": "code",
   "execution_count": 71,
   "id": "136be73f",
   "metadata": {},
   "outputs": [
    {
     "data": {
      "text/plain": [
       "2222"
      ]
     },
     "execution_count": 71,
     "metadata": {},
     "output_type": "execute_result"
    }
   ],
   "source": [
    "int('2222')"
   ]
  },
  {
   "cell_type": "code",
   "execution_count": 72,
   "id": "78e1b18d",
   "metadata": {},
   "outputs": [
    {
     "data": {
      "text/plain": [
       "0.0"
      ]
     },
     "execution_count": 72,
     "metadata": {},
     "output_type": "execute_result"
    }
   ],
   "source": [
    "float()"
   ]
  },
  {
   "cell_type": "code",
   "execution_count": 75,
   "id": "63329aa1",
   "metadata": {},
   "outputs": [
    {
     "name": "stdout",
     "output_type": "stream",
     "text": [
      "Bits\n",
      "BITS\n"
     ]
    }
   ],
   "source": [
    "print('bits'.capitalize())\n",
    "print('bits'.upper())\n"
   ]
  },
  {
   "cell_type": "code",
   "execution_count": null,
   "id": "86336755",
   "metadata": {},
   "outputs": [],
   "source": [
    "#1.2.3 Python's built in classes"
   ]
  },
  {
   "cell_type": "code",
   "execution_count": 80,
   "id": "8d1cae33",
   "metadata": {},
   "outputs": [
    {
     "name": "stdout",
     "output_type": "stream",
     "text": [
      "2735062477200\n",
      "2735062477200\n",
      "2735062477232\n",
      "2735062477232\n"
     ]
    }
   ],
   "source": [
    "four = 4\n",
    "print(id(4))\n",
    "print(id(four))\n",
    "\n",
    "four = 5\n",
    "print(id(5))\n",
    "print(id(four))"
   ]
  },
  {
   "cell_type": "code",
   "execution_count": 81,
   "id": "0c5b3982",
   "metadata": {},
   "outputs": [
    {
     "name": "stdout",
     "output_type": "stream",
     "text": [
      "True\n"
     ]
    }
   ],
   "source": [
    "print(True)"
   ]
  },
  {
   "cell_type": "code",
   "execution_count": 86,
   "id": "dd12c171",
   "metadata": {},
   "outputs": [
    {
     "data": {
      "text/plain": [
       "(1, 0)"
      ]
     },
     "execution_count": 86,
     "metadata": {},
     "output_type": "execute_result"
    }
   ],
   "source": [
    "int(True), int(False)"
   ]
  },
  {
   "cell_type": "code",
   "execution_count": 88,
   "id": "de5c9dda",
   "metadata": {},
   "outputs": [
    {
     "data": {
      "text/plain": [
       "[1, 2, 9, 'langda', [2, 'bits']]"
      ]
     },
     "execution_count": 88,
     "metadata": {},
     "output_type": "execute_result"
    }
   ],
   "source": [
    "list = [1,2, 9, 'langda', [2, 'bits']] \n",
    "\n",
    "list"
   ]
  },
  {
   "cell_type": "code",
   "execution_count": 90,
   "id": "782fdc61",
   "metadata": {},
   "outputs": [
    {
     "data": {
      "text/plain": [
       "2"
      ]
     },
     "execution_count": 90,
     "metadata": {},
     "output_type": "execute_result"
    }
   ],
   "source": [
    "#list['start':'stop-1':'step']"
   ]
  },
  {
   "cell_type": "code",
   "execution_count": 92,
   "id": "7c6aa28c",
   "metadata": {},
   "outputs": [
    {
     "data": {
      "text/plain": [
       "[2, 9, 'langda']"
      ]
     },
     "execution_count": 92,
     "metadata": {},
     "output_type": "execute_result"
    }
   ],
   "source": [
    "list[1:4]"
   ]
  },
  {
   "cell_type": "code",
   "execution_count": 94,
   "id": "c0da2064",
   "metadata": {},
   "outputs": [
    {
     "data": {
      "text/plain": [
       "'ag'"
      ]
     },
     "execution_count": 94,
     "metadata": {},
     "output_type": "execute_result"
    }
   ],
   "source": [
    "'mango'[1:4:2]"
   ]
  },
  {
   "cell_type": "code",
   "execution_count": 103,
   "id": "7f758d80",
   "metadata": {},
   "outputs": [
    {
     "data": {
      "text/plain": [
       "list"
      ]
     },
     "execution_count": 103,
     "metadata": {},
     "output_type": "execute_result"
    }
   ],
   "source": [
    "mango_varieties = ['langda', 'dusheri']\n",
    "mango_varieties\n",
    "type(mango_varieties)"
   ]
  },
  {
   "cell_type": "code",
   "execution_count": 104,
   "metadata": {},
   "outputs": [],
   "source": [
    "mango_varieties.append('Neelam')"
   ]
  },
  {
   "cell_type": "code",
   "execution_count": 105,
   "metadata": {},
   "outputs": [
    {
     "data": {
      "text/plain": [
       "['langda', 'dusheri', 'Neelam']"
      ]
     },
     "execution_count": 105,
     "metadata": {},
     "output_type": "execute_result"
    }
   ],
   "source": [
    "mango_varieties"
   ]
  },
  {
   "cell_type": "code",
   "execution_count": 107,
   "id": "2ec4d3bb",
   "metadata": {},
   "outputs": [
    {
     "data": {
      "text/plain": [
       "tuple"
      ]
     },
     "execution_count": 107,
     "metadata": {},
     "output_type": "execute_result"
    }
   ],
   "source": [
    "mango_varieties = ('langda', 'dusheri')\n",
    "\n",
    "type(mango_varieties)"
   ]
  },
  {
   "cell_type": "code",
   "execution_count": 110,
   "id": "68e36694",
   "metadata": {},
   "outputs": [
    {
     "ename": "AttributeError",
     "evalue": "'tuple' object has no attribute 'append'",
     "output_type": "error",
     "traceback": [
      "\u001b[1;31m---------------------------------------------------------------------------\u001b[0m",
      "\u001b[1;31mAttributeError\u001b[0m                            Traceback (most recent call last)",
      "\u001b[1;32md:\\Learn\\git\\DSA-Goodrich-Python\\DSA(Goodrich), Chapter1, Introduction to Python - July 21, 2022.ipynb Cell 57\u001b[0m in \u001b[0;36m<cell line: 1>\u001b[1;34m()\u001b[0m\n\u001b[1;32m----> <a href='vscode-notebook-cell:/d%3A/Learn/git/DSA-Goodrich-Python/DSA%28Goodrich%29%2C%20Chapter1%2C%20Introduction%20to%20Python%20-%20July%2021%2C%202022.ipynb#ch0000067?line=0'>1</a>\u001b[0m mango_varieties\u001b[39m.\u001b[39;49mappend(\u001b[39m'\u001b[39m\u001b[39mNeelam\u001b[39m\u001b[39m'\u001b[39m)\n",
      "\u001b[1;31mAttributeError\u001b[0m: 'tuple' object has no attribute 'append'"
     ]
    }
   ],
   "source": [
    "mango_varieties.append('Neelam')"
   ]
  },
  {
   "cell_type": "markdown",
   "id": "a1c8134a",
   "metadata": {},
   "source": [
    "mango_varieties.append('Neelam')"
   ]
  },
  {
   "cell_type": "code",
   "execution_count": 112,
   "id": "b8f0de7d",
   "metadata": {},
   "outputs": [
    {
     "data": {
      "text/plain": [
       "16"
      ]
     },
     "execution_count": 112,
     "metadata": {},
     "output_type": "execute_result"
    }
   ],
   "source": [
    "t1 = (16)\n",
    "\n",
    "t1"
   ]
  },
  {
   "cell_type": "code",
   "execution_count": 115,
   "id": "c239df6e",
   "metadata": {},
   "outputs": [
    {
     "name": "stdout",
     "output_type": "stream",
     "text": [
      "(16,)\n"
     ]
    },
    {
     "data": {
      "text/plain": [
       "tuple"
      ]
     },
     "execution_count": 115,
     "metadata": {},
     "output_type": "execute_result"
    }
   ],
   "source": [
    "t1 = (16,)\n",
    "print(t1)\n",
    "type(t1)"
   ]
  },
  {
   "cell_type": "code",
   "execution_count": 116,
   "id": "10b52a0c",
   "metadata": {},
   "outputs": [
    {
     "data": {
      "text/plain": [
       "{1, 2, 'a'}"
      ]
     },
     "execution_count": 116,
     "metadata": {},
     "output_type": "execute_result"
    }
   ],
   "source": [
    "set1 = {1,2, 2, 'a', 'a'}\n",
    "\n",
    "set1"
   ]
  },
  {
   "cell_type": "code",
   "execution_count": 118,
   "id": "749790bc",
   "metadata": {},
   "outputs": [
    {
     "data": {
      "text/plain": [
       "{2, 3, 'a', 'b'}"
      ]
     },
     "execution_count": 118,
     "metadata": {},
     "output_type": "execute_result"
    }
   ],
   "source": [
    "set2 = {3,2, 2, 'b', 'a', 'a'}\n",
    "\n",
    "set2"
   ]
  },
  {
   "cell_type": "code",
   "execution_count": 121,
   "id": "c7f8ddbe",
   "metadata": {},
   "outputs": [
    {
     "data": {
      "text/plain": [
       "'langda'"
      ]
     },
     "execution_count": 121,
     "metadata": {},
     "output_type": "execute_result"
    }
   ],
   "source": [
    "mango_varieties[0]"
   ]
  },
  {
   "cell_type": "code",
   "execution_count": 123,
   "id": "72e2dca4",
   "metadata": {},
   "outputs": [
    {
     "ename": "TypeError",
     "evalue": "'set' object is not subscriptable",
     "output_type": "error",
     "traceback": [
      "\u001b[1;31m---------------------------------------------------------------------------\u001b[0m",
      "\u001b[1;31mTypeError\u001b[0m                                 Traceback (most recent call last)",
      "\u001b[1;32md:\\Learn\\git\\DSA-Goodrich-Python\\DSA(Goodrich), Chapter1, Introduction to Python - July 21, 2022.ipynb Cell 64\u001b[0m in \u001b[0;36m<cell line: 1>\u001b[1;34m()\u001b[0m\n\u001b[1;32m----> <a href='vscode-notebook-cell:/d%3A/Learn/git/DSA-Goodrich-Python/DSA%28Goodrich%29%2C%20Chapter1%2C%20Introduction%20to%20Python%20-%20July%2021%2C%202022.ipynb#ch0000073?line=0'>1</a>\u001b[0m set2[\u001b[39m1\u001b[39;49m]\n",
      "\u001b[1;31mTypeError\u001b[0m: 'set' object is not subscriptable"
     ]
    }
   ],
   "source": [
    "set2[1]"
   ]
  },
  {
   "cell_type": "code",
   "execution_count": null,
   "id": "099d41a8",
   "metadata": {},
   "outputs": [],
   "source": [
    "# dict = {key:value}"
   ]
  },
  {
   "cell_type": "code",
   "execution_count": 129,
   "id": "0fc4aa48",
   "metadata": {},
   "outputs": [],
   "source": [
    "dict = {'name': 'viney', 'age' : 1000, 'address' : 'mars'}"
   ]
  },
  {
   "cell_type": "code",
   "execution_count": 130,
   "id": "75dffdd6",
   "metadata": {},
   "outputs": [
    {
     "data": {
      "text/plain": [
       "'viney'"
      ]
     },
     "execution_count": 130,
     "metadata": {},
     "output_type": "execute_result"
    }
   ],
   "source": [
    "dict['name']"
   ]
  },
  {
   "cell_type": "code",
   "execution_count": 131,
   "id": "1d084a92",
   "metadata": {},
   "outputs": [
    {
     "ename": "TypeError",
     "evalue": "unhashable type: 'list'",
     "output_type": "error",
     "traceback": [
      "\u001b[1;31m---------------------------------------------------------------------------\u001b[0m",
      "\u001b[1;31mTypeError\u001b[0m                                 Traceback (most recent call last)",
      "\u001b[1;32md:\\Learn\\git\\DSA-Goodrich-Python\\DSA(Goodrich), Chapter1, Introduction to Python - July 21, 2022.ipynb Cell 68\u001b[0m in \u001b[0;36m<cell line: 1>\u001b[1;34m()\u001b[0m\n\u001b[1;32m----> <a href='vscode-notebook-cell:/d%3A/Learn/git/DSA-Goodrich-Python/DSA%28Goodrich%29%2C%20Chapter1%2C%20Introduction%20to%20Python%20-%20July%2021%2C%202022.ipynb#ch0000077?line=0'>1</a>\u001b[0m \u001b[39mdict\u001b[39m \u001b[39m=\u001b[39m {\u001b[39m'\u001b[39m\u001b[39mname\u001b[39m\u001b[39m'\u001b[39m: \u001b[39m'\u001b[39m\u001b[39mviney\u001b[39m\u001b[39m'\u001b[39m, [\u001b[39m2\u001b[39m,\u001b[39m3\u001b[39m,\u001b[39m4\u001b[39m]: \u001b[39m1000\u001b[39m, \u001b[39m'\u001b[39m\u001b[39maddress\u001b[39m\u001b[39m'\u001b[39m : \u001b[39m'\u001b[39m\u001b[39mmars\u001b[39m\u001b[39m'\u001b[39m}\n",
      "\u001b[1;31mTypeError\u001b[0m: unhashable type: 'list'"
     ]
    }
   ],
   "source": [
    "dict = {'name': 'viney', [2,3,4]: 1000, 'address' : 'mars'}"
   ]
  }
 ],
 "metadata": {
  "kernelspec": {
   "display_name": "Python 3.9.6 64-bit",
   "language": "python",
   "name": "python3"
  },
  "language_info": {
   "codemirror_mode": {
    "name": "ipython",
    "version": 3
   },
   "file_extension": ".py",
   "mimetype": "text/x-python",
   "name": "python",
   "nbconvert_exporter": "python",
   "pygments_lexer": "ipython3",
   "version": "3.9.6"
  },
  "vscode": {
   "interpreter": {
    "hash": "07150880df404c78dbae34d33fca60cbec6116fc6507843fab71061c76076a75"
   }
  }
 },
 "nbformat": 4,
 "nbformat_minor": 5
}
