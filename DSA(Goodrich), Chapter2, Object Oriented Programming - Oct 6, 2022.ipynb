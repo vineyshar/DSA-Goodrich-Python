{
 "cells": [
  {
   "cell_type": "markdown",
   "metadata": {},
   "source": [
    "OOP- \n",
    "Main actors are objects (car, vehicle)\n",
    "\n",
    "Classes --> instances \n",
    "\n",
    "encapsulation, inheritance, Reusability (codes are object should be used later)\n",
    "\n",
    "encapsulation --> (data and functionality bound together)\n",
    "\n",
    "instance variables (data members), methods(member functions)"
   ]
  },
  {
   "cell_type": "markdown",
   "metadata": {},
   "source": [
    "2.1.1 Object Oriented Design Goals\n",
    "\n",
    "a) Robustnes(able to recover from errors) --> Therac - 25 \n",
    "\n",
    "b) Adaptibility (evolve over time, portability) \n",
    "\n",
    "c) Reusability --> Therac 20 was couldn't be reused with Therac 25"
   ]
  },
  {
   "cell_type": "markdown",
   "metadata": {},
   "source": [
    "Homework--> Explore Therac-25 incident in the context of OOP\n",
    "\n",
    "Answer- \n",
    "\n",
    "Excess raditation therapy \n",
    "buffer overflow bug\n",
    "Errors was shown\n",
    "not unit tested \n",
    "no boundary values from software and hardware in Therac 25\n",
    "Therac 20 was manually operated and had no issue\n",
    "\n",
    "It violates Robustness and Reusability "
   ]
  },
  {
   "cell_type": "code",
   "execution_count": 4,
   "metadata": {},
   "outputs": [
    {
     "data": {
      "text/plain": [
       "3.1622776601683795"
      ]
     },
     "execution_count": 4,
     "metadata": {},
     "output_type": "execute_result"
    }
   ],
   "source": [
    "import math\n",
    "\n",
    "math.sqrt(10)\n"
   ]
  },
  {
   "cell_type": "code",
   "execution_count": 2,
   "metadata": {},
   "outputs": [
    {
     "name": "stdout",
     "output_type": "stream",
     "text": [
      "My name is Viney\n"
     ]
    }
   ],
   "source": [
    "from namecall import myname\n",
    "\n",
    "myname('Viney')"
   ]
  },
  {
   "cell_type": "markdown",
   "metadata": {},
   "source": [
    "2.1.2 Object Oriented Design Principles\n",
    "\n",
    "a) Modularity - different modules have different functions.\n",
    "                easy to understand\n",
    "                code management\n",
    "                changing small parts in isolated manner(helping reusabilty ---> one of the goals OOP)\n",
    "                \n",
    "b) Abstraction - interface between user and program, concept, blueprint\n",
    "                 distill to the fundamental parts. Abstract Data Type --> what functionality it has but not how it acqires that functionality.   \n",
    "                 Abstract Base Classes(ABC) ---> collections (module)\n",
    "\n",
    "c) Encapsulation - start your variable with '_'"
   ]
  },
  {
   "cell_type": "markdown",
   "metadata": {},
   "source": [
    "2.1.3 Design Patterns\n",
    "\n",
    "a) Algorithm - Recursion, Divide and Conquer, Greedy Method, Brute Force\n",
    "\n",
    "b) Software Engineering - Iterator, Adaptor, Position, Composition, Template, Factory "
   ]
  },
  {
   "cell_type": "markdown",
   "metadata": {},
   "source": [
    "Homework - Explore collections module in context of abstraction in Python "
   ]
  },
  {
   "cell_type": "code",
   "execution_count": null,
   "metadata": {},
   "outputs": [],
   "source": []
  }
 ],
 "metadata": {
  "kernelspec": {
   "display_name": "Python 3.9.6 64-bit",
   "language": "python",
   "name": "python3"
  },
  "language_info": {
   "codemirror_mode": {
    "name": "ipython",
    "version": 3
   },
   "file_extension": ".py",
   "mimetype": "text/x-python",
   "name": "python",
   "nbconvert_exporter": "python",
   "pygments_lexer": "ipython3",
   "version": "3.9.6"
  },
  "orig_nbformat": 4,
  "vscode": {
   "interpreter": {
    "hash": "07150880df404c78dbae34d33fca60cbec6116fc6507843fab71061c76076a75"
   }
  }
 },
 "nbformat": 4,
 "nbformat_minor": 2
}
