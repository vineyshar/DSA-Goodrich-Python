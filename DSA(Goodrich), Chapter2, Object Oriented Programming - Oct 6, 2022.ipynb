{
 "cells": [
  {
   "cell_type": "markdown",
   "metadata": {},
   "source": [
    "OOP- \n",
    "Main actors are objects (car, vehicle)\n",
    "\n",
    "Classes --> instances \n",
    "\n",
    "encapsulation, inheritance, Reusability (codes are object should be used later)\n",
    "\n",
    "encapsulation --> (data and functionality bound together)\n",
    "\n",
    "instance variables (data members), methods(member functions)"
   ]
  },
  {
   "cell_type": "markdown",
   "metadata": {},
   "source": [
    "2.1.1 Object Oriented Design Goals\n",
    "\n",
    "a) Robustnes(able to recover from errors) --> Therac - 25 \n",
    "\n",
    "b) Adaptibility (evolve over time, portability) \n",
    "\n",
    "c) Reusability --> Therac 20 was couldn't be reused with Therac 25"
   ]
  },
  {
   "cell_type": "markdown",
   "metadata": {},
   "source": [
    "Homework--> Explore Therac-25 incident in the context of OOP"
   ]
  }
 ],
 "metadata": {
  "language_info": {
   "name": "python"
  },
  "orig_nbformat": 4
 },
 "nbformat": 4,
 "nbformat_minor": 2
}
