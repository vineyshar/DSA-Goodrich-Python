{
 "cells": [
  {
   "cell_type": "code",
   "execution_count": 1,
   "id": "bd9518af",
   "metadata": {},
   "outputs": [
    {
     "name": "stdout",
     "output_type": "stream",
     "text": [
      "User Name: Google\n",
      "Password: Password123@12\n"
     ]
    }
   ],
   "source": [
    "Username1=input(\"User Name: \")\n",
    "Password1=input(\"Password: \")"
   ]
  },
  {
   "cell_type": "code",
   "execution_count": 2,
   "id": "7d223910",
   "metadata": {},
   "outputs": [
    {
     "name": "stdout",
     "output_type": "stream",
     "text": [
      "User Name: dsafd\n",
      "Incorrect User name, plz try again\n",
      "User Name: dfsf\n",
      "Incorrect User name, plz try again\n",
      "User Name: Google\n",
      "Password: Password123@12\n",
      "yor successfully Logged in :)\n"
     ]
    }
   ],
   "source": [
    "class Error(Exception):\n",
    "    pass  #Empty class\n",
    "class incorrectUsername(Error):\n",
    "    pass\n",
    "class incorrectPassword(Error):\n",
    "    pass\n",
    "i=0\n",
    "while True:\n",
    "    try:\n",
    "        User=input(\"User Name: \")\n",
    "        if User==Username1:\n",
    "            PC=input(\"Password: \")\n",
    "            if PC==Password1:\n",
    "                print(\"yor successfully Logged in :)\")\n",
    "            else:\n",
    "                raise incorrectPassword\n",
    "        else:\n",
    "            raise incorrectUsername\n",
    "        break\n",
    "    except incorrectPassword:\n",
    "        print(\"Incorrect Password, plz try again\")\n",
    "        i+=1\n",
    "        if(i==3):\n",
    "            break\n",
    "    except incorrectUsername:\n",
    "        print(\"Incorrect User name, plz try again\")\n",
    "        i+=1\n",
    "        if(i==3):\n",
    "            break"
   ]
  },
  {
   "cell_type": "code",
   "execution_count": null,
   "id": "1ee0b114",
   "metadata": {},
   "outputs": [],
   "source": []
  }
 ],
 "metadata": {
  "kernelspec": {
   "display_name": "Python 3 (ipykernel)",
   "language": "python",
   "name": "python3"
  },
  "language_info": {
   "codemirror_mode": {
    "name": "ipython",
    "version": 3
   },
   "file_extension": ".py",
   "mimetype": "text/x-python",
   "name": "python",
   "nbconvert_exporter": "python",
   "pygments_lexer": "ipython3",
   "version": "3.9.7"
  }
 },
 "nbformat": 4,
 "nbformat_minor": 5
}
