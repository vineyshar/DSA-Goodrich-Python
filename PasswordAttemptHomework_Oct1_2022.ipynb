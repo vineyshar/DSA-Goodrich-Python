{
 "cells": [
  {
   "cell_type": "code",
   "execution_count": 29,
   "metadata": {},
   "outputs": [
    {
     "name": "stdout",
     "output_type": "stream",
     "text": [
      "kem cho\n",
      "Wrong Password!\n",
      "***********************************\n",
      "kive ho tussi!\n",
      "Wrong Password!\n",
      "***********************************\n",
      "hello\n",
      "you are welcome!\n"
     ]
    }
   ],
   "source": [
    "count = 0\n",
    "pwd = 'hello'\n",
    "\n",
    "while count < 3:\n",
    "    pwd1 = input('password please:')\n",
    "    print(pwd1)\n",
    "    if pwd1 == pwd:\n",
    "        print('you are welcome!')\n",
    "        break    \n",
    "    else:\n",
    "        print('Wrong Password!')\n",
    "        print('***********************************')\n",
    "        count += 1\n",
    "\n",
    "if count == 3:\n",
    "    print('''You have exhausted all of your 3 attempts!\n",
    "            Try again after 24 hours''')"
   ]
  },
  {
   "cell_type": "code",
   "execution_count": 19,
   "metadata": {},
   "outputs": [],
   "source": [
    "x = [2,3,4]\n"
   ]
  },
  {
   "cell_type": "code",
   "execution_count": 17,
   "metadata": {},
   "outputs": [],
   "source": [
    "y = iter(x)\n",
    "z = iter(x)"
   ]
  },
  {
   "cell_type": "code",
   "execution_count": 22,
   "metadata": {},
   "outputs": [
    {
     "ename": "StopIteration",
     "evalue": "",
     "output_type": "error",
     "traceback": [
      "\u001b[1;31m---------------------------------------------------------------------------\u001b[0m",
      "\u001b[1;31mStopIteration\u001b[0m                             Traceback (most recent call last)",
      "\u001b[1;32md:\\Learn\\git\\DSA-Goodrich-Python\\PasswordAttemptHomework_Oct1_2022.ipynb Cell 4\u001b[0m in \u001b[0;36m<cell line: 1>\u001b[1;34m()\u001b[0m\n\u001b[1;32m----> <a href='vscode-notebook-cell:/d%3A/Learn/git/DSA-Goodrich-Python/PasswordAttemptHomework_Oct1_2022.ipynb#W3sZmlsZQ%3D%3D?line=0'>1</a>\u001b[0m \u001b[39mnext\u001b[39;49m(y)\n",
      "\u001b[1;31mStopIteration\u001b[0m: "
     ]
    }
   ],
   "source": [
    "next(y)"
   ]
  },
  {
   "cell_type": "code",
   "execution_count": 15,
   "metadata": {},
   "outputs": [
    {
     "ename": "StopIteration",
     "evalue": "",
     "output_type": "error",
     "traceback": [
      "\u001b[1;31m---------------------------------------------------------------------------\u001b[0m",
      "\u001b[1;31mStopIteration\u001b[0m                             Traceback (most recent call last)",
      "\u001b[1;32md:\\Learn\\git\\DSA-Goodrich-Python\\PasswordAttemptHomework_Oct1_2022.ipynb Cell 4\u001b[0m in \u001b[0;36m<cell line: 1>\u001b[1;34m()\u001b[0m\n\u001b[1;32m----> <a href='vscode-notebook-cell:/d%3A/Learn/git/DSA-Goodrich-Python/PasswordAttemptHomework_Oct1_2022.ipynb#W4sZmlsZQ%3D%3D?line=0'>1</a>\u001b[0m \u001b[39mnext\u001b[39;49m(z)\n",
      "\u001b[1;31mStopIteration\u001b[0m: "
     ]
    }
   ],
   "source": [
    "next(z)"
   ]
  },
  {
   "cell_type": "code",
   "execution_count": 25,
   "metadata": {},
   "outputs": [
    {
     "data": {
      "text/plain": [
       "range"
      ]
     },
     "execution_count": 25,
     "metadata": {},
     "output_type": "execute_result"
    }
   ],
   "source": [
    "type(range(10))"
   ]
  }
 ],
 "metadata": {
  "kernelspec": {
   "display_name": "Python 3.9.6 64-bit",
   "language": "python",
   "name": "python3"
  },
  "language_info": {
   "codemirror_mode": {
    "name": "ipython",
    "version": 3
   },
   "file_extension": ".py",
   "mimetype": "text/x-python",
   "name": "python",
   "nbconvert_exporter": "python",
   "pygments_lexer": "ipython3",
   "version": "3.9.6"
  },
  "orig_nbformat": 4,
  "vscode": {
   "interpreter": {
    "hash": "07150880df404c78dbae34d33fca60cbec6116fc6507843fab71061c76076a75"
   }
  }
 },
 "nbformat": 4,
 "nbformat_minor": 2
}
