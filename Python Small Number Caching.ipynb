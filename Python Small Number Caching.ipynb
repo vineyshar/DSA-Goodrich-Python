{
 "cells": [
  {
   "cell_type": "markdown",
   "id": "1ef0f1ba",
   "metadata": {},
   "source": [
    "# Small number caching in python (-5, 256)"
   ]
  },
  {
   "cell_type": "code",
   "execution_count": 212,
   "id": "56b2d486",
   "metadata": {},
   "outputs": [
    {
     "name": "stdout",
     "output_type": "stream",
     "text": [
      "251 251\n",
      "252 252\n",
      "253 253\n",
      "254 254\n",
      "255 255\n",
      "256 256\n",
      "257 257\n",
      "257\n"
     ]
    }
   ],
   "source": [
    "a, b = 250, 250\n",
    "for i in range(250, 260):\n",
    "    if a is not b:\n",
    "        break\n",
    "    a += 1\n",
    "    b += 1\n",
    "    print(a,b)\n",
    "print(a)\n",
    "# What's the output of this code snippet?"
   ]
  },
  {
   "cell_type": "code",
   "execution_count": 219,
   "id": "83e05ca3",
   "metadata": {},
   "outputs": [
    {
     "name": "stdout",
     "output_type": "stream",
     "text": [
      "9 9\n",
      "8 8\n",
      "7 7\n",
      "6 6\n",
      "5 5\n",
      "4 4\n",
      "3 3\n",
      "2 2\n",
      "1 1\n",
      "0 0\n",
      "-1 -1\n",
      "-2 -2\n",
      "-3 -3\n",
      "-4 -4\n",
      "-5 -5\n",
      "-6 -6\n",
      "-6\n"
     ]
    }
   ],
   "source": [
    "a, b = 10, 10\n",
    "for i in range(20):\n",
    "    if a is not b:\n",
    "        break\n",
    "    a -= 1\n",
    "    b -= 1\n",
    "    print(a,b)\n",
    "print(a)\n",
    "# What's the output of this code snippet?"
   ]
  },
  {
   "cell_type": "code",
   "execution_count": 213,
   "id": "e79d5336",
   "metadata": {},
   "outputs": [
    {
     "name": "stdout",
     "output_type": "stream",
     "text": [
      "True\n"
     ]
    }
   ],
   "source": [
    "if a==b: print('True')"
   ]
  },
  {
   "cell_type": "code",
   "execution_count": 214,
   "id": "75ed0013",
   "metadata": {},
   "outputs": [
    {
     "name": "stdout",
     "output_type": "stream",
     "text": [
      "a!=b\n"
     ]
    }
   ],
   "source": [
    "if a is not b: print('a!=b')"
   ]
  },
  {
   "cell_type": "code",
   "execution_count": 221,
   "id": "ad7a42d8",
   "metadata": {},
   "outputs": [
    {
     "name": "stdout",
     "output_type": "stream",
     "text": [
      "m==n at -900\n",
      "m is n at -900\n",
      "i==j at 900\n",
      "i is j at 900\n"
     ]
    }
   ],
   "source": [
    "m,n=-900,-900\n",
    "i,j=900, 900\n",
    "if m==n:print('m==n at -900')\n",
    "if m is n: print('m is n at -900')\n",
    "\n",
    "if i==j:print('i==j at 900')\n",
    "if i is j: print('i is j at 900')\n"
   ]
  },
  {
   "cell_type": "markdown",
   "id": "22cb920d",
   "metadata": {},
   "source": [
    "Finding factors"
   ]
  },
  {
   "cell_type": "code",
   "execution_count": 217,
   "id": "6959036e",
   "metadata": {},
   "outputs": [
    {
     "name": "stdout",
     "output_type": "stream",
     "text": [
      "2\n",
      "3\n",
      "5\n",
      "6\n",
      "10\n",
      "15\n"
     ]
    }
   ],
   "source": [
    "for i in range (2,30):\n",
    "    if 30%i==0: print(i)"
   ]
  },
  {
   "cell_type": "code",
   "execution_count": 227,
   "id": "8f1d0222",
   "metadata": {},
   "outputs": [
    {
     "data": {
      "text/plain": [
       "(2724006610416, 2724006610416)"
      ]
     },
     "execution_count": 227,
     "metadata": {},
     "output_type": "execute_result"
    }
   ],
   "source": [
    "a,b=-1000000,-1000000\n",
    "id(a), id(b)\n",
    "#a==b"
   ]
  },
  {
   "cell_type": "code",
   "execution_count": 229,
   "id": "eed224dc",
   "metadata": {},
   "outputs": [
    {
     "data": {
      "text/plain": [
       "(2724006609136, 2724006609136)"
      ]
     },
     "execution_count": 229,
     "metadata": {},
     "output_type": "execute_result"
    }
   ],
   "source": [
    "a,b=12120300031,12120300031\n",
    "id(a), id(b)"
   ]
  },
  {
   "cell_type": "code",
   "execution_count": 231,
   "id": "3345f09f",
   "metadata": {},
   "outputs": [
    {
     "data": {
      "text/plain": [
       "0.0010000000000000009"
      ]
     },
     "execution_count": 231,
     "metadata": {},
     "output_type": "execute_result"
    }
   ],
   "source": [
    ".101-.1"
   ]
  },
  {
   "cell_type": "code",
   "execution_count": 235,
   "id": "1c90b552",
   "metadata": {},
   "outputs": [
    {
     "data": {
      "text/plain": [
       "Decimal('0.1000000000000000055511151231257827021181583404541015625')"
      ]
     },
     "execution_count": 235,
     "metadata": {},
     "output_type": "execute_result"
    }
   ],
   "source": [
    "import decimal\n",
    "decimal.Decimal(.1)"
   ]
  },
  {
   "cell_type": "markdown",
   "id": "08a1797d",
   "metadata": {},
   "source": [
    "diff between import math, from math import *\n",
    "homework: important python modules for DSA (Data Structure and Algorithms)"
   ]
  },
  {
   "cell_type": "code",
   "execution_count": 237,
   "id": "f81773fe",
   "metadata": {},
   "outputs": [
    {
     "name": "stdout",
     "output_type": "stream",
     "text": [
      "4.4501477170144023e-308\n",
      "4.4501477170144022721148195934182639518696390927032912960468522194496444440421538910330590478162701758282983178260792422137401728773891892910553144148156412434867599762821265346585071045737627442980259622449029037796981144446145705102663115100318287949527959668236039986479250965780342141637013812613333119898765515451440315261253813266652951306000184917766328660755595837392240989947807556594098101021612198814605258742579179000071675999344145086087205681577915435923018910334964869420614052182892431445797605163650903606514140377217442262561590244668525767372446430075513332450079650686719491377688478005309963967709758965844137894433796621993967316936280457084866613206797017728916080020698679408551343728867675409720757232455434770912461317493580281734466552734375E-308\n",
      "773\n",
      "0x1.fffffffffffffp-1022\n"
     ]
    }
   ],
   "source": [
    "import decimal\n",
    "f=1<<1022\n",
    "u=1<<(1022+53-1)\n",
    "y=2/f-1/u\n",
    "print(repr(y))\n",
    "print(decimal.Decimal(y))\n",
    "print(len(str(decimal.Decimal(y))))\n",
    "print(float.hex(y))"
   ]
  },
  {
   "cell_type": "code",
   "execution_count": 238,
   "id": "0f4f1ce3",
   "metadata": {},
   "outputs": [],
   "source": [
    "#You can hardly decipher the second form with its 773 characters (767 significand digits+1char for dot+5chars for exponent).\n",
    "\n",
    "#NOTA: in python 2.7, set y with this line\n",
    "\n",
    "y=float(2/decimal.Decimal(f)-1/decimal.Decimal(u))"
   ]
  },
  {
   "cell_type": "code",
   "execution_count": 239,
   "id": "99efefac",
   "metadata": {},
   "outputs": [
    {
     "name": "stdout",
     "output_type": "stream",
     "text": [
      "4.4501477170144023e-308\n"
     ]
    }
   ],
   "source": [
    "print(y)"
   ]
  },
  {
   "cell_type": "code",
   "execution_count": 240,
   "id": "9f81f79b",
   "metadata": {},
   "outputs": [
    {
     "name": "stdout",
     "output_type": "stream",
     "text": [
      "0.1000000000000000055511151231257827021181583404541015625\n"
     ]
    }
   ],
   "source": [
    "print(\"%.9999g\" % .1)"
   ]
  },
  {
   "cell_type": "markdown",
   "id": "71a7536a",
   "metadata": {},
   "source": [
    "In some Python implementations, you can use print(\"%.9999g\" % (1.5-1.4)). This should print the number with 9999 significant digits but with trailing zeroes suppressed—in effect all the significant digits of the number.\n",
    "\n",
    "Python implementations may rely on underlying hardware and software for floating-point services, possibly including the formatting provided by %.9999g. Some implementations might not provide all digits needed to see the exact value. They may show the value rounded to about 16 digits, for example, in spite of the fact 9999 were requested."
   ]
  },
  {
   "cell_type": "code",
   "execution_count": 241,
   "id": "b7e2107e",
   "metadata": {},
   "outputs": [
    {
     "data": {
      "text/plain": [
       "'4.4501477170144023e-308'"
      ]
     },
     "execution_count": 241,
     "metadata": {},
     "output_type": "execute_result"
    }
   ],
   "source": [
    "repr(y)"
   ]
  },
  {
   "cell_type": "code",
   "execution_count": 242,
   "id": "53afe9fc",
   "metadata": {},
   "outputs": [
    {
     "data": {
      "text/plain": [
       "'0.000000000000'"
      ]
     },
     "execution_count": 242,
     "metadata": {},
     "output_type": "execute_result"
    }
   ],
   "source": [
    "format(y, '.12f')"
   ]
  },
  {
   "cell_type": "code",
   "execution_count": 243,
   "id": "5c471a45",
   "metadata": {},
   "outputs": [
    {
     "data": {
      "text/plain": [
       "1.1"
      ]
     },
     "execution_count": 243,
     "metadata": {},
     "output_type": "execute_result"
    }
   ],
   "source": [
    "eval(repr(1.1))"
   ]
  },
  {
   "cell_type": "code",
   "execution_count": 244,
   "id": "b0af3441",
   "metadata": {},
   "outputs": [
    {
     "name": "stdout",
     "output_type": "stream",
     "text": [
      "0.0\n"
     ]
    }
   ],
   "source": [
    "x=float()\n",
    "print(x)"
   ]
  },
  {
   "cell_type": "code",
   "execution_count": 245,
   "id": "94d4a0a1",
   "metadata": {},
   "outputs": [
    {
     "name": "stdout",
     "output_type": "stream",
     "text": [
      "9.87e-08\n"
     ]
    }
   ],
   "source": [
    "print(.0000000987) # scientific notation"
   ]
  },
  {
   "cell_type": "code",
   "execution_count": 247,
   "id": "d476e5ce",
   "metadata": {},
   "outputs": [
    {
     "name": "stdout",
     "output_type": "stream",
     "text": [
      "0.00000780\n"
     ]
    }
   ],
   "source": [
    "print(f'{.0000078:.8f}') # prints in decimal notation"
   ]
  },
  {
   "cell_type": "code",
   "execution_count": 248,
   "id": "89f40c26",
   "metadata": {},
   "outputs": [
    {
     "name": "stdout",
     "output_type": "stream",
     "text": [
      "0.0000998800\n"
     ]
    }
   ],
   "source": [
    "abc=.00009988\n",
    "print(f'{abc:.10f}')"
   ]
  },
  {
   "cell_type": "code",
   "execution_count": 249,
   "id": "f2f6c290",
   "metadata": {},
   "outputs": [
    {
     "name": "stdout",
     "output_type": "stream",
     "text": [
      "100000\n"
     ]
    }
   ],
   "source": [
    "print(1_00_000)"
   ]
  },
  {
   "cell_type": "code",
   "execution_count": null,
   "id": "1e1de02b",
   "metadata": {},
   "outputs": [],
   "source": []
  },
  {
   "cell_type": "code",
   "execution_count": null,
   "id": "5159ad91",
   "metadata": {},
   "outputs": [],
   "source": []
  }
 ],
 "metadata": {
  "kernelspec": {
   "display_name": "Python 3 (ipykernel)",
   "language": "python",
   "name": "python3"
  },
  "language_info": {
   "codemirror_mode": {
    "name": "ipython",
    "version": 3
   },
   "file_extension": ".py",
   "mimetype": "text/x-python",
   "name": "python",
   "nbconvert_exporter": "python",
   "pygments_lexer": "ipython3",
   "version": "3.9.12"
  }
 },
 "nbformat": 4,
 "nbformat_minor": 5
}
