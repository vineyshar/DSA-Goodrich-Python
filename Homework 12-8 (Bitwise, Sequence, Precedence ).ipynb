{
 "cells": [
  {
   "cell_type": "code",
   "execution_count": 1,
   "id": "b0506be3",
   "metadata": {},
   "outputs": [
    {
     "ename": "NameError",
     "evalue": "name 'Print' is not defined",
     "output_type": "error",
     "traceback": [
      "\u001b[1;31m---------------------------------------------------------------------------\u001b[0m",
      "\u001b[1;31mNameError\u001b[0m                                 Traceback (most recent call last)",
      "\u001b[1;32m~\\AppData\\Local\\Temp/ipykernel_5816/2150093425.py\u001b[0m in \u001b[0;36m<module>\u001b[1;34m\u001b[0m\n\u001b[1;32m----> 1\u001b[1;33m \u001b[0mPrint\u001b[0m \u001b[1;33m(\u001b[0m\u001b[0mHello\u001b[0m\u001b[1;33m)\u001b[0m\u001b[1;33m\u001b[0m\u001b[1;33m\u001b[0m\u001b[0m\n\u001b[0m",
      "\u001b[1;31mNameError\u001b[0m: name 'Print' is not defined"
     ]
    }
   ],
   "source": [
    "Print (Hello)\n"
   ]
  },
  {
   "cell_type": "code",
   "execution_count": 2,
   "id": "c25eb506",
   "metadata": {},
   "outputs": [
    {
     "ename": "NameError",
     "evalue": "name 'Print' is not defined",
     "output_type": "error",
     "traceback": [
      "\u001b[1;31m---------------------------------------------------------------------------\u001b[0m",
      "\u001b[1;31mNameError\u001b[0m                                 Traceback (most recent call last)",
      "\u001b[1;32m~\\AppData\\Local\\Temp/ipykernel_5816/462568237.py\u001b[0m in \u001b[0;36m<module>\u001b[1;34m\u001b[0m\n\u001b[1;32m----> 1\u001b[1;33m \u001b[0mPrint\u001b[0m\u001b[1;33m(\u001b[0m\u001b[1;34m'hello'\u001b[0m\u001b[1;33m)\u001b[0m\u001b[1;33m\u001b[0m\u001b[1;33m\u001b[0m\u001b[0m\n\u001b[0m",
      "\u001b[1;31mNameError\u001b[0m: name 'Print' is not defined"
     ]
    }
   ],
   "source": [
    "Print('hello')\n"
   ]
  },
  {
   "cell_type": "code",
   "execution_count": 6,
   "id": "36137a3e",
   "metadata": {},
   "outputs": [
    {
     "name": "stdout",
     "output_type": "stream",
     "text": [
      "hello\n"
     ]
    }
   ],
   "source": [
    "print('hello')\n"
   ]
  },
  {
   "cell_type": "code",
   "execution_count": 7,
   "id": "9f97e152",
   "metadata": {},
   "outputs": [
    {
     "data": {
      "text/plain": [
       "int"
      ]
     },
     "execution_count": 7,
     "metadata": {},
     "output_type": "execute_result"
    }
   ],
   "source": [
    "type(1)\n"
   ]
  },
  {
   "cell_type": "code",
   "execution_count": 15,
   "id": "d037c8b2",
   "metadata": {},
   "outputs": [
    {
     "data": {
      "text/plain": [
       "str"
      ]
     },
     "execution_count": 15,
     "metadata": {},
     "output_type": "execute_result"
    }
   ],
   "source": [
    "type('a''b')"
   ]
  },
  {
   "cell_type": "code",
   "execution_count": 17,
   "id": "8cbc6e44",
   "metadata": {},
   "outputs": [
    {
     "data": {
      "text/plain": [
       "str"
      ]
     },
     "execution_count": 17,
     "metadata": {},
     "output_type": "execute_result"
    }
   ],
   "source": [
    "type(\"a\"\"b\")"
   ]
  },
  {
   "cell_type": "markdown",
   "id": "aa3714ca",
   "metadata": {},
   "source": [
    "#Bitwise Operator Not(~)\n",
    "a=10\n",
    "1010\n",
    "-(1010+1)\n",
    "c=-10\n",
    "d=-(-10+1)"
   ]
  },
  {
   "cell_type": "code",
   "execution_count": 34,
   "id": "be107563",
   "metadata": {},
   "outputs": [
    {
     "name": "stdout",
     "output_type": "stream",
     "text": [
      "-11\n",
      "9\n"
     ]
    }
   ],
   "source": [
    "a = 0b1010 #10\n",
    "b=~a\n",
    "print(b)\n",
    "\n",
    "c = -10\n",
    "d=~c\n",
    "print(d)"
   ]
  },
  {
   "cell_type": "markdown",
   "id": "71e32e60",
   "metadata": {},
   "source": [
    "#Bitwise Operator And(&)\n",
    "a=10 (1010)\n",
    "b=6 (0110)\n"
   ]
  },
  {
   "cell_type": "code",
   "execution_count": 7,
   "id": "ef6661e6",
   "metadata": {},
   "outputs": [
    {
     "name": "stdout",
     "output_type": "stream",
     "text": [
      "2\n"
     ]
    }
   ],
   "source": [
    "a=10\n",
    "b=6\n",
    "c=a&b\n",
    "print (c)"
   ]
  },
  {
   "cell_type": "markdown",
   "id": "73d2eaad",
   "metadata": {},
   "source": [
    "Bitwise xor operator(^): Returns 1 if one of the bits is 1 and the other is 0 else returns false.\n",
    "a=10 (1010)\n",
    "b=6  (0110)"
   ]
  },
  {
   "cell_type": "code",
   "execution_count": 8,
   "id": "cf7e674a",
   "metadata": {},
   "outputs": [
    {
     "name": "stdout",
     "output_type": "stream",
     "text": [
      "12\n"
     ]
    }
   ],
   "source": [
    "a=10\n",
    "b=6 \n",
    "c=a^b\n",
    "print (c)"
   ]
  },
  {
   "cell_type": "code",
   "execution_count": null,
   "id": "12b68c9b",
   "metadata": {},
   "outputs": [],
   "source": [
    "#Sequence Operators Tuple"
   ]
  },
  {
   "cell_type": "code",
   "execution_count": 17,
   "id": "ebea46c0",
   "metadata": {},
   "outputs": [
    {
     "data": {
      "text/plain": [
       "('Vada Pav',\n",
       " 'Pizza',\n",
       " 'Makki roti',\n",
       " 'Poha',\n",
       " ('Aloo tikki', 'Baati', 'Khichdi'),\n",
       " 2,\n",
       " 20)"
      ]
     },
     "execution_count": 17,
     "metadata": {},
     "output_type": "execute_result"
    }
   ],
   "source": [
    "D = ('Vada Pav', 'Pizza','Aloo tikki', 'Baati', 'Khichdi', 'Makki roti', 'Poha', 2,1, 5*4 )\n",
    "D[0],D[1],D[5],D[6],D[2:5:1],D[7],D[9]"
   ]
  },
  {
   "cell_type": "code",
   "execution_count": 28,
   "id": "ef29c21d",
   "metadata": {},
   "outputs": [
    {
     "name": "stdout",
     "output_type": "stream",
     "text": [
      "False\n",
      "True\n",
      "True\n",
      "False\n",
      "False\n",
      "True\n"
     ]
    }
   ],
   "source": [
    "a = ('Vada Pav', 'Pizza','Aloo tikki', 'Baati', 'Khichdi', 'Makki roti', 'Poha', 2,1, 5*4 )\n",
    "b = ('Aloo tikki','Vada Pav','Pizza','Baati', 'Khichdi', 'Makki roti', 'Poha', 2,1, 6*4 )\n",
    "c = ('B','C','A')\n",
    "d = ('b','c','a')\n",
    "e = ('Vada Pav', 'Pizza')\n",
    "f = ('Vada Pav', 'Pizza')\n",
    "\n",
    "     \n",
    "W= ('Aloo tikki','Vada Pav','Pizza','Baati', 'Khichdi', 'Makki roti', 'Poha', 2,1, 6*4 )\n",
    "z=a==b\n",
    "y=a>b\n",
    "x=a!=b\n",
    "w=c==d\n",
    "v=c>d\n",
    "s=e==f\n",
    "\n",
    "print(z)\n",
    "print(y)\n",
    "print(x)\n",
    "print(w)\n",
    "print(v)\n",
    "print(s)\n"
   ]
  },
  {
   "cell_type": "markdown",
   "id": "5ab0d4a7",
   "metadata": {},
   "source": [
    "A compound expression -> is a series of simple expressions joined by arithmetic operators. A simple expression used in a compound expression must return a numeric value.\n",
    "\n",
    "Operator precedence >> affects how an expression is evaluated.\n",
    "Ref Link: https://www.programiz.com/python-programming/precedence-associativity#:~:text=Precedence%20of%20Python%20Operators&text=There%20can%20be%20more%20than,has%20higher%20precedence%20than%20subtraction.\n",
    "\n"
   ]
  },
  {
   "cell_type": "code",
   "execution_count": 38,
   "id": "c782cd18",
   "metadata": {},
   "outputs": [
    {
     "name": "stdout",
     "output_type": "stream",
     "text": [
      "Value of (a + b) * c / d is  64.0\n",
      "Value of (a + b) * (c / d) is  64.0\n",
      "Value of a + (b * c) / d is  34.0\n"
     ]
    }
   ],
   "source": [
    "#Operator precedence\n",
    "\n",
    "a = 10\n",
    "b = 6\n",
    "c = 8\n",
    "d = 2\n",
    "\n",
    "\n",
    "e = (a + b) * c / d       #( 16 * 8 ) / 2\n",
    "print (\"Value of (a + b) * c / d is \",  e)\n",
    "\n",
    "e = (a + b) * (c / d);    # (16) * (8/2)\n",
    "print (\"Value of (a + b) * (c / d) is \",  e)\n",
    "\n",
    "e = a + (b * c) / d;      #  10 + (48/2)\n",
    "print (\"Value of a + (b * c) / d is \",  e)"
   ]
  },
  {
   "cell_type": "code",
   "execution_count": null,
   "id": "2c7557ea",
   "metadata": {},
   "outputs": [],
   "source": []
  }
 ],
 "metadata": {
  "kernelspec": {
   "display_name": "Python 3 (ipykernel)",
   "language": "python",
   "name": "python3"
  },
  "language_info": {
   "codemirror_mode": {
    "name": "ipython",
    "version": 3
   },
   "file_extension": ".py",
   "mimetype": "text/x-python",
   "name": "python",
   "nbconvert_exporter": "python",
   "pygments_lexer": "ipython3",
   "version": "3.9.7"
  }
 },
 "nbformat": 4,
 "nbformat_minor": 5
}
